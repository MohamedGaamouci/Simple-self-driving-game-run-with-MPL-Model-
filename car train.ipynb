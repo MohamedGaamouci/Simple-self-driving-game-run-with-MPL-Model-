{
 "cells": [
  {
   "cell_type": "code",
   "execution_count": 1,
   "id": "4c7152e4",
   "metadata": {},
   "outputs": [],
   "source": [
    "from sklearn.neural_network import MLPClassifier as mlp\n",
    "import numpy as np \n",
    "import pandas as pd \n",
    "import matplotlib.pyplot as plt"
   ]
  },
  {
   "cell_type": "code",
   "execution_count": 2,
   "id": "d7f6ecbc",
   "metadata": {},
   "outputs": [
    {
     "data": {
      "text/html": [
       "<div>\n",
       "<style scoped>\n",
       "    .dataframe tbody tr th:only-of-type {\n",
       "        vertical-align: middle;\n",
       "    }\n",
       "\n",
       "    .dataframe tbody tr th {\n",
       "        vertical-align: top;\n",
       "    }\n",
       "\n",
       "    .dataframe thead th {\n",
       "        text-align: right;\n",
       "    }\n",
       "</style>\n",
       "<table border=\"1\" class=\"dataframe\">\n",
       "  <thead>\n",
       "    <tr style=\"text-align: right;\">\n",
       "      <th></th>\n",
       "      <th>Unnamed: 0</th>\n",
       "      <th>front_distance</th>\n",
       "      <th>back_distance</th>\n",
       "      <th>left_distance</th>\n",
       "      <th>right_distance</th>\n",
       "      <th>action</th>\n",
       "    </tr>\n",
       "  </thead>\n",
       "  <tbody>\n",
       "    <tr>\n",
       "      <th>0</th>\n",
       "      <td>0</td>\n",
       "      <td>112.362036</td>\n",
       "      <td>174.233713</td>\n",
       "      <td>84.776390</td>\n",
       "      <td>47.116193</td>\n",
       "      <td>retreat</td>\n",
       "    </tr>\n",
       "    <tr>\n",
       "      <th>1</th>\n",
       "      <td>1</td>\n",
       "      <td>285.214292</td>\n",
       "      <td>158.091495</td>\n",
       "      <td>137.602977</td>\n",
       "      <td>28.652630</td>\n",
       "      <td>advance</td>\n",
       "    </tr>\n",
       "    <tr>\n",
       "      <th>2</th>\n",
       "      <td>2</td>\n",
       "      <td>219.598183</td>\n",
       "      <td>105.311085</td>\n",
       "      <td>29.764649</td>\n",
       "      <td>41.381760</td>\n",
       "      <td>advance</td>\n",
       "    </tr>\n",
       "    <tr>\n",
       "      <th>3</th>\n",
       "      <td>3</td>\n",
       "      <td>179.597545</td>\n",
       "      <td>147.963797</td>\n",
       "      <td>134.051108</td>\n",
       "      <td>142.046819</td>\n",
       "      <td>advance</td>\n",
       "    </tr>\n",
       "    <tr>\n",
       "      <th>4</th>\n",
       "      <td>4</td>\n",
       "      <td>46.805592</td>\n",
       "      <td>109.528991</td>\n",
       "      <td>60.924405</td>\n",
       "      <td>265.360207</td>\n",
       "      <td>turn_right</td>\n",
       "    </tr>\n",
       "    <tr>\n",
       "      <th>...</th>\n",
       "      <td>...</td>\n",
       "      <td>...</td>\n",
       "      <td>...</td>\n",
       "      <td>...</td>\n",
       "      <td>...</td>\n",
       "      <td>...</td>\n",
       "    </tr>\n",
       "    <tr>\n",
       "      <th>99995</th>\n",
       "      <td>99995</td>\n",
       "      <td>237.691449</td>\n",
       "      <td>186.644990</td>\n",
       "      <td>27.843197</td>\n",
       "      <td>225.044485</td>\n",
       "      <td>advance</td>\n",
       "    </tr>\n",
       "    <tr>\n",
       "      <th>99996</th>\n",
       "      <td>99996</td>\n",
       "      <td>233.775869</td>\n",
       "      <td>188.766151</td>\n",
       "      <td>187.689432</td>\n",
       "      <td>81.758344</td>\n",
       "      <td>advance</td>\n",
       "    </tr>\n",
       "    <tr>\n",
       "      <th>99997</th>\n",
       "      <td>99997</td>\n",
       "      <td>202.336022</td>\n",
       "      <td>57.661103</td>\n",
       "      <td>187.998499</td>\n",
       "      <td>172.676609</td>\n",
       "      <td>advance</td>\n",
       "    </tr>\n",
       "    <tr>\n",
       "      <th>99998</th>\n",
       "      <td>99998</td>\n",
       "      <td>149.834173</td>\n",
       "      <td>195.924807</td>\n",
       "      <td>14.294983</td>\n",
       "      <td>268.001937</td>\n",
       "      <td>turn_right</td>\n",
       "    </tr>\n",
       "    <tr>\n",
       "      <th>99999</th>\n",
       "      <td>99999</td>\n",
       "      <td>116.972546</td>\n",
       "      <td>0.468024</td>\n",
       "      <td>211.223173</td>\n",
       "      <td>150.726795</td>\n",
       "      <td>turn_left</td>\n",
       "    </tr>\n",
       "  </tbody>\n",
       "</table>\n",
       "<p>100000 rows × 6 columns</p>\n",
       "</div>"
      ],
      "text/plain": [
       "       Unnamed: 0  front_distance  back_distance  left_distance  \\\n",
       "0               0      112.362036     174.233713      84.776390   \n",
       "1               1      285.214292     158.091495     137.602977   \n",
       "2               2      219.598183     105.311085      29.764649   \n",
       "3               3      179.597545     147.963797     134.051108   \n",
       "4               4       46.805592     109.528991      60.924405   \n",
       "...           ...             ...            ...            ...   \n",
       "99995       99995      237.691449     186.644990      27.843197   \n",
       "99996       99996      233.775869     188.766151     187.689432   \n",
       "99997       99997      202.336022      57.661103     187.998499   \n",
       "99998       99998      149.834173     195.924807      14.294983   \n",
       "99999       99999      116.972546       0.468024     211.223173   \n",
       "\n",
       "       right_distance      action  \n",
       "0           47.116193     retreat  \n",
       "1           28.652630     advance  \n",
       "2           41.381760     advance  \n",
       "3          142.046819     advance  \n",
       "4          265.360207  turn_right  \n",
       "...               ...         ...  \n",
       "99995      225.044485     advance  \n",
       "99996       81.758344     advance  \n",
       "99997      172.676609     advance  \n",
       "99998      268.001937  turn_right  \n",
       "99999      150.726795   turn_left  \n",
       "\n",
       "[100000 rows x 6 columns]"
      ]
     },
     "execution_count": 2,
     "metadata": {},
     "output_type": "execute_result"
    }
   ],
   "source": [
    "data = pd.read_csv(r'robot_dataset.csv')\n",
    "data"
   ]
  },
  {
   "cell_type": "code",
   "execution_count": 3,
   "id": "c277d936",
   "metadata": {},
   "outputs": [
    {
     "name": "stdout",
     "output_type": "stream",
     "text": [
      "(100000, 6)\n",
      "(100000, 6)\n"
     ]
    }
   ],
   "source": [
    "print(data.shape)\n",
    "data = data.dropna(axis = 0)\n",
    "print(data.shape)"
   ]
  },
  {
   "cell_type": "code",
   "execution_count": 4,
   "id": "2c772705",
   "metadata": {},
   "outputs": [
    {
     "data": {
      "text/html": [
       "<div>\n",
       "<style scoped>\n",
       "    .dataframe tbody tr th:only-of-type {\n",
       "        vertical-align: middle;\n",
       "    }\n",
       "\n",
       "    .dataframe tbody tr th {\n",
       "        vertical-align: top;\n",
       "    }\n",
       "\n",
       "    .dataframe thead th {\n",
       "        text-align: right;\n",
       "    }\n",
       "</style>\n",
       "<table border=\"1\" class=\"dataframe\">\n",
       "  <thead>\n",
       "    <tr style=\"text-align: right;\">\n",
       "      <th></th>\n",
       "      <th>front_distance</th>\n",
       "      <th>back_distance</th>\n",
       "      <th>left_distance</th>\n",
       "      <th>right_distance</th>\n",
       "      <th>action</th>\n",
       "    </tr>\n",
       "  </thead>\n",
       "  <tbody>\n",
       "    <tr>\n",
       "      <th>0</th>\n",
       "      <td>112.362036</td>\n",
       "      <td>174.233713</td>\n",
       "      <td>84.776390</td>\n",
       "      <td>47.116193</td>\n",
       "      <td>retreat</td>\n",
       "    </tr>\n",
       "    <tr>\n",
       "      <th>1</th>\n",
       "      <td>285.214292</td>\n",
       "      <td>158.091495</td>\n",
       "      <td>137.602977</td>\n",
       "      <td>28.652630</td>\n",
       "      <td>advance</td>\n",
       "    </tr>\n",
       "    <tr>\n",
       "      <th>2</th>\n",
       "      <td>219.598183</td>\n",
       "      <td>105.311085</td>\n",
       "      <td>29.764649</td>\n",
       "      <td>41.381760</td>\n",
       "      <td>advance</td>\n",
       "    </tr>\n",
       "    <tr>\n",
       "      <th>3</th>\n",
       "      <td>179.597545</td>\n",
       "      <td>147.963797</td>\n",
       "      <td>134.051108</td>\n",
       "      <td>142.046819</td>\n",
       "      <td>advance</td>\n",
       "    </tr>\n",
       "    <tr>\n",
       "      <th>4</th>\n",
       "      <td>46.805592</td>\n",
       "      <td>109.528991</td>\n",
       "      <td>60.924405</td>\n",
       "      <td>265.360207</td>\n",
       "      <td>turn_right</td>\n",
       "    </tr>\n",
       "    <tr>\n",
       "      <th>...</th>\n",
       "      <td>...</td>\n",
       "      <td>...</td>\n",
       "      <td>...</td>\n",
       "      <td>...</td>\n",
       "      <td>...</td>\n",
       "    </tr>\n",
       "    <tr>\n",
       "      <th>99995</th>\n",
       "      <td>237.691449</td>\n",
       "      <td>186.644990</td>\n",
       "      <td>27.843197</td>\n",
       "      <td>225.044485</td>\n",
       "      <td>advance</td>\n",
       "    </tr>\n",
       "    <tr>\n",
       "      <th>99996</th>\n",
       "      <td>233.775869</td>\n",
       "      <td>188.766151</td>\n",
       "      <td>187.689432</td>\n",
       "      <td>81.758344</td>\n",
       "      <td>advance</td>\n",
       "    </tr>\n",
       "    <tr>\n",
       "      <th>99997</th>\n",
       "      <td>202.336022</td>\n",
       "      <td>57.661103</td>\n",
       "      <td>187.998499</td>\n",
       "      <td>172.676609</td>\n",
       "      <td>advance</td>\n",
       "    </tr>\n",
       "    <tr>\n",
       "      <th>99998</th>\n",
       "      <td>149.834173</td>\n",
       "      <td>195.924807</td>\n",
       "      <td>14.294983</td>\n",
       "      <td>268.001937</td>\n",
       "      <td>turn_right</td>\n",
       "    </tr>\n",
       "    <tr>\n",
       "      <th>99999</th>\n",
       "      <td>116.972546</td>\n",
       "      <td>0.468024</td>\n",
       "      <td>211.223173</td>\n",
       "      <td>150.726795</td>\n",
       "      <td>turn_left</td>\n",
       "    </tr>\n",
       "  </tbody>\n",
       "</table>\n",
       "<p>100000 rows × 5 columns</p>\n",
       "</div>"
      ],
      "text/plain": [
       "       front_distance  back_distance  left_distance  right_distance  \\\n",
       "0          112.362036     174.233713      84.776390       47.116193   \n",
       "1          285.214292     158.091495     137.602977       28.652630   \n",
       "2          219.598183     105.311085      29.764649       41.381760   \n",
       "3          179.597545     147.963797     134.051108      142.046819   \n",
       "4           46.805592     109.528991      60.924405      265.360207   \n",
       "...               ...            ...            ...             ...   \n",
       "99995      237.691449     186.644990      27.843197      225.044485   \n",
       "99996      233.775869     188.766151     187.689432       81.758344   \n",
       "99997      202.336022      57.661103     187.998499      172.676609   \n",
       "99998      149.834173     195.924807      14.294983      268.001937   \n",
       "99999      116.972546       0.468024     211.223173      150.726795   \n",
       "\n",
       "           action  \n",
       "0         retreat  \n",
       "1         advance  \n",
       "2         advance  \n",
       "3         advance  \n",
       "4      turn_right  \n",
       "...           ...  \n",
       "99995     advance  \n",
       "99996     advance  \n",
       "99997     advance  \n",
       "99998  turn_right  \n",
       "99999   turn_left  \n",
       "\n",
       "[100000 rows x 5 columns]"
      ]
     },
     "execution_count": 4,
     "metadata": {},
     "output_type": "execute_result"
    }
   ],
   "source": [
    "data = data.iloc[:,1:6]\n",
    "data"
   ]
  },
  {
   "cell_type": "code",
   "execution_count": 5,
   "id": "c8422f2a",
   "metadata": {},
   "outputs": [],
   "source": [
    "output_code ={\n",
    "    'advance':1,\n",
    "    'turn_right':2,\n",
    "    'turn_left':3,\n",
    "    'retreat':4\n",
    "}\n",
    "code ={\n",
    "    1:'advance',\n",
    "    2:'turn_right',\n",
    "    3:'turn_left',\n",
    "    4:'retreat'\n",
    "}"
   ]
  },
  {
   "cell_type": "code",
   "execution_count": 6,
   "id": "b8ff1a38",
   "metadata": {},
   "outputs": [
    {
     "name": "stdout",
     "output_type": "stream",
     "text": [
      "       front_distance  back_distance  left_distance  right_distance  action\n",
      "0          112.362036     174.233713      84.776390       47.116193       4\n",
      "1          285.214292     158.091495     137.602977       28.652630       1\n",
      "2          219.598183     105.311085      29.764649       41.381760       1\n",
      "3          179.597545     147.963797     134.051108      142.046819       1\n",
      "4           46.805592     109.528991      60.924405      265.360207       2\n",
      "...               ...            ...            ...             ...     ...\n",
      "99995      237.691449     186.644990      27.843197      225.044485       1\n",
      "99996      233.775869     188.766151     187.689432       81.758344       1\n",
      "99997      202.336022      57.661103     187.998499      172.676609       1\n",
      "99998      149.834173     195.924807      14.294983      268.001937       2\n",
      "99999      116.972546       0.468024     211.223173      150.726795       3\n",
      "\n",
      "[100000 rows x 5 columns]\n"
     ]
    }
   ],
   "source": [
    "data = data.replace({\n",
    "    'advance':output_code['advance'],\n",
    "    'turn_right':output_code['turn_right'],\n",
    "    'turn_left':output_code['turn_left'],\n",
    "    'retreat':output_code['retreat'],\n",
    "})\n",
    "print(data)"
   ]
  },
  {
   "cell_type": "code",
   "execution_count": 7,
   "id": "f309ab02",
   "metadata": {},
   "outputs": [
    {
     "name": "stdout",
     "output_type": "stream",
     "text": [
      "WARNING:tensorflow:From D:\\Anaconda\\Lib\\site-packages\\keras\\src\\losses.py:2976: The name tf.losses.sparse_softmax_cross_entropy is deprecated. Please use tf.compat.v1.losses.sparse_softmax_cross_entropy instead.\n",
      "\n"
     ]
    }
   ],
   "source": [
    "from sklearn.preprocessing import MinMaxScaler \n",
    "from tensorflow.keras.utils import to_categorical"
   ]
  },
  {
   "cell_type": "code",
   "execution_count": 8,
   "id": "8c439838",
   "metadata": {},
   "outputs": [],
   "source": [
    "min_max_scaler = MinMaxScaler()\n",
    "X_train_minmax = min_max_scaler.fit_transform(data.iloc[:20000,:4])"
   ]
  },
  {
   "cell_type": "code",
   "execution_count": 9,
   "id": "cad2a087",
   "metadata": {},
   "outputs": [
    {
     "data": {
      "text/plain": [
       "(20000, 4)"
      ]
     },
     "execution_count": 9,
     "metadata": {},
     "output_type": "execute_result"
    }
   ],
   "source": [
    "X_train_minmax.shape"
   ]
  },
  {
   "cell_type": "code",
   "execution_count": 10,
   "id": "472c234f",
   "metadata": {},
   "outputs": [
    {
     "data": {
      "text/plain": [
       "array([[0., 0., 0., 1.],\n",
       "       [1., 0., 0., 0.],\n",
       "       [1., 0., 0., 0.],\n",
       "       ...,\n",
       "       [0., 1., 0., 0.],\n",
       "       [1., 0., 0., 0.],\n",
       "       [0., 0., 0., 1.]], dtype=float32)"
      ]
     },
     "execution_count": 10,
     "metadata": {},
     "output_type": "execute_result"
    }
   ],
   "source": [
    "# encoder = OneHotEncoder()\n",
    "Y = to_categorical(data.iloc[:20000,4:5])\n",
    "Y = Y[:,1:]\n",
    "Y"
   ]
  },
  {
   "cell_type": "code",
   "execution_count": 11,
   "id": "aad512cc",
   "metadata": {},
   "outputs": [],
   "source": [
    "from sklearn.model_selection import train_test_split\n",
    "# X_train_minmax = X_train_minmax[:10000 ,:]\n",
    "# Y=Y[:10000,:]"
   ]
  },
  {
   "cell_type": "code",
   "execution_count": 16,
   "id": "ccfad711",
   "metadata": {},
   "outputs": [
    {
     "data": {
      "text/plain": [
       "(14000, 4)"
      ]
     },
     "execution_count": 16,
     "metadata": {},
     "output_type": "execute_result"
    }
   ],
   "source": [
    "x_train, x_test, y_train, y_test = train_test_split(X_train_minmax, Y, test_size=0.3,random_state=42)\n",
    "All_x_train = X_train_minmax\n",
    "All_y_train = Y\n",
    "x_train.shape\n"
   ]
  },
  {
   "cell_type": "markdown",
   "id": "1e324dfd",
   "metadata": {},
   "source": [
    "# scatter plot"
   ]
  },
  {
   "cell_type": "code",
   "execution_count": 17,
   "id": "298c16dd",
   "metadata": {},
   "outputs": [
    {
     "name": "stdout",
     "output_type": "stream",
     "text": [
      "(14000, 2)\n",
      "(14000, 1)\n",
      "          0         1  action\n",
      "0  0.614050  0.471368       4\n",
      "1  0.214123  0.981342       1\n",
      "2  0.011189  0.132077       1\n",
      "3  0.024422  0.845788       1\n",
      "4  0.181067  0.753994       2\n"
     ]
    },
    {
     "data": {
      "image/png": "[encoded data removed]",
      "text/plain": [
       "<Figure size 640x480 with 1 Axes>"
      ]
     },
     "metadata": {},
     "output_type": "display_data"
    }
   ],
   "source": [
    "scatter_data = pd.DataFrame(x_train[:,:2])\n",
    "print(scatter_data.shape)\n",
    "print(data.iloc[:14000,4:5].shape)\n",
    "scatter_data['action']= data.iloc[:14000,4:5].values\n",
    "\n",
    "class_colors = ['r', 'b', 'g', 'p']\n",
    "\n",
    "print(scatter_data.head())\n",
    "\n",
    "plt.scatter(scatter_data.iloc[:, 0], scatter_data.iloc[:, 1],\n",
    "            c=scatter_data['action'], edgecolors='k', facecolors=class_colors)\n",
    "plt.xlabel('1st Dimension')\n",
    "plt.ylabel('2nd Dimension')\n",
    "plt.title('Scatter Plot of 1st vs 2nd Dimension (Colorized by Class)')\n",
    "plt.show()"
   ]
  },
  {
   "cell_type": "code",
   "execution_count": 18,
   "id": "0af5b1d4",
   "metadata": {},
   "outputs": [],
   "source": [
    "    import tensorflow as tf\n",
    "    from tensorflow.keras import layers as L"
   ]
  },
  {
   "cell_type": "code",
   "execution_count": 19,
   "id": "96789087",
   "metadata": {},
   "outputs": [
    {
     "name": "stdout",
     "output_type": "stream",
     "text": [
      "WARNING:tensorflow:From D:\\Anaconda\\Lib\\site-packages\\keras\\src\\backend.py:1398: The name tf.executing_eagerly_outside_functions is deprecated. Please use tf.compat.v1.executing_eagerly_outside_functions instead.\n",
      "\n"
     ]
    }
   ],
   "source": [
    "model = tf.keras.Sequential([\n",
    "    L.Input(shape = (4,)),\n",
    "    L.Dense(units=8 ,activation = 'relu'),\n",
    "    L.Dropout(rate = 0.2),\n",
    "    L.Dense(units=4 ,activation = 'relu'),\n",
    "#     L.Dropout(rate = 0.2),\n",
    "    L.Dense(units=4 ,activation = 'softmax')\n",
    "])"
   ]
  },
  {
   "cell_type": "code",
   "execution_count": 20,
   "id": "4c0daa87",
   "metadata": {},
   "outputs": [],
   "source": [
    "model.compile(\n",
    "    optimizer=tf.keras.optimizers.Adam(learning_rate=0.01),\n",
    "    loss=tf.keras.losses.CategoricalCrossentropy(),\n",
    "    metrics=['categorical_accuracy']\n",
    ")"
   ]
  },
  {
   "cell_type": "code",
   "execution_count": 21,
   "id": "7ee02bd0",
   "metadata": {
    "scrolled": true
   },
   "outputs": [
    {
     "name": "stdout",
     "output_type": "stream",
     "text": [
      "Epoch 1/100\n",
      "WARNING:tensorflow:From D:\\Anaconda\\Lib\\site-packages\\keras\\src\\utils\\tf_utils.py:492: The name tf.ragged.RaggedTensorValue is deprecated. Please use tf.compat.v1.ragged.RaggedTensorValue instead.\n",
      "\n",
      "WARNING:tensorflow:From D:\\Anaconda\\Lib\\site-packages\\keras\\src\\engine\\base_layer_utils.py:384: The name tf.executing_eagerly_outside_functions is deprecated. Please use tf.compat.v1.executing_eagerly_outside_functions instead.\n",
      "\n",
      "438/438 [==============================] - 3s 2ms/step - loss: 0.9450 - categorical_accuracy: 0.5945\n",
      "Epoch 2/100\n",
      "438/438 [==============================] - 1s 2ms/step - loss: 0.6346 - categorical_accuracy: 0.7690\n",
      "Epoch 3/100\n",
      "438/438 [==============================] - 1s 2ms/step - loss: 0.5913 - categorical_accuracy: 0.7907\n",
      "Epoch 4/100\n",
      "438/438 [==============================] - 1s 3ms/step - loss: 0.5733 - categorical_accuracy: 0.7930\n",
      "Epoch 5/100\n",
      "438/438 [==============================] - 1s 2ms/step - loss: 0.5656 - categorical_accuracy: 0.7934\n",
      "Epoch 6/100\n",
      "438/438 [==============================] - 1s 3ms/step - loss: 0.5741 - categorical_accuracy: 0.7935\n",
      "Epoch 7/100\n",
      "438/438 [==============================] - 1s 3ms/step - loss: 0.5623 - categorical_accuracy: 0.7964\n",
      "Epoch 8/100\n",
      "438/438 [==============================] - 1s 3ms/step - loss: 0.5735 - categorical_accuracy: 0.7913\n",
      "Epoch 9/100\n",
      "438/438 [==============================] - 1s 2ms/step - loss: 0.5921 - categorical_accuracy: 0.7859\n",
      "Epoch 10/100\n",
      "438/438 [==============================] - 1s 3ms/step - loss: 0.5754 - categorical_accuracy: 0.7921\n",
      "Epoch 11/100\n",
      "438/438 [==============================] - 1s 3ms/step - loss: 0.5703 - categorical_accuracy: 0.7949\n",
      "Epoch 12/100\n",
      "438/438 [==============================] - 1s 2ms/step - loss: 0.5760 - categorical_accuracy: 0.7930\n",
      "Epoch 13/100\n",
      "438/438 [==============================] - 1s 2ms/step - loss: 0.5748 - categorical_accuracy: 0.7942\n",
      "Epoch 14/100\n",
      "438/438 [==============================] - 1s 2ms/step - loss: 0.5785 - categorical_accuracy: 0.7889\n",
      "Epoch 15/100\n",
      "438/438 [==============================] - 1s 2ms/step - loss: 0.5814 - categorical_accuracy: 0.7901\n",
      "Epoch 16/100\n",
      "438/438 [==============================] - 1s 3ms/step - loss: 0.5797 - categorical_accuracy: 0.7917\n",
      "Epoch 17/100\n",
      "438/438 [==============================] - 1s 3ms/step - loss: 0.5782 - categorical_accuracy: 0.7922\n",
      "Epoch 18/100\n",
      "438/438 [==============================] - 1s 3ms/step - loss: 0.5715 - categorical_accuracy: 0.7961\n",
      "Epoch 19/100\n",
      "438/438 [==============================] - 1s 2ms/step - loss: 0.5754 - categorical_accuracy: 0.7955\n",
      "Epoch 20/100\n",
      "438/438 [==============================] - 1s 3ms/step - loss: 0.5786 - categorical_accuracy: 0.7959\n",
      "Epoch 21/100\n",
      "438/438 [==============================] - 1s 3ms/step - loss: 0.5679 - categorical_accuracy: 0.7944\n",
      "Epoch 22/100\n",
      "438/438 [==============================] - 1s 2ms/step - loss: 0.5754 - categorical_accuracy: 0.7940\n",
      "Epoch 23/100\n",
      "438/438 [==============================] - 1s 2ms/step - loss: 0.5602 - categorical_accuracy: 0.7989\n",
      "Epoch 24/100\n",
      "438/438 [==============================] - 1s 3ms/step - loss: 0.5745 - categorical_accuracy: 0.7926\n",
      "Epoch 25/100\n",
      "438/438 [==============================] - 1s 3ms/step - loss: 0.5878 - categorical_accuracy: 0.7886\n",
      "Epoch 26/100\n",
      "438/438 [==============================] - 1s 3ms/step - loss: 0.5585 - categorical_accuracy: 0.8010\n",
      "Epoch 27/100\n",
      "438/438 [==============================] - 1s 2ms/step - loss: 0.5715 - categorical_accuracy: 0.7936\n",
      "Epoch 28/100\n",
      "438/438 [==============================] - 1s 2ms/step - loss: 0.5672 - categorical_accuracy: 0.7922\n",
      "Epoch 29/100\n",
      "438/438 [==============================] - 1s 3ms/step - loss: 0.5777 - categorical_accuracy: 0.7896\n",
      "Epoch 30/100\n",
      "438/438 [==============================] - 1s 3ms/step - loss: 0.5812 - categorical_accuracy: 0.7944\n",
      "Epoch 31/100\n",
      "438/438 [==============================] - 1s 2ms/step - loss: 0.5747 - categorical_accuracy: 0.7911\n",
      "Epoch 32/100\n",
      "438/438 [==============================] - 1s 3ms/step - loss: 0.5830 - categorical_accuracy: 0.7929\n",
      "Epoch 33/100\n",
      "438/438 [==============================] - 1s 2ms/step - loss: 0.5714 - categorical_accuracy: 0.7967\n",
      "Epoch 34/100\n",
      "438/438 [==============================] - 1s 3ms/step - loss: 0.5740 - categorical_accuracy: 0.7933\n",
      "Epoch 35/100\n",
      "438/438 [==============================] - 1s 3ms/step - loss: 0.5700 - categorical_accuracy: 0.7935\n",
      "Epoch 36/100\n",
      "438/438 [==============================] - 1s 3ms/step - loss: 0.5799 - categorical_accuracy: 0.7931\n",
      "Epoch 37/100\n",
      "438/438 [==============================] - 1s 3ms/step - loss: 0.5682 - categorical_accuracy: 0.7984\n",
      "Epoch 38/100\n",
      "438/438 [==============================] - 1s 3ms/step - loss: 0.5716 - categorical_accuracy: 0.7946\n",
      "Epoch 39/100\n",
      "438/438 [==============================] - 1s 3ms/step - loss: 0.5724 - categorical_accuracy: 0.7952\n",
      "Epoch 40/100\n",
      "438/438 [==============================] - 1s 3ms/step - loss: 0.5754 - categorical_accuracy: 0.7944\n",
      "Epoch 41/100\n",
      "438/438 [==============================] - 1s 3ms/step - loss: 0.5766 - categorical_accuracy: 0.7928\n",
      "Epoch 42/100\n",
      "438/438 [==============================] - 1s 3ms/step - loss: 0.5646 - categorical_accuracy: 0.7978\n",
      "Epoch 43/100\n",
      "438/438 [==============================] - 1s 3ms/step - loss: 0.5842 - categorical_accuracy: 0.7907\n",
      "Epoch 44/100\n",
      "438/438 [==============================] - 1s 3ms/step - loss: 0.5609 - categorical_accuracy: 0.7987\n",
      "Epoch 45/100\n",
      "438/438 [==============================] - 1s 2ms/step - loss: 0.5823 - categorical_accuracy: 0.7929\n",
      "Epoch 46/100\n",
      "438/438 [==============================] - 1s 2ms/step - loss: 0.5829 - categorical_accuracy: 0.7895\n",
      "Epoch 47/100\n",
      "438/438 [==============================] - 1s 3ms/step - loss: 0.5790 - categorical_accuracy: 0.7881\n",
      "Epoch 48/100\n",
      "438/438 [==============================] - 1s 3ms/step - loss: 0.5737 - categorical_accuracy: 0.7921\n",
      "Epoch 49/100\n",
      "438/438 [==============================] - 1s 3ms/step - loss: 0.5728 - categorical_accuracy: 0.7987\n",
      "Epoch 50/100\n",
      "438/438 [==============================] - 1s 3ms/step - loss: 0.5703 - categorical_accuracy: 0.7951\n",
      "Epoch 51/100\n",
      "438/438 [==============================] - 1s 2ms/step - loss: 0.5689 - categorical_accuracy: 0.7924\n",
      "Epoch 52/100\n",
      "438/438 [==============================] - 1s 3ms/step - loss: 0.5897 - categorical_accuracy: 0.7881\n",
      "Epoch 53/100\n",
      "438/438 [==============================] - 1s 3ms/step - loss: 0.5675 - categorical_accuracy: 0.7967\n",
      "Epoch 54/100\n",
      "438/438 [==============================] - 1s 3ms/step - loss: 0.5733 - categorical_accuracy: 0.7944\n",
      "Epoch 55/100\n",
      "438/438 [==============================] - 1s 2ms/step - loss: 0.5741 - categorical_accuracy: 0.7939\n",
      "Epoch 56/100\n",
      "438/438 [==============================] - 1s 2ms/step - loss: 0.5713 - categorical_accuracy: 0.7966\n",
      "Epoch 57/100\n",
      "438/438 [==============================] - 1s 3ms/step - loss: 0.5746 - categorical_accuracy: 0.7958\n",
      "Epoch 58/100\n",
      "438/438 [==============================] - 1s 3ms/step - loss: 0.5733 - categorical_accuracy: 0.7930\n",
      "Epoch 59/100\n",
      "438/438 [==============================] - 1s 3ms/step - loss: 0.5745 - categorical_accuracy: 0.7957\n",
      "Epoch 60/100\n",
      "438/438 [==============================] - 1s 2ms/step - loss: 0.5717 - categorical_accuracy: 0.7950\n",
      "Epoch 61/100\n",
      "438/438 [==============================] - 1s 2ms/step - loss: 0.5591 - categorical_accuracy: 0.8004\n",
      "Epoch 62/100\n",
      "438/438 [==============================] - 1s 3ms/step - loss: 0.5650 - categorical_accuracy: 0.7959\n",
      "Epoch 63/100\n",
      "438/438 [==============================] - 1s 3ms/step - loss: 0.5706 - categorical_accuracy: 0.7946\n",
      "Epoch 64/100\n",
      "438/438 [==============================] - 1s 3ms/step - loss: 0.5797 - categorical_accuracy: 0.7920\n",
      "Epoch 65/100\n",
      "438/438 [==============================] - 1s 3ms/step - loss: 0.5672 - categorical_accuracy: 0.7978\n",
      "Epoch 66/100\n",
      "438/438 [==============================] - 1s 3ms/step - loss: 0.5713 - categorical_accuracy: 0.7943\n",
      "Epoch 67/100\n",
      "438/438 [==============================] - 1s 3ms/step - loss: 0.5687 - categorical_accuracy: 0.7931\n",
      "Epoch 68/100\n",
      "438/438 [==============================] - 1s 3ms/step - loss: 0.5670 - categorical_accuracy: 0.7950\n",
      "Epoch 69/100\n",
      "438/438 [==============================] - 1s 2ms/step - loss: 0.5721 - categorical_accuracy: 0.7972\n",
      "Epoch 70/100\n",
      "438/438 [==============================] - 1s 2ms/step - loss: 0.5653 - categorical_accuracy: 0.8006\n",
      "Epoch 71/100\n",
      "438/438 [==============================] - 1s 3ms/step - loss: 0.5708 - categorical_accuracy: 0.7979\n",
      "Epoch 72/100\n",
      "438/438 [==============================] - 1s 3ms/step - loss: 0.5741 - categorical_accuracy: 0.7979\n",
      "Epoch 73/100\n",
      "438/438 [==============================] - 1s 3ms/step - loss: 0.5620 - categorical_accuracy: 0.7994\n",
      "Epoch 74/100\n",
      "438/438 [==============================] - 1s 2ms/step - loss: 0.5704 - categorical_accuracy: 0.7979\n",
      "Epoch 75/100\n",
      "438/438 [==============================] - 1s 2ms/step - loss: 0.5771 - categorical_accuracy: 0.7950\n",
      "Epoch 76/100\n",
      "438/438 [==============================] - 1s 2ms/step - loss: 0.5713 - categorical_accuracy: 0.7939\n",
      "Epoch 77/100\n",
      "438/438 [==============================] - 1s 3ms/step - loss: 0.5787 - categorical_accuracy: 0.7941\n",
      "Epoch 78/100\n",
      "438/438 [==============================] - 1s 3ms/step - loss: 0.5706 - categorical_accuracy: 0.7935\n",
      "Epoch 79/100\n",
      "438/438 [==============================] - 1s 3ms/step - loss: 0.5768 - categorical_accuracy: 0.7923\n",
      "Epoch 80/100\n",
      "438/438 [==============================] - 1s 3ms/step - loss: 0.5708 - categorical_accuracy: 0.7921\n",
      "Epoch 81/100\n",
      "438/438 [==============================] - 1s 3ms/step - loss: 0.5593 - categorical_accuracy: 0.7994\n",
      "Epoch 82/100\n",
      "438/438 [==============================] - 1s 3ms/step - loss: 0.5732 - categorical_accuracy: 0.7956\n",
      "Epoch 83/100\n",
      "438/438 [==============================] - 1s 2ms/step - loss: 0.5703 - categorical_accuracy: 0.8003\n",
      "Epoch 84/100\n",
      "438/438 [==============================] - 1s 2ms/step - loss: 0.5710 - categorical_accuracy: 0.7961\n",
      "Epoch 85/100\n",
      "438/438 [==============================] - 1s 2ms/step - loss: 0.5654 - categorical_accuracy: 0.8010\n",
      "Epoch 86/100\n",
      "438/438 [==============================] - 2s 4ms/step - loss: 0.5736 - categorical_accuracy: 0.7951\n",
      "Epoch 87/100\n",
      "438/438 [==============================] - 1s 3ms/step - loss: 0.5753 - categorical_accuracy: 0.7934\n",
      "Epoch 88/100\n",
      "438/438 [==============================] - 1s 2ms/step - loss: 0.5751 - categorical_accuracy: 0.7936\n",
      "Epoch 89/100\n",
      "438/438 [==============================] - 1s 3ms/step - loss: 0.5683 - categorical_accuracy: 0.7912\n",
      "Epoch 90/100\n",
      "438/438 [==============================] - 1s 2ms/step - loss: 0.5630 - categorical_accuracy: 0.8009\n",
      "Epoch 91/100\n",
      "438/438 [==============================] - 1s 2ms/step - loss: 0.5612 - categorical_accuracy: 0.7993\n",
      "Epoch 92/100\n",
      "438/438 [==============================] - 1s 2ms/step - loss: 0.5596 - categorical_accuracy: 0.7996\n",
      "Epoch 93/100\n",
      "438/438 [==============================] - 1s 2ms/step - loss: 0.5745 - categorical_accuracy: 0.7960\n",
      "Epoch 94/100\n",
      "438/438 [==============================] - 1s 2ms/step - loss: 0.5720 - categorical_accuracy: 0.7984\n",
      "Epoch 95/100\n",
      "438/438 [==============================] - 1s 2ms/step - loss: 0.5589 - categorical_accuracy: 0.7980\n",
      "Epoch 96/100\n",
      "438/438 [==============================] - 1s 2ms/step - loss: 0.5666 - categorical_accuracy: 0.8014\n",
      "Epoch 97/100\n",
      "438/438 [==============================] - 1s 2ms/step - loss: 0.5736 - categorical_accuracy: 0.7946\n",
      "Epoch 98/100\n",
      "438/438 [==============================] - 1s 2ms/step - loss: 0.5753 - categorical_accuracy: 0.7941\n",
      "Epoch 99/100\n",
      "438/438 [==============================] - 1s 2ms/step - loss: 0.5713 - categorical_accuracy: 0.7944\n",
      "Epoch 100/100\n",
      "438/438 [==============================] - 1s 2ms/step - loss: 0.5683 - categorical_accuracy: 0.7974\n"
     ]
    },
    {
     "data": {
      "text/plain": [
       "<keras.src.callbacks.History at 0x246a1ed9290>"
      ]
     },
     "execution_count": 21,
     "metadata": {},
     "output_type": "execute_result"
    }
   ],
   "source": [
    "model.fit(x_train, y_train, epochs=100)"
   ]
  },
  {
   "cell_type": "code",
   "execution_count": 23,
   "id": "079e793e",
   "metadata": {},
   "outputs": [
    {
     "name": "stdout",
     "output_type": "stream",
     "text": [
      "188/188 [==============================] - 0s 2ms/step\n",
      "[0 2 3 ... 1 3 0]\n",
      "**************************************************\n",
      "       action\n",
      "50000       3\n",
      "50001       4\n",
      "50002       4\n",
      "50003       4\n",
      "50004       4\n",
      "...       ...\n",
      "99995       1\n",
      "99996       1\n",
      "99997       1\n",
      "99998       2\n",
      "99999       3\n",
      "\n",
      "[50000 rows x 1 columns]\n",
      "Accuracy: 0.96\n",
      "Precision: 0.96\n",
      "Recall: 0.96\n",
      "F1 Score: 0.96\n",
      "1/1 [==============================] - 0s 37ms/step\n",
      "[2]\n"
     ]
    }
   ],
   "source": [
    "y_predict = model.predict(x_test)\n",
    "from sklearn.metrics import accuracy_score, precision_score, recall_score, f1_score\n",
    "\n",
    "\n",
    "y_predict= np.argmax( y_predict,axis= 1)\n",
    "print(y_predict)\n",
    "print('*'*50)\n",
    "print(y_test_)\n",
    "\n",
    "y_test_ = np.argmax(y_test,axis= 1)\n",
    "# print(y_predict)\n",
    "# print(y_test)\n",
    "# Evaluate the model\n",
    "accuracy = accuracy_score(y_test_, y_predict)\n",
    "precision = precision_score(y_test_, y_predict, average='weighted')\n",
    "recall = recall_score(y_test_, y_predict, average='weighted')\n",
    "f1 = f1_score(y_test_, y_predict, average='weighted')\n",
    "\n",
    "print(f\"Accuracy: {accuracy:.2f}\")\n",
    "print(f\"Precision: {precision:.2f}\")\n",
    "print(f\"Recall: {recall:.2f}\")\n",
    "print(f\"F1 Score: {f1:.2f}\")\n",
    "\n",
    "print(np.argmax(model.predict(np.array([[200,100,100,300]])),axis= 1)+1)\n"
   ]
  },
  {
   "cell_type": "code",
   "execution_count": 24,
   "id": "1425b60e",
   "metadata": {},
   "outputs": [],
   "source": [
    "model.compile(\n",
    "    optimizer=tf.keras.optimizers.Adam(learning_rate=0.0001),\n",
    "    loss=tf.keras.losses.CategoricalCrossentropy(),\n",
    "    metrics=['categorical_accuracy']\n",
    ")"
   ]
  },
  {
   "cell_type": "code",
   "execution_count": 25,
   "id": "9cb5199b",
   "metadata": {},
   "outputs": [
    {
     "name": "stdout",
     "output_type": "stream",
     "text": [
      "Epoch 1/100\n",
      "438/438 [==============================] - 2s 2ms/step - loss: 0.5627 - categorical_accuracy: 0.8011\n",
      "Epoch 2/100\n",
      "438/438 [==============================] - 1s 2ms/step - loss: 0.5743 - categorical_accuracy: 0.8034\n",
      "Epoch 3/100\n",
      "438/438 [==============================] - 1s 2ms/step - loss: 0.5552 - categorical_accuracy: 0.8114\n",
      "Epoch 4/100\n",
      "438/438 [==============================] - 1s 2ms/step - loss: 0.5559 - categorical_accuracy: 0.8125\n",
      "Epoch 5/100\n",
      "438/438 [==============================] - 1s 2ms/step - loss: 0.5553 - categorical_accuracy: 0.8106\n",
      "Epoch 6/100\n",
      "438/438 [==============================] - 1s 2ms/step - loss: 0.5468 - categorical_accuracy: 0.8131\n",
      "Epoch 7/100\n",
      "438/438 [==============================] - 1s 2ms/step - loss: 0.5637 - categorical_accuracy: 0.8078\n",
      "Epoch 8/100\n",
      "438/438 [==============================] - 1s 2ms/step - loss: 0.5641 - categorical_accuracy: 0.8104\n",
      "Epoch 9/100\n",
      "438/438 [==============================] - 1s 2ms/step - loss: 0.5529 - categorical_accuracy: 0.8148\n",
      "Epoch 10/100\n",
      "438/438 [==============================] - 1s 2ms/step - loss: 0.5591 - categorical_accuracy: 0.8126\n",
      "Epoch 11/100\n",
      "438/438 [==============================] - 1s 2ms/step - loss: 0.5572 - categorical_accuracy: 0.8111\n",
      "Epoch 12/100\n",
      "438/438 [==============================] - 1s 2ms/step - loss: 0.5650 - categorical_accuracy: 0.8110\n",
      "Epoch 13/100\n",
      "438/438 [==============================] - 1s 2ms/step - loss: 0.5517 - categorical_accuracy: 0.8141\n",
      "Epoch 14/100\n",
      "438/438 [==============================] - 1s 2ms/step - loss: 0.5447 - categorical_accuracy: 0.8184\n",
      "Epoch 15/100\n",
      "438/438 [==============================] - 1s 2ms/step - loss: 0.5573 - categorical_accuracy: 0.8135\n",
      "Epoch 16/100\n",
      "438/438 [==============================] - 1s 3ms/step - loss: 0.5585 - categorical_accuracy: 0.8128\n",
      "Epoch 17/100\n",
      "438/438 [==============================] - 3s 6ms/step - loss: 0.5630 - categorical_accuracy: 0.8101\n",
      "Epoch 18/100\n",
      "438/438 [==============================] - 2s 3ms/step - loss: 0.5700 - categorical_accuracy: 0.8076\n",
      "Epoch 19/100\n",
      "438/438 [==============================] - 2s 4ms/step - loss: 0.5611 - categorical_accuracy: 0.8084\n",
      "Epoch 20/100\n",
      "438/438 [==============================] - 3s 7ms/step - loss: 0.5395 - categorical_accuracy: 0.8166\n",
      "Epoch 21/100\n",
      "438/438 [==============================] - 2s 5ms/step - loss: 0.5731 - categorical_accuracy: 0.8083\n",
      "Epoch 22/100\n",
      "438/438 [==============================] - 2s 4ms/step - loss: 0.5568 - categorical_accuracy: 0.8125\n",
      "Epoch 23/100\n",
      "438/438 [==============================] - 2s 5ms/step - loss: 0.5639 - categorical_accuracy: 0.8105\n",
      "Epoch 24/100\n",
      "438/438 [==============================] - 2s 4ms/step - loss: 0.5588 - categorical_accuracy: 0.8110\n",
      "Epoch 25/100\n",
      "438/438 [==============================] - 2s 3ms/step - loss: 0.5529 - categorical_accuracy: 0.8139\n",
      "Epoch 26/100\n",
      "438/438 [==============================] - 2s 4ms/step - loss: 0.5562 - categorical_accuracy: 0.8137\n",
      "Epoch 27/100\n",
      "438/438 [==============================] - 1s 2ms/step - loss: 0.5711 - categorical_accuracy: 0.8109\n",
      "Epoch 28/100\n",
      "438/438 [==============================] - 1s 3ms/step - loss: 0.5618 - categorical_accuracy: 0.8103\n",
      "Epoch 29/100\n",
      "438/438 [==============================] - 1s 3ms/step - loss: 0.5615 - categorical_accuracy: 0.8084\n",
      "Epoch 30/100\n",
      "438/438 [==============================] - 1s 3ms/step - loss: 0.5541 - categorical_accuracy: 0.8118\n",
      "Epoch 31/100\n",
      "438/438 [==============================] - 2s 5ms/step - loss: 0.5688 - categorical_accuracy: 0.8066\n",
      "Epoch 32/100\n",
      "438/438 [==============================] - 1s 3ms/step - loss: 0.5643 - categorical_accuracy: 0.8069\n",
      "Epoch 33/100\n",
      "438/438 [==============================] - 1s 3ms/step - loss: 0.5606 - categorical_accuracy: 0.8096\n",
      "Epoch 34/100\n",
      "438/438 [==============================] - 2s 4ms/step - loss: 0.5600 - categorical_accuracy: 0.8109\n",
      "Epoch 35/100\n",
      "438/438 [==============================] - 1s 3ms/step - loss: 0.5644 - categorical_accuracy: 0.8081\n",
      "Epoch 36/100\n",
      "438/438 [==============================] - 1s 3ms/step - loss: 0.5535 - categorical_accuracy: 0.8141\n",
      "Epoch 37/100\n",
      "438/438 [==============================] - 1s 3ms/step - loss: 0.5654 - categorical_accuracy: 0.8104\n",
      "Epoch 38/100\n",
      "438/438 [==============================] - 1s 3ms/step - loss: 0.5536 - categorical_accuracy: 0.8156\n",
      "Epoch 39/100\n",
      "438/438 [==============================] - 2s 4ms/step - loss: 0.5722 - categorical_accuracy: 0.8085\n",
      "Epoch 40/100\n",
      "438/438 [==============================] - 1s 3ms/step - loss: 0.5722 - categorical_accuracy: 0.8034\n",
      "Epoch 41/100\n",
      "438/438 [==============================] - 1s 3ms/step - loss: 0.5500 - categorical_accuracy: 0.8167\n",
      "Epoch 42/100\n",
      "438/438 [==============================] - 1s 3ms/step - loss: 0.5530 - categorical_accuracy: 0.8144\n",
      "Epoch 43/100\n",
      "438/438 [==============================] - 1s 3ms/step - loss: 0.5633 - categorical_accuracy: 0.8091\n",
      "Epoch 44/100\n",
      "438/438 [==============================] - 1s 3ms/step - loss: 0.5773 - categorical_accuracy: 0.8036\n",
      "Epoch 45/100\n",
      "438/438 [==============================] - 1s 2ms/step - loss: 0.5524 - categorical_accuracy: 0.8151\n",
      "Epoch 46/100\n",
      "438/438 [==============================] - 1s 2ms/step - loss: 0.5493 - categorical_accuracy: 0.8199\n",
      "Epoch 47/100\n",
      "438/438 [==============================] - 1s 3ms/step - loss: 0.5569 - categorical_accuracy: 0.8136\n",
      "Epoch 48/100\n",
      "438/438 [==============================] - 1s 3ms/step - loss: 0.5627 - categorical_accuracy: 0.8085\n",
      "Epoch 49/100\n",
      "438/438 [==============================] - 1s 2ms/step - loss: 0.5814 - categorical_accuracy: 0.8022\n",
      "Epoch 50/100\n",
      "438/438 [==============================] - 1s 3ms/step - loss: 0.5706 - categorical_accuracy: 0.8060\n",
      "Epoch 51/100\n",
      "438/438 [==============================] - 1s 3ms/step - loss: 0.5602 - categorical_accuracy: 0.8091\n",
      "Epoch 52/100\n",
      "438/438 [==============================] - 1s 3ms/step - loss: 0.5641 - categorical_accuracy: 0.8110\n",
      "Epoch 53/100\n",
      "438/438 [==============================] - 1s 2ms/step - loss: 0.5563 - categorical_accuracy: 0.8136\n",
      "Epoch 54/100\n",
      "438/438 [==============================] - 1s 2ms/step - loss: 0.5609 - categorical_accuracy: 0.8099\n",
      "Epoch 55/100\n",
      "438/438 [==============================] - 1s 3ms/step - loss: 0.5669 - categorical_accuracy: 0.8089\n",
      "Epoch 56/100\n",
      "438/438 [==============================] - 1s 3ms/step - loss: 0.5560 - categorical_accuracy: 0.8136\n",
      "Epoch 57/100\n",
      "438/438 [==============================] - 1s 3ms/step - loss: 0.5577 - categorical_accuracy: 0.8135\n",
      "Epoch 58/100\n",
      "438/438 [==============================] - 1s 2ms/step - loss: 0.5627 - categorical_accuracy: 0.8100\n",
      "Epoch 59/100\n",
      "438/438 [==============================] - 1s 2ms/step - loss: 0.5684 - categorical_accuracy: 0.8085\n",
      "Epoch 60/100\n",
      "438/438 [==============================] - 1s 2ms/step - loss: 0.5525 - categorical_accuracy: 0.8136\n",
      "Epoch 61/100\n",
      "438/438 [==============================] - 1s 2ms/step - loss: 0.5403 - categorical_accuracy: 0.8193\n",
      "Epoch 62/100\n",
      "438/438 [==============================] - 1s 3ms/step - loss: 0.5530 - categorical_accuracy: 0.8146\n",
      "Epoch 63/100\n",
      "438/438 [==============================] - 1s 2ms/step - loss: 0.5558 - categorical_accuracy: 0.8146\n",
      "Epoch 64/100\n",
      "438/438 [==============================] - 1s 2ms/step - loss: 0.5674 - categorical_accuracy: 0.8061\n",
      "Epoch 65/100\n",
      "438/438 [==============================] - 1s 2ms/step - loss: 0.5607 - categorical_accuracy: 0.8118\n",
      "Epoch 66/100\n",
      "438/438 [==============================] - 1s 2ms/step - loss: 0.5556 - categorical_accuracy: 0.8135\n",
      "Epoch 67/100\n",
      "438/438 [==============================] - 1s 2ms/step - loss: 0.5580 - categorical_accuracy: 0.8131\n",
      "Epoch 68/100\n",
      "438/438 [==============================] - 1s 2ms/step - loss: 0.5602 - categorical_accuracy: 0.8118\n",
      "Epoch 69/100\n",
      "438/438 [==============================] - 1s 3ms/step - loss: 0.5594 - categorical_accuracy: 0.8111\n",
      "Epoch 70/100\n",
      "438/438 [==============================] - 1s 2ms/step - loss: 0.5616 - categorical_accuracy: 0.8083\n",
      "Epoch 71/100\n",
      "438/438 [==============================] - 1s 2ms/step - loss: 0.5572 - categorical_accuracy: 0.8117\n",
      "Epoch 72/100\n",
      "438/438 [==============================] - 1s 2ms/step - loss: 0.5598 - categorical_accuracy: 0.8094\n",
      "Epoch 73/100\n",
      "438/438 [==============================] - 1s 2ms/step - loss: 0.5634 - categorical_accuracy: 0.8099\n",
      "Epoch 74/100\n",
      "438/438 [==============================] - 1s 2ms/step - loss: 0.5743 - categorical_accuracy: 0.8045\n",
      "Epoch 75/100\n",
      "438/438 [==============================] - 1s 2ms/step - loss: 0.5641 - categorical_accuracy: 0.8092\n",
      "Epoch 76/100\n",
      "438/438 [==============================] - 1s 2ms/step - loss: 0.5466 - categorical_accuracy: 0.8158\n",
      "Epoch 77/100\n",
      "438/438 [==============================] - 1s 2ms/step - loss: 0.5531 - categorical_accuracy: 0.8177\n",
      "Epoch 78/100\n",
      "438/438 [==============================] - 1s 2ms/step - loss: 0.5594 - categorical_accuracy: 0.8111\n",
      "Epoch 79/100\n",
      "438/438 [==============================] - 1s 2ms/step - loss: 0.5687 - categorical_accuracy: 0.8107\n",
      "Epoch 80/100\n",
      "438/438 [==============================] - 1s 2ms/step - loss: 0.5569 - categorical_accuracy: 0.8101\n",
      "Epoch 81/100\n",
      "438/438 [==============================] - 1s 2ms/step - loss: 0.5601 - categorical_accuracy: 0.8093\n",
      "Epoch 82/100\n",
      "438/438 [==============================] - 1s 2ms/step - loss: 0.5700 - categorical_accuracy: 0.8059\n",
      "Epoch 83/100\n",
      "438/438 [==============================] - 1s 2ms/step - loss: 0.5656 - categorical_accuracy: 0.8086\n",
      "Epoch 84/100\n",
      "438/438 [==============================] - 1s 2ms/step - loss: 0.5615 - categorical_accuracy: 0.8121\n",
      "Epoch 85/100\n",
      "438/438 [==============================] - 1s 2ms/step - loss: 0.5541 - categorical_accuracy: 0.8119\n",
      "Epoch 86/100\n",
      "438/438 [==============================] - 1s 2ms/step - loss: 0.5601 - categorical_accuracy: 0.8129\n",
      "Epoch 87/100\n",
      "438/438 [==============================] - 1s 2ms/step - loss: 0.5540 - categorical_accuracy: 0.8111\n",
      "Epoch 88/100\n",
      "438/438 [==============================] - 1s 2ms/step - loss: 0.5721 - categorical_accuracy: 0.8088\n",
      "Epoch 89/100\n",
      "438/438 [==============================] - 1s 2ms/step - loss: 0.5553 - categorical_accuracy: 0.8134\n",
      "Epoch 90/100\n",
      "438/438 [==============================] - 1s 2ms/step - loss: 0.5449 - categorical_accuracy: 0.8159\n",
      "Epoch 91/100\n",
      "438/438 [==============================] - 1s 2ms/step - loss: 0.5595 - categorical_accuracy: 0.8134\n",
      "Epoch 92/100\n",
      "438/438 [==============================] - 1s 2ms/step - loss: 0.5622 - categorical_accuracy: 0.8116\n",
      "Epoch 93/100\n",
      "438/438 [==============================] - 1s 2ms/step - loss: 0.5678 - categorical_accuracy: 0.8072\n",
      "Epoch 94/100\n",
      "438/438 [==============================] - 1s 2ms/step - loss: 0.5593 - categorical_accuracy: 0.8105\n",
      "Epoch 95/100\n",
      "438/438 [==============================] - 1s 2ms/step - loss: 0.5579 - categorical_accuracy: 0.8144\n",
      "Epoch 96/100\n",
      "438/438 [==============================] - 1s 2ms/step - loss: 0.5598 - categorical_accuracy: 0.8099\n",
      "Epoch 97/100\n",
      "438/438 [==============================] - 1s 2ms/step - loss: 0.5605 - categorical_accuracy: 0.8101\n",
      "Epoch 98/100\n",
      "438/438 [==============================] - 1s 2ms/step - loss: 0.5578 - categorical_accuracy: 0.8132\n",
      "Epoch 99/100\n",
      "438/438 [==============================] - 1s 2ms/step - loss: 0.5614 - categorical_accuracy: 0.8129\n",
      "Epoch 100/100\n",
      "438/438 [==============================] - 1s 2ms/step - loss: 0.5697 - categorical_accuracy: 0.8057\n"
     ]
    },
    {
     "data": {
      "text/plain": [
       "<keras.src.callbacks.History at 0x246a492a7d0>"
      ]
     },
     "execution_count": 25,
     "metadata": {},
     "output_type": "execute_result"
    }
   ],
   "source": [
    "model.fit(x_train, y_train, epochs=100)"
   ]
  },
  {
   "cell_type": "code",
   "execution_count": 26,
   "id": "cbf339fa",
   "metadata": {},
   "outputs": [
    {
     "name": "stdout",
     "output_type": "stream",
     "text": [
      "188/188 [==============================] - 0s 2ms/step\n",
      "Accuracy: 0.98\n",
      "Precision: 0.98\n",
      "Recall: 0.98\n",
      "F1 Score: 0.98\n",
      "[[2090.  122.    3.  300.]]\n",
      "[[2090.  122.    3.  300.]]\n",
      "1/1 [==============================] - 0s 24ms/step\n",
      "[1]\n"
     ]
    }
   ],
   "source": [
    "y_predict = model.predict(x_test)\n",
    "from sklearn.metrics import accuracy_score, precision_score, recall_score, f1_score\n",
    "\n",
    "y_predict= np.argmax( y_predict,axis= 1)\n",
    "y_test_ = np.argmax(y_test,axis= 1)\n",
    "# print(y_predict)\n",
    "# print(y_test)\n",
    "# Evaluate the model\n",
    "accuracy = accuracy_score(y_test_, y_predict)\n",
    "precision = precision_score(y_test_, y_predict, average='weighted')\n",
    "recall = recall_score(y_test_, y_predict, average='weighted')\n",
    "f1 = f1_score(y_test_, y_predict, average='weighted')\n",
    "\n",
    "print(f\"Accuracy: {accuracy:.2f}\")\n",
    "print(f\"Precision: {precision:.2f}\")\n",
    "print(f\"Recall: {recall:.2f}\")\n",
    "print(f\"F1 Score: {f1:.2f}\")\n",
    "preProcessing= MinMaxScaler()\n",
    "scaled_data = np.array([[2090,122,3,300]],dtype = float)\n",
    "print(scaled_data)\n",
    "# scaled_data = preProcessing.fit_transform(scaled_data)\n",
    "\n",
    "print(scaled_data)\n",
    "print(np.argmax(model.predict(scaled_data),axis= 1)+1)\n"
   ]
  },
  {
   "cell_type": "code",
   "execution_count": 27,
   "id": "cf4ea5aa",
   "metadata": {},
   "outputs": [
    {
     "name": "stdout",
     "output_type": "stream",
     "text": [
      "Epoch 1/100\n",
      "438/438 [==============================] - 2s 2ms/step - loss: 0.5549 - categorical_accuracy: 0.8098\n",
      "Epoch 2/100\n",
      "438/438 [==============================] - 1s 2ms/step - loss: 0.5627 - categorical_accuracy: 0.8136\n",
      "Epoch 3/100\n",
      "438/438 [==============================] - 1s 2ms/step - loss: 0.5716 - categorical_accuracy: 0.8066\n",
      "Epoch 4/100\n",
      "438/438 [==============================] - 1s 2ms/step - loss: 0.5551 - categorical_accuracy: 0.8124\n",
      "Epoch 5/100\n",
      "438/438 [==============================] - 1s 2ms/step - loss: 0.5600 - categorical_accuracy: 0.8101\n",
      "Epoch 6/100\n",
      "438/438 [==============================] - 1s 2ms/step - loss: 0.5607 - categorical_accuracy: 0.8089\n",
      "Epoch 7/100\n",
      "438/438 [==============================] - 1s 2ms/step - loss: 0.5440 - categorical_accuracy: 0.8169\n",
      "Epoch 8/100\n",
      "438/438 [==============================] - 1s 2ms/step - loss: 0.5786 - categorical_accuracy: 0.8007\n",
      "Epoch 9/100\n",
      "438/438 [==============================] - 1s 2ms/step - loss: 0.5608 - categorical_accuracy: 0.8055\n",
      "Epoch 10/100\n",
      "438/438 [==============================] - 1s 2ms/step - loss: 0.5624 - categorical_accuracy: 0.8076\n",
      "Epoch 11/100\n",
      "438/438 [==============================] - 1s 2ms/step - loss: 0.5627 - categorical_accuracy: 0.8074\n",
      "Epoch 12/100\n",
      "438/438 [==============================] - 1s 2ms/step - loss: 0.5620 - categorical_accuracy: 0.8088\n",
      "Epoch 13/100\n",
      "438/438 [==============================] - 1s 2ms/step - loss: 0.5591 - categorical_accuracy: 0.8111\n",
      "Epoch 14/100\n",
      "438/438 [==============================] - 1s 2ms/step - loss: 0.5616 - categorical_accuracy: 0.8091\n",
      "Epoch 15/100\n",
      "438/438 [==============================] - 1s 2ms/step - loss: 0.5667 - categorical_accuracy: 0.8095\n",
      "Epoch 16/100\n",
      "438/438 [==============================] - 1s 2ms/step - loss: 0.5408 - categorical_accuracy: 0.8174\n",
      "Epoch 17/100\n",
      "438/438 [==============================] - 1s 2ms/step - loss: 0.5711 - categorical_accuracy: 0.8016\n",
      "Epoch 18/100\n",
      "438/438 [==============================] - 1s 2ms/step - loss: 0.5630 - categorical_accuracy: 0.8099\n",
      "Epoch 19/100\n",
      "438/438 [==============================] - 1s 2ms/step - loss: 0.5500 - categorical_accuracy: 0.8142\n",
      "Epoch 20/100\n",
      "438/438 [==============================] - 1s 2ms/step - loss: 0.5623 - categorical_accuracy: 0.8118\n",
      "Epoch 21/100\n",
      "438/438 [==============================] - 1s 2ms/step - loss: 0.5615 - categorical_accuracy: 0.8133\n",
      "Epoch 22/100\n",
      "438/438 [==============================] - 1s 2ms/step - loss: 0.5600 - categorical_accuracy: 0.8111\n",
      "Epoch 23/100\n",
      "438/438 [==============================] - 1s 2ms/step - loss: 0.5527 - categorical_accuracy: 0.8159\n",
      "Epoch 24/100\n",
      "438/438 [==============================] - 1s 2ms/step - loss: 0.5524 - categorical_accuracy: 0.8091\n",
      "Epoch 25/100\n",
      "438/438 [==============================] - 1s 2ms/step - loss: 0.5585 - categorical_accuracy: 0.8102\n",
      "Epoch 26/100\n",
      "438/438 [==============================] - 1s 2ms/step - loss: 0.5737 - categorical_accuracy: 0.8069\n",
      "Epoch 27/100\n",
      "438/438 [==============================] - 1s 2ms/step - loss: 0.5616 - categorical_accuracy: 0.8113\n",
      "Epoch 28/100\n",
      "438/438 [==============================] - 1s 2ms/step - loss: 0.5577 - categorical_accuracy: 0.8086\n",
      "Epoch 29/100\n",
      "438/438 [==============================] - 1s 2ms/step - loss: 0.5720 - categorical_accuracy: 0.8073\n",
      "Epoch 30/100\n",
      "438/438 [==============================] - 1s 2ms/step - loss: 0.5496 - categorical_accuracy: 0.8131\n",
      "Epoch 31/100\n",
      "438/438 [==============================] - 1s 2ms/step - loss: 0.5665 - categorical_accuracy: 0.8081\n",
      "Epoch 32/100\n",
      "438/438 [==============================] - 1s 2ms/step - loss: 0.5631 - categorical_accuracy: 0.8082\n",
      "Epoch 33/100\n",
      "438/438 [==============================] - 1s 2ms/step - loss: 0.5633 - categorical_accuracy: 0.8061\n",
      "Epoch 34/100\n",
      "438/438 [==============================] - 1s 2ms/step - loss: 0.5668 - categorical_accuracy: 0.8076\n",
      "Epoch 35/100\n",
      "438/438 [==============================] - 1s 2ms/step - loss: 0.5630 - categorical_accuracy: 0.8075\n",
      "Epoch 36/100\n",
      "438/438 [==============================] - 1s 2ms/step - loss: 0.5614 - categorical_accuracy: 0.8083\n",
      "Epoch 37/100\n",
      "438/438 [==============================] - 1s 2ms/step - loss: 0.5577 - categorical_accuracy: 0.8104\n",
      "Epoch 38/100\n",
      "438/438 [==============================] - 1s 2ms/step - loss: 0.5642 - categorical_accuracy: 0.8076\n",
      "Epoch 39/100\n",
      "438/438 [==============================] - 1s 2ms/step - loss: 0.5607 - categorical_accuracy: 0.8074\n",
      "Epoch 40/100\n",
      "438/438 [==============================] - 1s 2ms/step - loss: 0.5596 - categorical_accuracy: 0.8072\n",
      "Epoch 41/100\n",
      "438/438 [==============================] - 1s 2ms/step - loss: 0.5659 - categorical_accuracy: 0.8108\n",
      "Epoch 42/100\n",
      "438/438 [==============================] - 1s 2ms/step - loss: 0.5607 - categorical_accuracy: 0.8099\n",
      "Epoch 43/100\n",
      "438/438 [==============================] - 1s 2ms/step - loss: 0.5624 - categorical_accuracy: 0.8135\n",
      "Epoch 44/100\n",
      "438/438 [==============================] - 1s 2ms/step - loss: 0.5596 - categorical_accuracy: 0.8099\n",
      "Epoch 45/100\n",
      "438/438 [==============================] - 1s 2ms/step - loss: 0.5595 - categorical_accuracy: 0.8106\n",
      "Epoch 46/100\n",
      "438/438 [==============================] - 1s 2ms/step - loss: 0.5587 - categorical_accuracy: 0.8106\n",
      "Epoch 47/100\n",
      "438/438 [==============================] - 1s 2ms/step - loss: 0.5596 - categorical_accuracy: 0.8102\n",
      "Epoch 48/100\n",
      "438/438 [==============================] - 1s 2ms/step - loss: 0.5644 - categorical_accuracy: 0.8088\n",
      "Epoch 49/100\n",
      "438/438 [==============================] - 1s 2ms/step - loss: 0.5647 - categorical_accuracy: 0.8094\n",
      "Epoch 50/100\n",
      "438/438 [==============================] - 1s 2ms/step - loss: 0.5605 - categorical_accuracy: 0.8098\n",
      "Epoch 51/100\n",
      "438/438 [==============================] - 1s 2ms/step - loss: 0.5710 - categorical_accuracy: 0.8097\n",
      "Epoch 52/100\n",
      "438/438 [==============================] - 1s 2ms/step - loss: 0.5598 - categorical_accuracy: 0.8099\n",
      "Epoch 53/100\n",
      "438/438 [==============================] - 1s 2ms/step - loss: 0.5568 - categorical_accuracy: 0.8106\n",
      "Epoch 54/100\n",
      "438/438 [==============================] - 1s 2ms/step - loss: 0.5709 - categorical_accuracy: 0.8051\n",
      "Epoch 55/100\n",
      "438/438 [==============================] - 1s 2ms/step - loss: 0.5632 - categorical_accuracy: 0.8113\n",
      "Epoch 56/100\n",
      "438/438 [==============================] - 1s 2ms/step - loss: 0.5677 - categorical_accuracy: 0.8054\n",
      "Epoch 57/100\n",
      "438/438 [==============================] - 1s 2ms/step - loss: 0.5596 - categorical_accuracy: 0.8054\n",
      "Epoch 58/100\n",
      "438/438 [==============================] - 1s 2ms/step - loss: 0.5618 - categorical_accuracy: 0.8095\n",
      "Epoch 59/100\n",
      "438/438 [==============================] - 1s 2ms/step - loss: 0.5582 - categorical_accuracy: 0.8116\n",
      "Epoch 60/100\n",
      "438/438 [==============================] - 1s 2ms/step - loss: 0.5666 - categorical_accuracy: 0.8064\n",
      "Epoch 61/100\n",
      "438/438 [==============================] - 1s 2ms/step - loss: 0.5569 - categorical_accuracy: 0.8131\n",
      "Epoch 62/100\n",
      "438/438 [==============================] - 1s 2ms/step - loss: 0.5713 - categorical_accuracy: 0.8056\n",
      "Epoch 63/100\n",
      "438/438 [==============================] - 1s 2ms/step - loss: 0.5663 - categorical_accuracy: 0.8079\n",
      "Epoch 64/100\n",
      "438/438 [==============================] - 1s 2ms/step - loss: 0.5630 - categorical_accuracy: 0.8076\n",
      "Epoch 65/100\n",
      "438/438 [==============================] - 1s 2ms/step - loss: 0.5670 - categorical_accuracy: 0.8065\n",
      "Epoch 66/100\n",
      "438/438 [==============================] - 1s 2ms/step - loss: 0.5684 - categorical_accuracy: 0.8031\n",
      "Epoch 67/100\n",
      "438/438 [==============================] - 1s 2ms/step - loss: 0.5653 - categorical_accuracy: 0.8089\n",
      "Epoch 68/100\n",
      "438/438 [==============================] - 1s 2ms/step - loss: 0.5473 - categorical_accuracy: 0.8136\n",
      "Epoch 69/100\n",
      "438/438 [==============================] - 1s 2ms/step - loss: 0.5514 - categorical_accuracy: 0.8128\n",
      "Epoch 70/100\n",
      "438/438 [==============================] - 1s 2ms/step - loss: 0.5647 - categorical_accuracy: 0.8076\n",
      "Epoch 71/100\n",
      "438/438 [==============================] - 1s 2ms/step - loss: 0.5496 - categorical_accuracy: 0.8171\n",
      "Epoch 72/100\n",
      "438/438 [==============================] - 1s 2ms/step - loss: 0.5671 - categorical_accuracy: 0.8035\n",
      "Epoch 73/100\n",
      "438/438 [==============================] - 1s 2ms/step - loss: 0.5562 - categorical_accuracy: 0.8094\n",
      "Epoch 74/100\n",
      "438/438 [==============================] - 1s 2ms/step - loss: 0.5641 - categorical_accuracy: 0.8089\n",
      "Epoch 75/100\n",
      "438/438 [==============================] - 1s 2ms/step - loss: 0.5645 - categorical_accuracy: 0.8068\n",
      "Epoch 76/100\n",
      "438/438 [==============================] - 1s 2ms/step - loss: 0.5697 - categorical_accuracy: 0.8050\n",
      "Epoch 77/100\n",
      "438/438 [==============================] - 1s 2ms/step - loss: 0.5635 - categorical_accuracy: 0.8091\n",
      "Epoch 78/100\n",
      "438/438 [==============================] - 1s 2ms/step - loss: 0.5670 - categorical_accuracy: 0.8051\n",
      "Epoch 79/100\n",
      "438/438 [==============================] - 1s 2ms/step - loss: 0.5674 - categorical_accuracy: 0.8078\n",
      "Epoch 80/100\n",
      "438/438 [==============================] - 1s 2ms/step - loss: 0.5483 - categorical_accuracy: 0.8143\n",
      "Epoch 81/100\n",
      "438/438 [==============================] - 1s 2ms/step - loss: 0.5555 - categorical_accuracy: 0.8059\n",
      "Epoch 82/100\n",
      "438/438 [==============================] - 1s 2ms/step - loss: 0.5553 - categorical_accuracy: 0.8116\n",
      "Epoch 83/100\n",
      "438/438 [==============================] - 1s 2ms/step - loss: 0.5763 - categorical_accuracy: 0.8032\n",
      "Epoch 84/100\n",
      "438/438 [==============================] - 1s 2ms/step - loss: 0.5588 - categorical_accuracy: 0.8122\n",
      "Epoch 85/100\n",
      "438/438 [==============================] - 1s 2ms/step - loss: 0.5719 - categorical_accuracy: 0.8064\n",
      "Epoch 86/100\n",
      "438/438 [==============================] - 1s 2ms/step - loss: 0.5656 - categorical_accuracy: 0.8076\n",
      "Epoch 87/100\n",
      "438/438 [==============================] - 1s 2ms/step - loss: 0.5557 - categorical_accuracy: 0.8129\n",
      "Epoch 88/100\n",
      "438/438 [==============================] - 1s 2ms/step - loss: 0.5552 - categorical_accuracy: 0.8114\n",
      "Epoch 89/100\n",
      "438/438 [==============================] - 1s 2ms/step - loss: 0.5461 - categorical_accuracy: 0.8151\n",
      "Epoch 90/100\n",
      "438/438 [==============================] - 1s 2ms/step - loss: 0.5702 - categorical_accuracy: 0.8041\n",
      "Epoch 91/100\n",
      "438/438 [==============================] - 1s 2ms/step - loss: 0.5629 - categorical_accuracy: 0.8069\n",
      "Epoch 92/100\n",
      "438/438 [==============================] - 1s 2ms/step - loss: 0.5539 - categorical_accuracy: 0.8111\n",
      "Epoch 93/100\n",
      "438/438 [==============================] - 1s 2ms/step - loss: 0.5602 - categorical_accuracy: 0.8092\n",
      "Epoch 94/100\n",
      "438/438 [==============================] - 1s 2ms/step - loss: 0.5647 - categorical_accuracy: 0.8098\n",
      "Epoch 95/100\n",
      "438/438 [==============================] - 1s 2ms/step - loss: 0.5609 - categorical_accuracy: 0.8124\n",
      "Epoch 96/100\n",
      "438/438 [==============================] - 1s 2ms/step - loss: 0.5688 - categorical_accuracy: 0.8064\n",
      "Epoch 97/100\n",
      "438/438 [==============================] - 1s 2ms/step - loss: 0.5546 - categorical_accuracy: 0.8130\n",
      "Epoch 98/100\n",
      "438/438 [==============================] - 1s 2ms/step - loss: 0.5599 - categorical_accuracy: 0.8140\n",
      "Epoch 99/100\n",
      "438/438 [==============================] - 1s 2ms/step - loss: 0.5655 - categorical_accuracy: 0.8092\n",
      "Epoch 100/100\n",
      "438/438 [==============================] - 1s 2ms/step - loss: 0.5722 - categorical_accuracy: 0.8051\n"
     ]
    },
    {
     "data": {
      "text/plain": [
       "<keras.src.callbacks.History at 0x246a7984ed0>"
      ]
     },
     "execution_count": 27,
     "metadata": {},
     "output_type": "execute_result"
    }
   ],
   "source": [
    "model.compile(\n",
    "    optimizer=tf.keras.optimizers.Adam(learning_rate=0.001),\n",
    "    loss=tf.keras.losses.CategoricalCrossentropy(),\n",
    "    metrics=['categorical_accuracy']\n",
    ")\n",
    "model.fit(x_train, y_train, epochs=100)"
   ]
  },
  {
   "cell_type": "code",
   "execution_count": 30,
   "id": "cf868e5d",
   "metadata": {},
   "outputs": [
    {
     "name": "stdout",
     "output_type": "stream",
     "text": [
      "188/188 [==============================] - 0s 2ms/step\n",
      "Accuracy: 0.98\n",
      "Precision: 0.98\n",
      "Recall: 0.98\n",
      "F1 Score: 0.98\n",
      "1/1 [==============================] - 0s 21ms/step\n",
      "[3]\n"
     ]
    }
   ],
   "source": [
    "y_predict = model.predict(x_test)\n",
    "from sklearn.metrics import accuracy_score, precision_score, recall_score, f1_score\n",
    "\n",
    "y_predict= np.argmax( y_predict,axis= 1)\n",
    "y_test_ = np.argmax(y_test,axis= 1)\n",
    "# print(y_predict)\n",
    "# print(y_test)\n",
    "# Evaluate the model\n",
    "accuracy = accuracy_score(y_test_, y_predict)\n",
    "precision = precision_score(y_test_, y_predict, average='weighted')\n",
    "recall = recall_score(y_test_, y_predict, average='weighted')\n",
    "f1 = f1_score(y_test_, y_predict, average='weighted')\n",
    "\n",
    "print(f\"Accuracy: {accuracy:.2f}\")\n",
    "print(f\"Precision: {precision:.2f}\")\n",
    "print(f\"Recall: {recall:.2f}\")\n",
    "print(f\"F1 Score: {f1:.2f}\")\n",
    "\n",
    "print(np.argmax(model.predict(np.array([[200,100,300,300]])),axis= 1)+1)\n"
   ]
  },
  {
   "cell_type": "code",
   "execution_count": 29,
   "id": "397a6b39",
   "metadata": {},
   "outputs": [
    {
     "data": {
      "text/plain": [
       "['C:\\\\Users\\\\n\\\\Desktop\\\\apprentisage2.joblib']"
      ]
     },
     "execution_count": 29,
     "metadata": {},
     "output_type": "execute_result"
    }
   ],
   "source": [
    "import joblib as jb\n",
    "jb.dump(model ,r'C:\\Users\\n\\Desktop\\apprentisage2.joblib')"
   ]
  },
  {
   "cell_type": "code",
   "execution_count": 31,
   "id": "43ed364d",
   "metadata": {},
   "outputs": [],
   "source": [
    "from sklearn.model_selection import cross_val_score\n",
    "from scikeras.wrappers import KerasClassifier"
   ]
  },
  {
   "cell_type": "code",
   "execution_count": null,
   "id": "fb2e41db",
   "metadata": {},
   "outputs": [],
   "source": [
    "# from sklearn.model_selection import GridSearchCV"
   ]
  },
  {
   "cell_type": "markdown",
   "id": "a64c9778",
   "metadata": {},
   "source": [
    "# cross validation "
   ]
  },
  {
   "cell_type": "code",
   "execution_count": 32,
   "id": "28e6f6a0",
   "metadata": {},
   "outputs": [],
   "source": [
    "from tensorflow.keras.models import Sequential"
   ]
  },
  {
   "cell_type": "code",
   "execution_count": 33,
   "id": "3b0a419e",
   "metadata": {},
   "outputs": [],
   "source": [
    "def create_model_with_16Unites():\n",
    "    model = tf.keras.Sequential([\n",
    "        L.Input(shape = (4,)),\n",
    "        L.Dense(units=32 ,activation = 'relu'),\n",
    "        L.Dense(units=16 ,activation = 'relu'),\n",
    "        L.Dense(units=4 ,activation = 'softmax')\n",
    "    ])\n",
    "    model.compile(\n",
    "        optimizer=tf.keras.optimizers.Adam(learning_rate=0.001),\n",
    "        loss=tf.keras.losses.CategoricalCrossentropy(),\n",
    "        metrics=['mse', 'categorical_accuracy']\n",
    "    )\n",
    "    return model\n"
   ]
  },
  {
   "cell_type": "code",
   "execution_count": 34,
   "id": "6b1ce20e",
   "metadata": {},
   "outputs": [
    {
     "name": "stdout",
     "output_type": "stream",
     "text": [
      "[[0. 1. 0. 0.]\n",
      " [0. 0. 0. 1.]\n",
      " [0. 0. 1. 0.]\n",
      " ...\n",
      " [0. 0. 0. 1.]\n",
      " [1. 0. 0. 0.]\n",
      " [0. 0. 1. 0.]]\n"
     ]
    }
   ],
   "source": [
    "from tensorflow.keras.utils import to_categorical\n",
    "\n",
    "y_train_one_hot = to_categorical(y_train)\n",
    "print(y_train)\n",
    "\n",
    "model_II = KerasClassifier(model=create_model_with_16Unites, epochs=10 )"
   ]
  },
  {
   "cell_type": "code",
   "execution_count": 35,
   "id": "08d389b8",
   "metadata": {
    "scrolled": true
   },
   "outputs": [
    {
     "name": "stdout",
     "output_type": "stream",
     "text": [
      "Epoch 1/10\n",
      "350/350 [==============================] - 2s 2ms/step - loss: 0.9252 - mse: 0.1233 - categorical_accuracy: 0.7226\n",
      "Epoch 2/10\n",
      "350/350 [==============================] - 1s 2ms/step - loss: 0.3120 - mse: 0.0386 - categorical_accuracy: 0.9559\n",
      "Epoch 3/10\n",
      "350/350 [==============================] - 1s 2ms/step - loss: 0.1998 - mse: 0.0246 - categorical_accuracy: 0.9694\n",
      "Epoch 4/10\n",
      "350/350 [==============================] - 1s 2ms/step - loss: 0.1585 - mse: 0.0195 - categorical_accuracy: 0.9745\n",
      "Epoch 5/10\n",
      "350/350 [==============================] - 1s 2ms/step - loss: 0.1343 - mse: 0.0165 - categorical_accuracy: 0.9769\n",
      "Epoch 6/10\n",
      "350/350 [==============================] - 1s 2ms/step - loss: 0.1194 - mse: 0.0147 - categorical_accuracy: 0.9789\n",
      "Epoch 7/10\n",
      "350/350 [==============================] - 1s 2ms/step - loss: 0.1075 - mse: 0.0132 - categorical_accuracy: 0.9807\n",
      "Epoch 8/10\n",
      "350/350 [==============================] - 1s 2ms/step - loss: 0.0978 - mse: 0.0120 - categorical_accuracy: 0.9829\n",
      "Epoch 9/10\n",
      "350/350 [==============================] - 1s 2ms/step - loss: 0.0913 - mse: 0.0113 - categorical_accuracy: 0.9819\n",
      "Epoch 10/10\n",
      "350/350 [==============================] - 1s 2ms/step - loss: 0.0852 - mse: 0.0105 - categorical_accuracy: 0.9850\n",
      "88/88 [==============================] - 0s 2ms/step\n",
      "Epoch 1/10\n",
      "350/350 [==============================] - 2s 2ms/step - loss: 0.9653 - mse: 0.1299 - categorical_accuracy: 0.6964\n",
      "Epoch 2/10\n",
      "350/350 [==============================] - 1s 2ms/step - loss: 0.3349 - mse: 0.0419 - categorical_accuracy: 0.9461\n",
      "Epoch 3/10\n",
      "350/350 [==============================] - 1s 2ms/step - loss: 0.2140 - mse: 0.0264 - categorical_accuracy: 0.9699\n",
      "Epoch 4/10\n",
      "350/350 [==============================] - 1s 2ms/step - loss: 0.1687 - mse: 0.0208 - categorical_accuracy: 0.9730\n",
      "Epoch 5/10\n",
      "350/350 [==============================] - 1s 2ms/step - loss: 0.1439 - mse: 0.0178 - categorical_accuracy: 0.9745\n",
      "Epoch 6/10\n",
      "350/350 [==============================] - 1s 2ms/step - loss: 0.1283 - mse: 0.0160 - categorical_accuracy: 0.9757\n",
      "Epoch 7/10\n",
      "350/350 [==============================] - 1s 2ms/step - loss: 0.1156 - mse: 0.0144 - categorical_accuracy: 0.9781\n",
      "Epoch 8/10\n",
      "350/350 [==============================] - 1s 2ms/step - loss: 0.1061 - mse: 0.0132 - categorical_accuracy: 0.9806\n",
      "Epoch 9/10\n",
      "350/350 [==============================] - 1s 2ms/step - loss: 0.0991 - mse: 0.0123 - categorical_accuracy: 0.9807\n",
      "Epoch 10/10\n",
      "350/350 [==============================] - 1s 2ms/step - loss: 0.0913 - mse: 0.0113 - categorical_accuracy: 0.9845\n",
      "88/88 [==============================] - 0s 2ms/step\n",
      "Epoch 1/10\n",
      "350/350 [==============================] - 2s 2ms/step - loss: 0.8699 - mse: 0.1160 - categorical_accuracy: 0.7710\n",
      "Epoch 2/10\n",
      "350/350 [==============================] - 1s 2ms/step - loss: 0.2954 - mse: 0.0367 - categorical_accuracy: 0.9565\n",
      "Epoch 3/10\n",
      "350/350 [==============================] - 1s 2ms/step - loss: 0.1961 - mse: 0.0243 - categorical_accuracy: 0.9691\n",
      "Epoch 4/10\n",
      "350/350 [==============================] - 1s 2ms/step - loss: 0.1568 - mse: 0.0195 - categorical_accuracy: 0.9735\n",
      "Epoch 5/10\n",
      "350/350 [==============================] - 1s 2ms/step - loss: 0.1334 - mse: 0.0166 - categorical_accuracy: 0.9761\n",
      "Epoch 6/10\n",
      "350/350 [==============================] - 1s 2ms/step - loss: 0.1180 - mse: 0.0146 - categorical_accuracy: 0.9791\n",
      "Epoch 7/10\n",
      "350/350 [==============================] - 1s 3ms/step - loss: 0.1071 - mse: 0.0134 - categorical_accuracy: 0.9781\n",
      "Epoch 8/10\n",
      "350/350 [==============================] - 1s 2ms/step - loss: 0.0986 - mse: 0.0123 - categorical_accuracy: 0.9803\n",
      "Epoch 9/10\n",
      "350/350 [==============================] - 1s 2ms/step - loss: 0.0906 - mse: 0.0112 - categorical_accuracy: 0.9846\n",
      "Epoch 10/10\n",
      "350/350 [==============================] - 1s 2ms/step - loss: 0.0857 - mse: 0.0107 - categorical_accuracy: 0.9824\n",
      "88/88 [==============================] - 0s 2ms/step\n",
      "Epoch 1/10\n",
      "350/350 [==============================] - 2s 2ms/step - loss: 0.8599 - mse: 0.1151 - categorical_accuracy: 0.8028\n",
      "Epoch 2/10\n",
      "350/350 [==============================] - 1s 2ms/step - loss: 0.2987 - mse: 0.0372 - categorical_accuracy: 0.9579\n",
      "Epoch 3/10\n",
      "350/350 [==============================] - 1s 2ms/step - loss: 0.1971 - mse: 0.0245 - categorical_accuracy: 0.9692\n",
      "Epoch 4/10\n",
      "350/350 [==============================] - 1s 2ms/step - loss: 0.1588 - mse: 0.0198 - categorical_accuracy: 0.9710\n",
      "Epoch 5/10\n",
      "350/350 [==============================] - 1s 2ms/step - loss: 0.1354 - mse: 0.0168 - categorical_accuracy: 0.9758\n",
      "Epoch 6/10\n",
      "350/350 [==============================] - 1s 2ms/step - loss: 0.1214 - mse: 0.0152 - categorical_accuracy: 0.9772\n",
      "Epoch 7/10\n",
      "350/350 [==============================] - 1s 2ms/step - loss: 0.1117 - mse: 0.0142 - categorical_accuracy: 0.9755\n",
      "Epoch 8/10\n",
      "350/350 [==============================] - 1s 2ms/step - loss: 0.1018 - mse: 0.0128 - categorical_accuracy: 0.9786\n",
      "Epoch 9/10\n",
      "350/350 [==============================] - 1s 2ms/step - loss: 0.0953 - mse: 0.0120 - categorical_accuracy: 0.9795\n",
      "Epoch 10/10\n",
      "350/350 [==============================] - 1s 2ms/step - loss: 0.0905 - mse: 0.0115 - categorical_accuracy: 0.9805\n",
      "88/88 [==============================] - 0s 2ms/step\n",
      "Epoch 1/10\n",
      "350/350 [==============================] - 2s 2ms/step - loss: 0.8618 - mse: 0.1156 - categorical_accuracy: 0.7120\n",
      "Epoch 2/10\n",
      "350/350 [==============================] - 1s 2ms/step - loss: 0.2944 - mse: 0.0368 - categorical_accuracy: 0.9490\n",
      "Epoch 3/10\n",
      "350/350 [==============================] - 1s 2ms/step - loss: 0.1920 - mse: 0.0239 - categorical_accuracy: 0.9654\n",
      "Epoch 4/10\n",
      "350/350 [==============================] - 1s 2ms/step - loss: 0.1540 - mse: 0.0192 - categorical_accuracy: 0.9712\n",
      "Epoch 5/10\n",
      "350/350 [==============================] - 1s 2ms/step - loss: 0.1317 - mse: 0.0164 - categorical_accuracy: 0.9763\n",
      "Epoch 6/10\n",
      "350/350 [==============================] - 1s 2ms/step - loss: 0.1169 - mse: 0.0146 - categorical_accuracy: 0.9784\n",
      "Epoch 7/10\n",
      "350/350 [==============================] - 1s 2ms/step - loss: 0.1067 - mse: 0.0133 - categorical_accuracy: 0.9791\n",
      "Epoch 8/10\n",
      "350/350 [==============================] - 1s 2ms/step - loss: 0.0976 - mse: 0.0122 - categorical_accuracy: 0.9811\n",
      "Epoch 9/10\n",
      "350/350 [==============================] - 1s 2ms/step - loss: 0.0916 - mse: 0.0115 - categorical_accuracy: 0.9796\n",
      "Epoch 10/10\n",
      "350/350 [==============================] - 1s 2ms/step - loss: 0.0845 - mse: 0.0105 - categorical_accuracy: 0.9842\n",
      "88/88 [==============================] - 0s 2ms/step\n"
     ]
    }
   ],
   "source": [
    "scores = cross_val_score(model_II, x_train, y_train, cv=5)"
   ]
  },
  {
   "cell_type": "code",
   "execution_count": 36,
   "id": "cb23dfac",
   "metadata": {},
   "outputs": [
    {
     "data": {
      "text/plain": [
       "array([0.97964286, 0.975     , 0.98607143, 0.98535714, 0.98107143])"
      ]
     },
     "execution_count": 36,
     "metadata": {},
     "output_type": "execute_result"
    }
   ],
   "source": [
    "scores"
   ]
  },
  {
   "cell_type": "code",
   "execution_count": 37,
   "id": "213cca66",
   "metadata": {},
   "outputs": [
    {
     "name": "stdout",
     "output_type": "stream",
     "text": [
      "The score of cross validation is ::  0.9814285714285713\n"
     ]
    }
   ],
   "source": [
    "print(\"The score of cross validation is :: \", scores.mean())"
   ]
  },
  {
   "cell_type": "markdown",
   "id": "8b7574ba",
   "metadata": {},
   "source": [
    "# Cross Validation With Difference models"
   ]
  },
  {
   "cell_type": "code",
   "execution_count": 38,
   "id": "3c199088",
   "metadata": {},
   "outputs": [],
   "source": [
    "def create_model_with_8Unites():\n",
    "    model = tf.keras.Sequential([\n",
    "        L.Input(shape = (4,)),\n",
    "        L.Dense(units=8 ,activation = 'relu'),\n",
    "        L.Dense(units=8 ,activation = 'relu'),\n",
    "        L.Dense(units=4 ,activation = 'softmax')\n",
    "    ])\n",
    "    model.compile(\n",
    "        optimizer=tf.keras.optimizers.Adam(learning_rate=0.001),\n",
    "        loss=tf.keras.losses.CategoricalCrossentropy(),\n",
    "        metrics=['mse', 'categorical_accuracy']\n",
    "    )\n",
    "    return model\n",
    "def create_model_with_4Unites():\n",
    "    model = tf.keras.Sequential([\n",
    "        L.Input(shape = (4,)),\n",
    "        L.Dense(units=4 ,activation = 'relu'),\n",
    "        L.Dense(units=4 ,activation = 'relu'),\n",
    "        L.Dense(units=4 ,activation = 'softmax')\n",
    "    ])\n",
    "    model.compile(\n",
    "        optimizer=tf.keras.optimizers.Adam(learning_rate=0.001),\n",
    "        loss=tf.keras.losses.CategoricalCrossentropy(),\n",
    "        metrics=['mse', 'categorical_accuracy']\n",
    "    )\n",
    "    return model\n",
    "# ------------------------------------------\n",
    "def create_model_with_16Unites_and_sigmoid():\n",
    "    model = tf.keras.Sequential([\n",
    "        L.Input(shape = (4,)),\n",
    "        L.Dense(units=16 ,activation = 'sigmoid'),\n",
    "        L.Dense(units=16 ,activation = 'sigmoid'),\n",
    "        L.Dense(units=4 ,activation = 'softmax')\n",
    "    ])\n",
    "    model.compile(\n",
    "        optimizer=tf.keras.optimizers.Adam(learning_rate=0.001),\n",
    "        loss=tf.keras.losses.CategoricalCrossentropy(),\n",
    "        metrics=['mse', 'categorical_accuracy']\n",
    "    )\n",
    "    return model\n",
    "def create_model_with_8Unites_and_sigmoid():\n",
    "    model = tf.keras.Sequential([\n",
    "        L.Input(shape = (4,)),\n",
    "        L.Dense(units=8 ,activation = 'sigmoid'),\n",
    "        L.Dense(units=8 ,activation = 'sigmoid'),\n",
    "        L.Dense(units=4 ,activation = 'softmax')\n",
    "    ])\n",
    "    model.compile(\n",
    "        optimizer=tf.keras.optimizers.Adam(learning_rate=0.001),\n",
    "        loss=tf.keras.losses.CategoricalCrossentropy(),\n",
    "        metrics=['mse', 'categorical_accuracy']\n",
    "    )\n",
    "    return model\n",
    "def create_model_with_4Unites_and_sigmoid():\n",
    "    model = tf.keras.Sequential([\n",
    "        L.Input(shape = (4,)),\n",
    "        L.Dense(units=4 ,activation = 'sigmoid'),\n",
    "        L.Dense(units=4 ,activation = 'sigmoid'),\n",
    "        L.Dense(units=4 ,activation = 'softmax')\n",
    "    ])\n",
    "    model.compile(\n",
    "        optimizer=tf.keras.optimizers.Adam(learning_rate=0.001),\n",
    "        loss=tf.keras.losses.CategoricalCrossentropy(),\n",
    "        metrics=['mse', 'categorical_accuracy']\n",
    "    )\n",
    "    return model\n",
    "\n"
   ]
  },
  {
   "cell_type": "code",
   "execution_count": 39,
   "id": "63a0cda7",
   "metadata": {},
   "outputs": [],
   "source": [
    "models_after_cross_v = {}\n",
    "def Cross_validation_toAll_models(models = [create_model_with_16Unites(),] ):\n",
    "    models_score = []\n",
    "    i = 0\n",
    "    names =['model_with_16unites-relu-' ,'model_with_8unites-relu-','model_with_4unites-relu',\n",
    "           'model_with_16unites-sigmoid-','model_with_8unites-sigmoid-','model_with_4unites-sigmoid-']\n",
    "    for model,name in zip(models ,names):\n",
    "        i +=1\n",
    "        print(f'*'*30 +' Model number '+ str(i) +' --\"'+name +'\"--'+'*'*30 ,end='\\n\\n\\n')\n",
    "        kerasModel = KerasClassifier(model=model, epochs=10 )\n",
    "        models_score.append(cross_val_score(kerasModel ,All_x_train ,All_y_train ,cv =5))\n",
    "        models_after_cross_v[name] =model\n",
    "    return models_score\n"
   ]
  },
  {
   "cell_type": "code",
   "execution_count": 40,
   "id": "b0988d1b",
   "metadata": {},
   "outputs": [
    {
     "name": "stdout",
     "output_type": "stream",
     "text": [
      "****************************** Model number 1 --\"model_with_16unites-relu-\"--******************************\n",
      "\n",
      "\n",
      "INFO:tensorflow:Assets written to: C:\\Users\\n\\AppData\\Local\\Temp\\tmp9ouqn_2n\\assets\n"
     ]
    },
    {
     "name": "stderr",
     "output_type": "stream",
     "text": [
      "INFO:tensorflow:Assets written to: C:\\Users\\n\\AppData\\Local\\Temp\\tmp9ouqn_2n\\assets\n"
     ]
    },
    {
     "name": "stdout",
     "output_type": "stream",
     "text": [
      "WARNING:tensorflow:From D:\\Anaconda\\Lib\\site-packages\\keras\\src\\saving\\legacy\\saved_model\\load.py:107: The name tf.gfile.Exists is deprecated. Please use tf.io.gfile.exists instead.\n",
      "\n"
     ]
    },
    {
     "name": "stderr",
     "output_type": "stream",
     "text": [
      "WARNING:tensorflow:From D:\\Anaconda\\Lib\\site-packages\\keras\\src\\saving\\legacy\\saved_model\\load.py:107: The name tf.gfile.Exists is deprecated. Please use tf.io.gfile.exists instead.\n",
      "\n"
     ]
    },
    {
     "name": "stdout",
     "output_type": "stream",
     "text": [
      "WARNING:tensorflow:From D:\\Anaconda\\Lib\\site-packages\\keras\\src\\saving\\legacy\\save.py:538: The name tf.train.NewCheckpointReader is deprecated. Please use tf.compat.v1.train.NewCheckpointReader instead.\n",
      "\n"
     ]
    },
    {
     "name": "stderr",
     "output_type": "stream",
     "text": [
      "WARNING:tensorflow:From D:\\Anaconda\\Lib\\site-packages\\keras\\src\\saving\\legacy\\save.py:538: The name tf.train.NewCheckpointReader is deprecated. Please use tf.compat.v1.train.NewCheckpointReader instead.\n",
      "\n"
     ]
    },
    {
     "name": "stdout",
     "output_type": "stream",
     "text": [
      "Epoch 1/10\n",
      "500/500 [==============================] - 2s 2ms/step - loss: 0.6757 - mse: 0.0887 - categorical_accuracy: 0.8510\n",
      "Epoch 2/10\n",
      "500/500 [==============================] - 1s 2ms/step - loss: 0.2210 - mse: 0.0273 - categorical_accuracy: 0.9651\n",
      "Epoch 3/10\n",
      "500/500 [==============================] - 1s 2ms/step - loss: 0.1564 - mse: 0.0193 - categorical_accuracy: 0.9744\n",
      "Epoch 4/10\n",
      "500/500 [==============================] - 1s 2ms/step - loss: 0.1280 - mse: 0.0160 - categorical_accuracy: 0.9765\n",
      "Epoch 5/10\n",
      "500/500 [==============================] - 1s 2ms/step - loss: 0.1112 - mse: 0.0140 - categorical_accuracy: 0.9767\n",
      "Epoch 6/10\n",
      "500/500 [==============================] - 1s 2ms/step - loss: 0.0981 - mse: 0.0122 - categorical_accuracy: 0.9801\n",
      "Epoch 7/10\n",
      "500/500 [==============================] - 1s 2ms/step - loss: 0.0894 - mse: 0.0112 - categorical_accuracy: 0.9820\n",
      "Epoch 8/10\n",
      "500/500 [==============================] - 1s 2ms/step - loss: 0.0830 - mse: 0.0105 - categorical_accuracy: 0.9818\n",
      "Epoch 9/10\n",
      "500/500 [==============================] - 1s 3ms/step - loss: 0.0778 - mse: 0.0099 - categorical_accuracy: 0.9822\n",
      "Epoch 10/10\n",
      "500/500 [==============================] - 1s 2ms/step - loss: 0.0721 - mse: 0.0091 - categorical_accuracy: 0.9849\n",
      "125/125 [==============================] - 0s 2ms/step\n",
      "INFO:tensorflow:Assets written to: C:\\Users\\n\\AppData\\Local\\Temp\\tmpw_5w4w31\\assets\n"
     ]
    },
    {
     "name": "stderr",
     "output_type": "stream",
     "text": [
      "INFO:tensorflow:Assets written to: C:\\Users\\n\\AppData\\Local\\Temp\\tmpw_5w4w31\\assets\n"
     ]
    },
    {
     "name": "stdout",
     "output_type": "stream",
     "text": [
      "Epoch 1/10\n",
      "500/500 [==============================] - 2s 2ms/step - loss: 0.6731 - mse: 0.0883 - categorical_accuracy: 0.8536\n",
      "Epoch 2/10\n",
      "500/500 [==============================] - 1s 2ms/step - loss: 0.2184 - mse: 0.0270 - categorical_accuracy: 0.9657\n",
      "Epoch 3/10\n",
      "500/500 [==============================] - 1s 2ms/step - loss: 0.1542 - mse: 0.0191 - categorical_accuracy: 0.9737\n",
      "Epoch 4/10\n",
      "500/500 [==============================] - 1s 2ms/step - loss: 0.1251 - mse: 0.0155 - categorical_accuracy: 0.9785\n",
      "Epoch 5/10\n",
      "500/500 [==============================] - 1s 2ms/step - loss: 0.1084 - mse: 0.0135 - categorical_accuracy: 0.9803\n",
      "Epoch 6/10\n",
      "500/500 [==============================] - 1s 2ms/step - loss: 0.0970 - mse: 0.0121 - categorical_accuracy: 0.9822\n",
      "Epoch 7/10\n",
      "500/500 [==============================] - 1s 2ms/step - loss: 0.0878 - mse: 0.0110 - categorical_accuracy: 0.9814\n",
      "Epoch 8/10\n",
      "500/500 [==============================] - 1s 3ms/step - loss: 0.0808 - mse: 0.0101 - categorical_accuracy: 0.9844\n",
      "Epoch 9/10\n",
      "500/500 [==============================] - 1s 2ms/step - loss: 0.0764 - mse: 0.0097 - categorical_accuracy: 0.9818\n",
      "Epoch 10/10\n",
      "500/500 [==============================] - 1s 2ms/step - loss: 0.0711 - mse: 0.0090 - categorical_accuracy: 0.9853\n",
      "125/125 [==============================] - 0s 2ms/step\n",
      "INFO:tensorflow:Assets written to: C:\\Users\\n\\AppData\\Local\\Temp\\tmp0ezzntsv\\assets\n"
     ]
    },
    {
     "name": "stderr",
     "output_type": "stream",
     "text": [
      "INFO:tensorflow:Assets written to: C:\\Users\\n\\AppData\\Local\\Temp\\tmp0ezzntsv\\assets\n"
     ]
    },
    {
     "name": "stdout",
     "output_type": "stream",
     "text": [
      "Epoch 1/10\n",
      "500/500 [==============================] - 2s 2ms/step - loss: 0.6688 - mse: 0.0877 - categorical_accuracy: 0.8562\n",
      "Epoch 2/10\n",
      "500/500 [==============================] - 1s 2ms/step - loss: 0.2165 - mse: 0.0268 - categorical_accuracy: 0.9664\n",
      "Epoch 3/10\n",
      "500/500 [==============================] - 1s 2ms/step - loss: 0.1536 - mse: 0.0190 - categorical_accuracy: 0.9747\n",
      "Epoch 4/10\n",
      "500/500 [==============================] - 1s 2ms/step - loss: 0.1266 - mse: 0.0159 - categorical_accuracy: 0.9747\n",
      "Epoch 5/10\n",
      "500/500 [==============================] - 1s 2ms/step - loss: 0.1087 - mse: 0.0136 - categorical_accuracy: 0.9791\n",
      "Epoch 6/10\n",
      "500/500 [==============================] - 1s 2ms/step - loss: 0.0966 - mse: 0.0120 - categorical_accuracy: 0.9812\n",
      "Epoch 7/10\n",
      "500/500 [==============================] - 1s 2ms/step - loss: 0.0884 - mse: 0.0111 - categorical_accuracy: 0.9802\n",
      "Epoch 8/10\n",
      "500/500 [==============================] - 1s 2ms/step - loss: 0.0818 - mse: 0.0103 - categorical_accuracy: 0.9827\n",
      "Epoch 9/10\n",
      "500/500 [==============================] - 1s 2ms/step - loss: 0.0762 - mse: 0.0096 - categorical_accuracy: 0.9837\n",
      "Epoch 10/10\n",
      "500/500 [==============================] - 1s 2ms/step - loss: 0.0729 - mse: 0.0094 - categorical_accuracy: 0.9818\n",
      "125/125 [==============================] - 0s 2ms/step\n",
      "INFO:tensorflow:Assets written to: C:\\Users\\n\\AppData\\Local\\Temp\\tmpaso7txjq\\assets\n"
     ]
    },
    {
     "name": "stderr",
     "output_type": "stream",
     "text": [
      "INFO:tensorflow:Assets written to: C:\\Users\\n\\AppData\\Local\\Temp\\tmpaso7txjq\\assets\n"
     ]
    },
    {
     "name": "stdout",
     "output_type": "stream",
     "text": [
      "Epoch 1/10\n",
      "500/500 [==============================] - 2s 2ms/step - loss: 0.6713 - mse: 0.0881 - categorical_accuracy: 0.8500\n",
      "Epoch 2/10\n",
      "500/500 [==============================] - 1s 2ms/step - loss: 0.2162 - mse: 0.0264 - categorical_accuracy: 0.9702\n",
      "Epoch 3/10\n",
      "500/500 [==============================] - 1s 2ms/step - loss: 0.1517 - mse: 0.0186 - categorical_accuracy: 0.9764\n",
      "Epoch 4/10\n",
      "500/500 [==============================] - 1s 2ms/step - loss: 0.1238 - mse: 0.0153 - categorical_accuracy: 0.9791\n",
      "Epoch 5/10\n",
      "500/500 [==============================] - 1s 2ms/step - loss: 0.1068 - mse: 0.0132 - categorical_accuracy: 0.9808\n",
      "Epoch 6/10\n",
      "500/500 [==============================] - 1s 2ms/step - loss: 0.0960 - mse: 0.0120 - categorical_accuracy: 0.9803\n",
      "Epoch 7/10\n",
      "500/500 [==============================] - 1s 2ms/step - loss: 0.0853 - mse: 0.0105 - categorical_accuracy: 0.9840\n",
      "Epoch 8/10\n",
      "500/500 [==============================] - 1s 2ms/step - loss: 0.0798 - mse: 0.0100 - categorical_accuracy: 0.9832\n",
      "Epoch 9/10\n",
      "500/500 [==============================] - 1s 2ms/step - loss: 0.0746 - mse: 0.0094 - categorical_accuracy: 0.9841\n",
      "Epoch 10/10\n",
      "500/500 [==============================] - 1s 2ms/step - loss: 0.0697 - mse: 0.0088 - categorical_accuracy: 0.9848\n",
      "125/125 [==============================] - 0s 2ms/step\n",
      "INFO:tensorflow:Assets written to: C:\\Users\\n\\AppData\\Local\\Temp\\tmpaz3aanhb\\assets\n"
     ]
    },
    {
     "name": "stderr",
     "output_type": "stream",
     "text": [
      "INFO:tensorflow:Assets written to: C:\\Users\\n\\AppData\\Local\\Temp\\tmpaz3aanhb\\assets\n"
     ]
    },
    {
     "name": "stdout",
     "output_type": "stream",
     "text": [
      "Epoch 1/10\n",
      "500/500 [==============================] - 2s 2ms/step - loss: 0.6612 - mse: 0.0866 - categorical_accuracy: 0.8568\n",
      "Epoch 2/10\n",
      "500/500 [==============================] - 1s 2ms/step - loss: 0.2131 - mse: 0.0262 - categorical_accuracy: 0.9682\n",
      "Epoch 3/10\n",
      "500/500 [==============================] - 1s 2ms/step - loss: 0.1511 - mse: 0.0187 - categorical_accuracy: 0.9744\n",
      "Epoch 4/10\n",
      "500/500 [==============================] - 1s 2ms/step - loss: 0.1244 - mse: 0.0156 - categorical_accuracy: 0.9757\n",
      "Epoch 5/10\n",
      "500/500 [==============================] - 1s 2ms/step - loss: 0.1073 - mse: 0.0134 - categorical_accuracy: 0.9797\n",
      "Epoch 6/10\n",
      "500/500 [==============================] - 1s 2ms/step - loss: 0.0964 - mse: 0.0121 - categorical_accuracy: 0.9802\n",
      "Epoch 7/10\n",
      "500/500 [==============================] - 1s 2ms/step - loss: 0.0863 - mse: 0.0107 - categorical_accuracy: 0.9833\n",
      "Epoch 8/10\n",
      "500/500 [==============================] - 1s 2ms/step - loss: 0.0809 - mse: 0.0102 - categorical_accuracy: 0.9818\n",
      "Epoch 9/10\n",
      "500/500 [==============================] - 1s 2ms/step - loss: 0.0750 - mse: 0.0095 - categorical_accuracy: 0.9831\n",
      "Epoch 10/10\n",
      "500/500 [==============================] - 1s 2ms/step - loss: 0.0726 - mse: 0.0093 - categorical_accuracy: 0.9822\n",
      "125/125 [==============================] - 0s 2ms/step\n",
      "****************************** Model number 2 --\"model_with_8unites-relu-\"--******************************\n",
      "\n",
      "\n",
      "INFO:tensorflow:Assets written to: C:\\Users\\n\\AppData\\Local\\Temp\\tmpah3qjt9v\\assets\n"
     ]
    },
    {
     "name": "stderr",
     "output_type": "stream",
     "text": [
      "INFO:tensorflow:Assets written to: C:\\Users\\n\\AppData\\Local\\Temp\\tmpah3qjt9v\\assets\n"
     ]
    },
    {
     "name": "stdout",
     "output_type": "stream",
     "text": [
      "Epoch 1/10\n",
      "500/500 [==============================] - 2s 2ms/step - loss: 1.1010 - mse: 0.1498 - categorical_accuracy: 0.5795\n",
      "Epoch 2/10\n",
      "500/500 [==============================] - 1s 2ms/step - loss: 0.5929 - mse: 0.0798 - categorical_accuracy: 0.8144\n",
      "Epoch 3/10\n",
      "500/500 [==============================] - 1s 2ms/step - loss: 0.3283 - mse: 0.0415 - categorical_accuracy: 0.9312\n",
      "Epoch 4/10\n",
      "500/500 [==============================] - 1s 2ms/step - loss: 0.2335 - mse: 0.0290 - categorical_accuracy: 0.9571\n",
      "Epoch 5/10\n",
      "500/500 [==============================] - 1s 2ms/step - loss: 0.1894 - mse: 0.0235 - categorical_accuracy: 0.9666\n",
      "Epoch 6/10\n",
      "500/500 [==============================] - 1s 2ms/step - loss: 0.1639 - mse: 0.0204 - categorical_accuracy: 0.9717\n",
      "Epoch 7/10\n",
      "500/500 [==============================] - 1s 2ms/step - loss: 0.1464 - mse: 0.0182 - categorical_accuracy: 0.9736\n",
      "Epoch 8/10\n",
      "500/500 [==============================] - 1s 2ms/step - loss: 0.1341 - mse: 0.0168 - categorical_accuracy: 0.9741\n",
      "Epoch 9/10\n",
      "500/500 [==============================] - 1s 2ms/step - loss: 0.1240 - mse: 0.0156 - categorical_accuracy: 0.9754\n",
      "Epoch 10/10\n",
      "500/500 [==============================] - 1s 2ms/step - loss: 0.1160 - mse: 0.0146 - categorical_accuracy: 0.9772\n",
      "125/125 [==============================] - 0s 2ms/step\n",
      "INFO:tensorflow:Assets written to: C:\\Users\\n\\AppData\\Local\\Temp\\tmpwbq7f1ok\\assets\n"
     ]
    },
    {
     "name": "stderr",
     "output_type": "stream",
     "text": [
      "INFO:tensorflow:Assets written to: C:\\Users\\n\\AppData\\Local\\Temp\\tmpwbq7f1ok\\assets\n"
     ]
    },
    {
     "name": "stdout",
     "output_type": "stream",
     "text": [
      "Epoch 1/10\n",
      "500/500 [==============================] - 2s 2ms/step - loss: 1.1038 - mse: 0.1504 - categorical_accuracy: 0.5771\n",
      "Epoch 2/10\n",
      "500/500 [==============================] - 1s 2ms/step - loss: 0.6097 - mse: 0.0822 - categorical_accuracy: 0.8022\n",
      "Epoch 3/10\n",
      "500/500 [==============================] - 1s 2ms/step - loss: 0.3257 - mse: 0.0413 - categorical_accuracy: 0.9346\n",
      "Epoch 4/10\n",
      "500/500 [==============================] - 1s 2ms/step - loss: 0.2211 - mse: 0.0273 - categorical_accuracy: 0.9645\n",
      "Epoch 5/10\n",
      "500/500 [==============================] - 1s 2ms/step - loss: 0.1781 - mse: 0.0219 - categorical_accuracy: 0.9707\n",
      "Epoch 6/10\n",
      "500/500 [==============================] - 1s 2ms/step - loss: 0.1540 - mse: 0.0190 - categorical_accuracy: 0.9751\n",
      "Epoch 7/10\n",
      "500/500 [==============================] - 1s 2ms/step - loss: 0.1374 - mse: 0.0170 - categorical_accuracy: 0.9770\n",
      "Epoch 8/10\n",
      "500/500 [==============================] - 1s 2ms/step - loss: 0.1249 - mse: 0.0154 - categorical_accuracy: 0.9785\n",
      "Epoch 9/10\n",
      "500/500 [==============================] - 1s 2ms/step - loss: 0.1158 - mse: 0.0144 - categorical_accuracy: 0.9789\n",
      "Epoch 10/10\n",
      "500/500 [==============================] - 1s 2ms/step - loss: 0.1083 - mse: 0.0135 - categorical_accuracy: 0.9799\n",
      "125/125 [==============================] - 0s 2ms/step\n",
      "INFO:tensorflow:Assets written to: C:\\Users\\n\\AppData\\Local\\Temp\\tmpglwco_q8\\assets\n"
     ]
    },
    {
     "name": "stderr",
     "output_type": "stream",
     "text": [
      "INFO:tensorflow:Assets written to: C:\\Users\\n\\AppData\\Local\\Temp\\tmpglwco_q8\\assets\n"
     ]
    },
    {
     "name": "stdout",
     "output_type": "stream",
     "text": [
      "Epoch 1/10\n",
      "500/500 [==============================] - 2s 2ms/step - loss: 1.1059 - mse: 0.1506 - categorical_accuracy: 0.5792\n",
      "Epoch 2/10\n",
      "500/500 [==============================] - 1s 2ms/step - loss: 0.5754 - mse: 0.0767 - categorical_accuracy: 0.8229\n",
      "Epoch 3/10\n",
      "500/500 [==============================] - 1s 2ms/step - loss: 0.2991 - mse: 0.0373 - categorical_accuracy: 0.9470\n",
      "Epoch 4/10\n",
      "500/500 [==============================] - 1s 2ms/step - loss: 0.2158 - mse: 0.0266 - categorical_accuracy: 0.9638\n",
      "Epoch 5/10\n",
      "500/500 [==============================] - 1s 2ms/step - loss: 0.1770 - mse: 0.0218 - categorical_accuracy: 0.9722\n",
      "Epoch 6/10\n",
      "500/500 [==============================] - 1s 2ms/step - loss: 0.1531 - mse: 0.0189 - categorical_accuracy: 0.9760\n",
      "Epoch 7/10\n",
      "500/500 [==============================] - 1s 2ms/step - loss: 0.1373 - mse: 0.0170 - categorical_accuracy: 0.9758\n",
      "Epoch 8/10\n",
      "500/500 [==============================] - 1s 2ms/step - loss: 0.1251 - mse: 0.0155 - categorical_accuracy: 0.9783\n",
      "Epoch 9/10\n",
      "500/500 [==============================] - 1s 2ms/step - loss: 0.1155 - mse: 0.0143 - categorical_accuracy: 0.9798\n",
      "Epoch 10/10\n",
      "500/500 [==============================] - 1s 2ms/step - loss: 0.1079 - mse: 0.0133 - categorical_accuracy: 0.9811\n",
      "125/125 [==============================] - 0s 2ms/step\n",
      "INFO:tensorflow:Assets written to: C:\\Users\\n\\AppData\\Local\\Temp\\tmpih5ggqwx\\assets\n"
     ]
    },
    {
     "name": "stderr",
     "output_type": "stream",
     "text": [
      "INFO:tensorflow:Assets written to: C:\\Users\\n\\AppData\\Local\\Temp\\tmpih5ggqwx\\assets\n"
     ]
    },
    {
     "name": "stdout",
     "output_type": "stream",
     "text": [
      "WARNING:tensorflow:Detecting that an object or model or tf.train.Checkpoint is being deleted with unrestored values. See the following logs for the specific values in question. To silence these warnings, use `status.expect_partial()`. See https://www.tensorflow.org/api_docs/python/tf/train/Checkpoint#restorefor details about the status object returned by the restore function.\n"
     ]
    },
    {
     "name": "stderr",
     "output_type": "stream",
     "text": [
      "WARNING:tensorflow:Detecting that an object or model or tf.train.Checkpoint is being deleted with unrestored values. See the following logs for the specific values in question. To silence these warnings, use `status.expect_partial()`. See https://www.tensorflow.org/api_docs/python/tf/train/Checkpoint#restorefor details about the status object returned by the restore function.\n"
     ]
    },
    {
     "name": "stdout",
     "output_type": "stream",
     "text": [
      "WARNING:tensorflow:Value in checkpoint could not be found in the restored object: (root).keras_api.metrics.0.total\n"
     ]
    },
    {
     "name": "stderr",
     "output_type": "stream",
     "text": [
      "WARNING:tensorflow:Value in checkpoint could not be found in the restored object: (root).keras_api.metrics.0.total\n"
     ]
    },
    {
     "name": "stdout",
     "output_type": "stream",
     "text": [
      "WARNING:tensorflow:Value in checkpoint could not be found in the restored object: (root).keras_api.metrics.0.count\n"
     ]
    },
    {
     "name": "stderr",
     "output_type": "stream",
     "text": [
      "WARNING:tensorflow:Value in checkpoint could not be found in the restored object: (root).keras_api.metrics.0.count\n"
     ]
    },
    {
     "name": "stdout",
     "output_type": "stream",
     "text": [
      "WARNING:tensorflow:Value in checkpoint could not be found in the restored object: (root).keras_api.metrics.1.total\n"
     ]
    },
    {
     "name": "stderr",
     "output_type": "stream",
     "text": [
      "WARNING:tensorflow:Value in checkpoint could not be found in the restored object: (root).keras_api.metrics.1.total\n"
     ]
    },
    {
     "name": "stdout",
     "output_type": "stream",
     "text": [
      "WARNING:tensorflow:Value in checkpoint could not be found in the restored object: (root).keras_api.metrics.1.count\n"
     ]
    },
    {
     "name": "stderr",
     "output_type": "stream",
     "text": [
      "WARNING:tensorflow:Value in checkpoint could not be found in the restored object: (root).keras_api.metrics.1.count\n"
     ]
    },
    {
     "name": "stdout",
     "output_type": "stream",
     "text": [
      "WARNING:tensorflow:Value in checkpoint could not be found in the restored object: (root).keras_api.metrics.2.total\n"
     ]
    },
    {
     "name": "stderr",
     "output_type": "stream",
     "text": [
      "WARNING:tensorflow:Value in checkpoint could not be found in the restored object: (root).keras_api.metrics.2.total\n"
     ]
    },
    {
     "name": "stdout",
     "output_type": "stream",
     "text": [
      "WARNING:tensorflow:Value in checkpoint could not be found in the restored object: (root).keras_api.metrics.2.count\n"
     ]
    },
    {
     "name": "stderr",
     "output_type": "stream",
     "text": [
      "WARNING:tensorflow:Value in checkpoint could not be found in the restored object: (root).keras_api.metrics.2.count\n"
     ]
    },
    {
     "name": "stdout",
     "output_type": "stream",
     "text": [
      "WARNING:tensorflow:Detecting that an object or model or tf.train.Checkpoint is being deleted with unrestored values. See the following logs for the specific values in question. To silence these warnings, use `status.expect_partial()`. See https://www.tensorflow.org/api_docs/python/tf/train/Checkpoint#restorefor details about the status object returned by the restore function.\n"
     ]
    },
    {
     "name": "stderr",
     "output_type": "stream",
     "text": [
      "WARNING:tensorflow:Detecting that an object or model or tf.train.Checkpoint is being deleted with unrestored values. See the following logs for the specific values in question. To silence these warnings, use `status.expect_partial()`. See https://www.tensorflow.org/api_docs/python/tf/train/Checkpoint#restorefor details about the status object returned by the restore function.\n"
     ]
    },
    {
     "name": "stdout",
     "output_type": "stream",
     "text": [
      "WARNING:tensorflow:Value in checkpoint could not be found in the restored object: (root).keras_api.metrics.0.total\n"
     ]
    },
    {
     "name": "stderr",
     "output_type": "stream",
     "text": [
      "WARNING:tensorflow:Value in checkpoint could not be found in the restored object: (root).keras_api.metrics.0.total\n"
     ]
    },
    {
     "name": "stdout",
     "output_type": "stream",
     "text": [
      "WARNING:tensorflow:Value in checkpoint could not be found in the restored object: (root).keras_api.metrics.0.count\n"
     ]
    },
    {
     "name": "stderr",
     "output_type": "stream",
     "text": [
      "WARNING:tensorflow:Value in checkpoint could not be found in the restored object: (root).keras_api.metrics.0.count\n"
     ]
    },
    {
     "name": "stdout",
     "output_type": "stream",
     "text": [
      "WARNING:tensorflow:Value in checkpoint could not be found in the restored object: (root).keras_api.metrics.1.total\n"
     ]
    },
    {
     "name": "stderr",
     "output_type": "stream",
     "text": [
      "WARNING:tensorflow:Value in checkpoint could not be found in the restored object: (root).keras_api.metrics.1.total\n"
     ]
    },
    {
     "name": "stdout",
     "output_type": "stream",
     "text": [
      "WARNING:tensorflow:Value in checkpoint could not be found in the restored object: (root).keras_api.metrics.1.count\n"
     ]
    },
    {
     "name": "stderr",
     "output_type": "stream",
     "text": [
      "WARNING:tensorflow:Value in checkpoint could not be found in the restored object: (root).keras_api.metrics.1.count\n"
     ]
    },
    {
     "name": "stdout",
     "output_type": "stream",
     "text": [
      "WARNING:tensorflow:Value in checkpoint could not be found in the restored object: (root).keras_api.metrics.2.total\n"
     ]
    },
    {
     "name": "stderr",
     "output_type": "stream",
     "text": [
      "WARNING:tensorflow:Value in checkpoint could not be found in the restored object: (root).keras_api.metrics.2.total\n"
     ]
    },
    {
     "name": "stdout",
     "output_type": "stream",
     "text": [
      "WARNING:tensorflow:Value in checkpoint could not be found in the restored object: (root).keras_api.metrics.2.count\n"
     ]
    },
    {
     "name": "stderr",
     "output_type": "stream",
     "text": [
      "WARNING:tensorflow:Value in checkpoint could not be found in the restored object: (root).keras_api.metrics.2.count\n"
     ]
    },
    {
     "name": "stdout",
     "output_type": "stream",
     "text": [
      "WARNING:tensorflow:Detecting that an object or model or tf.train.Checkpoint is being deleted with unrestored values. See the following logs for the specific values in question. To silence these warnings, use `status.expect_partial()`. See https://www.tensorflow.org/api_docs/python/tf/train/Checkpoint#restorefor details about the status object returned by the restore function.\n"
     ]
    },
    {
     "name": "stderr",
     "output_type": "stream",
     "text": [
      "WARNING:tensorflow:Detecting that an object or model or tf.train.Checkpoint is being deleted with unrestored values. See the following logs for the specific values in question. To silence these warnings, use `status.expect_partial()`. See https://www.tensorflow.org/api_docs/python/tf/train/Checkpoint#restorefor details about the status object returned by the restore function.\n"
     ]
    },
    {
     "name": "stdout",
     "output_type": "stream",
     "text": [
      "WARNING:tensorflow:Value in checkpoint could not be found in the restored object: (root).keras_api.metrics.0.total\n"
     ]
    },
    {
     "name": "stderr",
     "output_type": "stream",
     "text": [
      "WARNING:tensorflow:Value in checkpoint could not be found in the restored object: (root).keras_api.metrics.0.total\n"
     ]
    },
    {
     "name": "stdout",
     "output_type": "stream",
     "text": [
      "WARNING:tensorflow:Value in checkpoint could not be found in the restored object: (root).keras_api.metrics.0.count\n"
     ]
    },
    {
     "name": "stderr",
     "output_type": "stream",
     "text": [
      "WARNING:tensorflow:Value in checkpoint could not be found in the restored object: (root).keras_api.metrics.0.count\n"
     ]
    },
    {
     "name": "stdout",
     "output_type": "stream",
     "text": [
      "WARNING:tensorflow:Value in checkpoint could not be found in the restored object: (root).keras_api.metrics.1.total\n"
     ]
    },
    {
     "name": "stderr",
     "output_type": "stream",
     "text": [
      "WARNING:tensorflow:Value in checkpoint could not be found in the restored object: (root).keras_api.metrics.1.total\n"
     ]
    },
    {
     "name": "stdout",
     "output_type": "stream",
     "text": [
      "WARNING:tensorflow:Value in checkpoint could not be found in the restored object: (root).keras_api.metrics.1.count\n"
     ]
    },
    {
     "name": "stderr",
     "output_type": "stream",
     "text": [
      "WARNING:tensorflow:Value in checkpoint could not be found in the restored object: (root).keras_api.metrics.1.count\n"
     ]
    },
    {
     "name": "stdout",
     "output_type": "stream",
     "text": [
      "WARNING:tensorflow:Value in checkpoint could not be found in the restored object: (root).keras_api.metrics.2.total\n"
     ]
    },
    {
     "name": "stderr",
     "output_type": "stream",
     "text": [
      "WARNING:tensorflow:Value in checkpoint could not be found in the restored object: (root).keras_api.metrics.2.total\n"
     ]
    },
    {
     "name": "stdout",
     "output_type": "stream",
     "text": [
      "WARNING:tensorflow:Value in checkpoint could not be found in the restored object: (root).keras_api.metrics.2.count\n"
     ]
    },
    {
     "name": "stderr",
     "output_type": "stream",
     "text": [
      "WARNING:tensorflow:Value in checkpoint could not be found in the restored object: (root).keras_api.metrics.2.count\n"
     ]
    },
    {
     "name": "stdout",
     "output_type": "stream",
     "text": [
      "WARNING:tensorflow:Detecting that an object or model or tf.train.Checkpoint is being deleted with unrestored values. See the following logs for the specific values in question. To silence these warnings, use `status.expect_partial()`. See https://www.tensorflow.org/api_docs/python/tf/train/Checkpoint#restorefor details about the status object returned by the restore function.\n"
     ]
    },
    {
     "name": "stderr",
     "output_type": "stream",
     "text": [
      "WARNING:tensorflow:Detecting that an object or model or tf.train.Checkpoint is being deleted with unrestored values. See the following logs for the specific values in question. To silence these warnings, use `status.expect_partial()`. See https://www.tensorflow.org/api_docs/python/tf/train/Checkpoint#restorefor details about the status object returned by the restore function.\n"
     ]
    },
    {
     "name": "stdout",
     "output_type": "stream",
     "text": [
      "WARNING:tensorflow:Value in checkpoint could not be found in the restored object: (root).keras_api.metrics.0.total\n"
     ]
    },
    {
     "name": "stderr",
     "output_type": "stream",
     "text": [
      "WARNING:tensorflow:Value in checkpoint could not be found in the restored object: (root).keras_api.metrics.0.total\n"
     ]
    },
    {
     "name": "stdout",
     "output_type": "stream",
     "text": [
      "WARNING:tensorflow:Value in checkpoint could not be found in the restored object: (root).keras_api.metrics.0.count\n"
     ]
    },
    {
     "name": "stderr",
     "output_type": "stream",
     "text": [
      "WARNING:tensorflow:Value in checkpoint could not be found in the restored object: (root).keras_api.metrics.0.count\n"
     ]
    },
    {
     "name": "stdout",
     "output_type": "stream",
     "text": [
      "WARNING:tensorflow:Value in checkpoint could not be found in the restored object: (root).keras_api.metrics.1.total\n"
     ]
    },
    {
     "name": "stderr",
     "output_type": "stream",
     "text": [
      "WARNING:tensorflow:Value in checkpoint could not be found in the restored object: (root).keras_api.metrics.1.total\n"
     ]
    },
    {
     "name": "stdout",
     "output_type": "stream",
     "text": [
      "WARNING:tensorflow:Value in checkpoint could not be found in the restored object: (root).keras_api.metrics.1.count\n"
     ]
    },
    {
     "name": "stderr",
     "output_type": "stream",
     "text": [
      "WARNING:tensorflow:Value in checkpoint could not be found in the restored object: (root).keras_api.metrics.1.count\n"
     ]
    },
    {
     "name": "stdout",
     "output_type": "stream",
     "text": [
      "WARNING:tensorflow:Value in checkpoint could not be found in the restored object: (root).keras_api.metrics.2.total\n"
     ]
    },
    {
     "name": "stderr",
     "output_type": "stream",
     "text": [
      "WARNING:tensorflow:Value in checkpoint could not be found in the restored object: (root).keras_api.metrics.2.total\n"
     ]
    },
    {
     "name": "stdout",
     "output_type": "stream",
     "text": [
      "WARNING:tensorflow:Value in checkpoint could not be found in the restored object: (root).keras_api.metrics.2.count\n"
     ]
    },
    {
     "name": "stderr",
     "output_type": "stream",
     "text": [
      "WARNING:tensorflow:Value in checkpoint could not be found in the restored object: (root).keras_api.metrics.2.count\n"
     ]
    },
    {
     "name": "stdout",
     "output_type": "stream",
     "text": [
      "WARNING:tensorflow:Detecting that an object or model or tf.train.Checkpoint is being deleted with unrestored values. See the following logs for the specific values in question. To silence these warnings, use `status.expect_partial()`. See https://www.tensorflow.org/api_docs/python/tf/train/Checkpoint#restorefor details about the status object returned by the restore function.\n"
     ]
    },
    {
     "name": "stderr",
     "output_type": "stream",
     "text": [
      "WARNING:tensorflow:Detecting that an object or model or tf.train.Checkpoint is being deleted with unrestored values. See the following logs for the specific values in question. To silence these warnings, use `status.expect_partial()`. See https://www.tensorflow.org/api_docs/python/tf/train/Checkpoint#restorefor details about the status object returned by the restore function.\n"
     ]
    },
    {
     "name": "stdout",
     "output_type": "stream",
     "text": [
      "WARNING:tensorflow:Value in checkpoint could not be found in the restored object: (root).keras_api.metrics.0.total\n"
     ]
    },
    {
     "name": "stderr",
     "output_type": "stream",
     "text": [
      "WARNING:tensorflow:Value in checkpoint could not be found in the restored object: (root).keras_api.metrics.0.total\n"
     ]
    },
    {
     "name": "stdout",
     "output_type": "stream",
     "text": [
      "WARNING:tensorflow:Value in checkpoint could not be found in the restored object: (root).keras_api.metrics.0.count\n"
     ]
    },
    {
     "name": "stderr",
     "output_type": "stream",
     "text": [
      "WARNING:tensorflow:Value in checkpoint could not be found in the restored object: (root).keras_api.metrics.0.count\n"
     ]
    },
    {
     "name": "stdout",
     "output_type": "stream",
     "text": [
      "WARNING:tensorflow:Value in checkpoint could not be found in the restored object: (root).keras_api.metrics.1.total\n"
     ]
    },
    {
     "name": "stderr",
     "output_type": "stream",
     "text": [
      "WARNING:tensorflow:Value in checkpoint could not be found in the restored object: (root).keras_api.metrics.1.total\n"
     ]
    },
    {
     "name": "stdout",
     "output_type": "stream",
     "text": [
      "WARNING:tensorflow:Value in checkpoint could not be found in the restored object: (root).keras_api.metrics.1.count\n"
     ]
    },
    {
     "name": "stderr",
     "output_type": "stream",
     "text": [
      "WARNING:tensorflow:Value in checkpoint could not be found in the restored object: (root).keras_api.metrics.1.count\n"
     ]
    },
    {
     "name": "stdout",
     "output_type": "stream",
     "text": [
      "WARNING:tensorflow:Value in checkpoint could not be found in the restored object: (root).keras_api.metrics.2.total\n"
     ]
    },
    {
     "name": "stderr",
     "output_type": "stream",
     "text": [
      "WARNING:tensorflow:Value in checkpoint could not be found in the restored object: (root).keras_api.metrics.2.total\n"
     ]
    },
    {
     "name": "stdout",
     "output_type": "stream",
     "text": [
      "WARNING:tensorflow:Value in checkpoint could not be found in the restored object: (root).keras_api.metrics.2.count\n"
     ]
    },
    {
     "name": "stderr",
     "output_type": "stream",
     "text": [
      "WARNING:tensorflow:Value in checkpoint could not be found in the restored object: (root).keras_api.metrics.2.count\n"
     ]
    },
    {
     "name": "stdout",
     "output_type": "stream",
     "text": [
      "WARNING:tensorflow:Detecting that an object or model or tf.train.Checkpoint is being deleted with unrestored values. See the following logs for the specific values in question. To silence these warnings, use `status.expect_partial()`. See https://www.tensorflow.org/api_docs/python/tf/train/Checkpoint#restorefor details about the status object returned by the restore function.\n"
     ]
    },
    {
     "name": "stderr",
     "output_type": "stream",
     "text": [
      "WARNING:tensorflow:Detecting that an object or model or tf.train.Checkpoint is being deleted with unrestored values. See the following logs for the specific values in question. To silence these warnings, use `status.expect_partial()`. See https://www.tensorflow.org/api_docs/python/tf/train/Checkpoint#restorefor details about the status object returned by the restore function.\n"
     ]
    },
    {
     "name": "stdout",
     "output_type": "stream",
     "text": [
      "WARNING:tensorflow:Value in checkpoint could not be found in the restored object: (root).keras_api.metrics.0.total\n"
     ]
    },
    {
     "name": "stderr",
     "output_type": "stream",
     "text": [
      "WARNING:tensorflow:Value in checkpoint could not be found in the restored object: (root).keras_api.metrics.0.total\n"
     ]
    },
    {
     "name": "stdout",
     "output_type": "stream",
     "text": [
      "WARNING:tensorflow:Value in checkpoint could not be found in the restored object: (root).keras_api.metrics.0.count\n"
     ]
    },
    {
     "name": "stderr",
     "output_type": "stream",
     "text": [
      "WARNING:tensorflow:Value in checkpoint could not be found in the restored object: (root).keras_api.metrics.0.count\n"
     ]
    },
    {
     "name": "stdout",
     "output_type": "stream",
     "text": [
      "WARNING:tensorflow:Value in checkpoint could not be found in the restored object: (root).keras_api.metrics.1.total\n"
     ]
    },
    {
     "name": "stderr",
     "output_type": "stream",
     "text": [
      "WARNING:tensorflow:Value in checkpoint could not be found in the restored object: (root).keras_api.metrics.1.total\n"
     ]
    },
    {
     "name": "stdout",
     "output_type": "stream",
     "text": [
      "WARNING:tensorflow:Value in checkpoint could not be found in the restored object: (root).keras_api.metrics.1.count\n"
     ]
    },
    {
     "name": "stderr",
     "output_type": "stream",
     "text": [
      "WARNING:tensorflow:Value in checkpoint could not be found in the restored object: (root).keras_api.metrics.1.count\n"
     ]
    },
    {
     "name": "stdout",
     "output_type": "stream",
     "text": [
      "WARNING:tensorflow:Value in checkpoint could not be found in the restored object: (root).keras_api.metrics.2.total\n"
     ]
    },
    {
     "name": "stderr",
     "output_type": "stream",
     "text": [
      "WARNING:tensorflow:Value in checkpoint could not be found in the restored object: (root).keras_api.metrics.2.total\n"
     ]
    },
    {
     "name": "stdout",
     "output_type": "stream",
     "text": [
      "WARNING:tensorflow:Value in checkpoint could not be found in the restored object: (root).keras_api.metrics.2.count\n"
     ]
    },
    {
     "name": "stderr",
     "output_type": "stream",
     "text": [
      "WARNING:tensorflow:Value in checkpoint could not be found in the restored object: (root).keras_api.metrics.2.count\n"
     ]
    },
    {
     "name": "stdout",
     "output_type": "stream",
     "text": [
      "Epoch 1/10\n",
      "500/500 [==============================] - 2s 2ms/step - loss: 1.0988 - mse: 0.1494 - categorical_accuracy: 0.5764\n",
      "Epoch 2/10\n",
      "500/500 [==============================] - 1s 2ms/step - loss: 0.6007 - mse: 0.0803 - categorical_accuracy: 0.8087\n",
      "Epoch 3/10\n",
      "500/500 [==============================] - 1s 2ms/step - loss: 0.3268 - mse: 0.0410 - categorical_accuracy: 0.9415\n",
      "Epoch 4/10\n",
      "500/500 [==============================] - 1s 2ms/step - loss: 0.2265 - mse: 0.0277 - categorical_accuracy: 0.9678\n",
      "Epoch 5/10\n",
      "500/500 [==============================] - 1s 2ms/step - loss: 0.1819 - mse: 0.0222 - categorical_accuracy: 0.9751\n",
      "Epoch 6/10\n",
      "500/500 [==============================] - 1s 2ms/step - loss: 0.1563 - mse: 0.0191 - categorical_accuracy: 0.9768\n",
      "Epoch 7/10\n",
      "500/500 [==============================] - 1s 2ms/step - loss: 0.1382 - mse: 0.0169 - categorical_accuracy: 0.9798\n",
      "Epoch 8/10\n",
      "500/500 [==============================] - 1s 2ms/step - loss: 0.1254 - mse: 0.0153 - categorical_accuracy: 0.9814\n",
      "Epoch 9/10\n",
      "500/500 [==============================] - 1s 2ms/step - loss: 0.1156 - mse: 0.0141 - categorical_accuracy: 0.9821\n",
      "Epoch 10/10\n",
      "500/500 [==============================] - 1s 2ms/step - loss: 0.1077 - mse: 0.0132 - categorical_accuracy: 0.9833\n",
      "125/125 [==============================] - 0s 2ms/step\n",
      "INFO:tensorflow:Assets written to: C:\\Users\\n\\AppData\\Local\\Temp\\tmpz_der_8_\\assets\n"
     ]
    },
    {
     "name": "stderr",
     "output_type": "stream",
     "text": [
      "INFO:tensorflow:Assets written to: C:\\Users\\n\\AppData\\Local\\Temp\\tmpz_der_8_\\assets\n"
     ]
    },
    {
     "name": "stdout",
     "output_type": "stream",
     "text": [
      "Epoch 1/10\n",
      "500/500 [==============================] - 2s 2ms/step - loss: 1.1033 - mse: 0.1502 - categorical_accuracy: 0.5782\n",
      "Epoch 2/10\n",
      "500/500 [==============================] - 1s 2ms/step - loss: 0.6045 - mse: 0.0810 - categorical_accuracy: 0.8091\n",
      "Epoch 3/10\n",
      "500/500 [==============================] - 1s 2ms/step - loss: 0.3302 - mse: 0.0417 - categorical_accuracy: 0.9371\n",
      "Epoch 4/10\n",
      "500/500 [==============================] - 1s 2ms/step - loss: 0.2341 - mse: 0.0290 - categorical_accuracy: 0.9599\n",
      "Epoch 5/10\n",
      "500/500 [==============================] - 1s 2ms/step - loss: 0.1891 - mse: 0.0234 - categorical_accuracy: 0.9670\n",
      "Epoch 6/10\n",
      "500/500 [==============================] - 1s 2ms/step - loss: 0.1628 - mse: 0.0201 - categorical_accuracy: 0.9737\n",
      "Epoch 7/10\n",
      "500/500 [==============================] - 1s 2ms/step - loss: 0.1458 - mse: 0.0181 - categorical_accuracy: 0.9754\n",
      "Epoch 8/10\n",
      "500/500 [==============================] - 1s 2ms/step - loss: 0.1331 - mse: 0.0166 - categorical_accuracy: 0.9756\n",
      "Epoch 9/10\n",
      "500/500 [==============================] - 1s 2ms/step - loss: 0.1234 - mse: 0.0155 - categorical_accuracy: 0.9771\n",
      "Epoch 10/10\n",
      "500/500 [==============================] - 1s 2ms/step - loss: 0.1153 - mse: 0.0145 - categorical_accuracy: 0.9792\n",
      "125/125 [==============================] - 0s 2ms/step\n",
      "****************************** Model number 3 --\"model_with_4unites-relu\"--******************************\n",
      "\n",
      "\n",
      "INFO:tensorflow:Assets written to: C:\\Users\\n\\AppData\\Local\\Temp\\tmpj1lxw44u\\assets\n"
     ]
    },
    {
     "name": "stderr",
     "output_type": "stream",
     "text": [
      "INFO:tensorflow:Assets written to: C:\\Users\\n\\AppData\\Local\\Temp\\tmpj1lxw44u\\assets\n"
     ]
    },
    {
     "name": "stdout",
     "output_type": "stream",
     "text": [
      "Epoch 1/10\n",
      "500/500 [==============================] - 2s 2ms/step - loss: 1.2386 - mse: 0.1701 - categorical_accuracy: 0.4773\n",
      "Epoch 2/10\n",
      "500/500 [==============================] - 1s 2ms/step - loss: 1.0074 - mse: 0.1392 - categorical_accuracy: 0.6329\n",
      "Epoch 3/10\n",
      "500/500 [==============================] - 1s 2ms/step - loss: 0.8397 - mse: 0.1187 - categorical_accuracy: 0.6541\n",
      "Epoch 4/10\n",
      "500/500 [==============================] - 1s 2ms/step - loss: 0.7688 - mse: 0.1111 - categorical_accuracy: 0.6599\n",
      "Epoch 5/10\n",
      "500/500 [==============================] - 1s 2ms/step - loss: 0.7345 - mse: 0.1076 - categorical_accuracy: 0.6631\n",
      "Epoch 6/10\n",
      "500/500 [==============================] - 1s 2ms/step - loss: 0.7146 - mse: 0.1057 - categorical_accuracy: 0.6651\n",
      "Epoch 7/10\n",
      "500/500 [==============================] - 1s 2ms/step - loss: 0.7018 - mse: 0.1044 - categorical_accuracy: 0.6665\n",
      "Epoch 8/10\n",
      "500/500 [==============================] - 1s 2ms/step - loss: 0.6931 - mse: 0.1036 - categorical_accuracy: 0.6697\n",
      "Epoch 9/10\n",
      "500/500 [==============================] - 1s 2ms/step - loss: 0.6861 - mse: 0.1028 - categorical_accuracy: 0.6689\n",
      "Epoch 10/10\n",
      "500/500 [==============================] - 1s 2ms/step - loss: 0.6805 - mse: 0.1022 - categorical_accuracy: 0.6692\n",
      "125/125 [==============================] - 0s 2ms/step\n",
      "INFO:tensorflow:Assets written to: C:\\Users\\n\\AppData\\Local\\Temp\\tmpzg09yqmn\\assets\n"
     ]
    },
    {
     "name": "stderr",
     "output_type": "stream",
     "text": [
      "INFO:tensorflow:Assets written to: C:\\Users\\n\\AppData\\Local\\Temp\\tmpzg09yqmn\\assets\n"
     ]
    },
    {
     "name": "stdout",
     "output_type": "stream",
     "text": [
      "Epoch 1/10\n",
      "500/500 [==============================] - 2s 2ms/step - loss: 1.2359 - mse: 0.1699 - categorical_accuracy: 0.4851\n",
      "Epoch 2/10\n",
      "500/500 [==============================] - 1s 2ms/step - loss: 1.0058 - mse: 0.1393 - categorical_accuracy: 0.6326\n",
      "Epoch 3/10\n",
      "500/500 [==============================] - 1s 2ms/step - loss: 0.8405 - mse: 0.1190 - categorical_accuracy: 0.6534\n",
      "Epoch 4/10\n",
      "500/500 [==============================] - 1s 3ms/step - loss: 0.7701 - mse: 0.1115 - categorical_accuracy: 0.6583\n",
      "Epoch 5/10\n",
      "500/500 [==============================] - 2s 3ms/step - loss: 0.7359 - mse: 0.1080 - categorical_accuracy: 0.6622\n",
      "Epoch 6/10\n",
      "500/500 [==============================] - 1s 2ms/step - loss: 0.7157 - mse: 0.1059 - categorical_accuracy: 0.6650\n",
      "Epoch 7/10\n",
      "500/500 [==============================] - 1s 2ms/step - loss: 0.7027 - mse: 0.1046 - categorical_accuracy: 0.6668\n",
      "Epoch 8/10\n",
      "500/500 [==============================] - 1s 2ms/step - loss: 0.6933 - mse: 0.1037 - categorical_accuracy: 0.6665\n",
      "Epoch 9/10\n",
      "500/500 [==============================] - 1s 2ms/step - loss: 0.6856 - mse: 0.1028 - categorical_accuracy: 0.6674\n",
      "Epoch 10/10\n",
      "500/500 [==============================] - 1s 2ms/step - loss: 0.6802 - mse: 0.1022 - categorical_accuracy: 0.6678\n",
      "125/125 [==============================] - 0s 2ms/step\n",
      "INFO:tensorflow:Assets written to: C:\\Users\\n\\AppData\\Local\\Temp\\tmpbv27nei5\\assets\n"
     ]
    },
    {
     "name": "stderr",
     "output_type": "stream",
     "text": [
      "INFO:tensorflow:Assets written to: C:\\Users\\n\\AppData\\Local\\Temp\\tmpbv27nei5\\assets\n"
     ]
    },
    {
     "name": "stdout",
     "output_type": "stream",
     "text": [
      "Epoch 1/10\n",
      "500/500 [==============================] - 2s 2ms/step - loss: 1.2375 - mse: 0.1700 - categorical_accuracy: 0.4773\n",
      "Epoch 2/10\n",
      "500/500 [==============================] - 1s 2ms/step - loss: 1.0087 - mse: 0.1395 - categorical_accuracy: 0.6304\n",
      "Epoch 3/10\n",
      "500/500 [==============================] - 1s 2ms/step - loss: 0.8404 - mse: 0.1190 - categorical_accuracy: 0.6528\n",
      "Epoch 4/10\n",
      "500/500 [==============================] - 1s 2ms/step - loss: 0.7704 - mse: 0.1115 - categorical_accuracy: 0.6588\n",
      "Epoch 5/10\n",
      "500/500 [==============================] - 1s 2ms/step - loss: 0.7364 - mse: 0.1080 - categorical_accuracy: 0.6624\n",
      "Epoch 6/10\n",
      "500/500 [==============================] - 1s 2ms/step - loss: 0.7167 - mse: 0.1061 - categorical_accuracy: 0.6652\n",
      "Epoch 7/10\n",
      "500/500 [==============================] - 1s 2ms/step - loss: 0.7038 - mse: 0.1047 - categorical_accuracy: 0.6679\n",
      "Epoch 8/10\n",
      "500/500 [==============================] - 1s 2ms/step - loss: 0.6946 - mse: 0.1038 - categorical_accuracy: 0.6678\n",
      "Epoch 9/10\n",
      "500/500 [==============================] - 1s 2ms/step - loss: 0.6878 - mse: 0.1030 - categorical_accuracy: 0.6714\n",
      "Epoch 10/10\n",
      "500/500 [==============================] - 1s 2ms/step - loss: 0.6820 - mse: 0.1023 - categorical_accuracy: 0.6697\n",
      "125/125 [==============================] - 0s 2ms/step\n",
      "INFO:tensorflow:Assets written to: C:\\Users\\n\\AppData\\Local\\Temp\\tmpp_5w6au4\\assets\n"
     ]
    },
    {
     "name": "stderr",
     "output_type": "stream",
     "text": [
      "INFO:tensorflow:Assets written to: C:\\Users\\n\\AppData\\Local\\Temp\\tmpp_5w6au4\\assets\n"
     ]
    },
    {
     "name": "stdout",
     "output_type": "stream",
     "text": [
      "Epoch 1/10\n",
      "500/500 [==============================] - 2s 2ms/step - loss: 1.2356 - mse: 0.1699 - categorical_accuracy: 0.4866\n",
      "Epoch 2/10\n",
      "500/500 [==============================] - 1s 2ms/step - loss: 0.9995 - mse: 0.1385 - categorical_accuracy: 0.6339\n",
      "Epoch 3/10\n",
      "500/500 [==============================] - 1s 2ms/step - loss: 0.8352 - mse: 0.1184 - categorical_accuracy: 0.6539\n",
      "Epoch 4/10\n",
      "500/500 [==============================] - 1s 2ms/step - loss: 0.7653 - mse: 0.1107 - categorical_accuracy: 0.6599\n",
      "Epoch 5/10\n",
      "500/500 [==============================] - 1s 2ms/step - loss: 0.7317 - mse: 0.1072 - categorical_accuracy: 0.6636\n",
      "Epoch 6/10\n",
      "500/500 [==============================] - 1s 2ms/step - loss: 0.7119 - mse: 0.1052 - categorical_accuracy: 0.6662\n",
      "Epoch 7/10\n",
      "500/500 [==============================] - 1s 2ms/step - loss: 0.6990 - mse: 0.1039 - categorical_accuracy: 0.6672\n",
      "Epoch 8/10\n",
      "500/500 [==============================] - 1s 2ms/step - loss: 0.6896 - mse: 0.1029 - categorical_accuracy: 0.6689\n",
      "Epoch 9/10\n",
      "500/500 [==============================] - 1s 2ms/step - loss: 0.6824 - mse: 0.1021 - categorical_accuracy: 0.6702\n",
      "Epoch 10/10\n",
      "500/500 [==============================] - 1s 2ms/step - loss: 0.6768 - mse: 0.1015 - categorical_accuracy: 0.6699\n",
      "125/125 [==============================] - 0s 2ms/step\n",
      "INFO:tensorflow:Assets written to: C:\\Users\\n\\AppData\\Local\\Temp\\tmp55bdhbob\\assets\n"
     ]
    },
    {
     "name": "stderr",
     "output_type": "stream",
     "text": [
      "INFO:tensorflow:Assets written to: C:\\Users\\n\\AppData\\Local\\Temp\\tmp55bdhbob\\assets\n"
     ]
    },
    {
     "name": "stdout",
     "output_type": "stream",
     "text": [
      "Epoch 1/10\n",
      "500/500 [==============================] - 2s 2ms/step - loss: 1.2396 - mse: 0.1703 - categorical_accuracy: 0.4873\n",
      "Epoch 2/10\n",
      "500/500 [==============================] - 1s 2ms/step - loss: 1.0034 - mse: 0.1388 - categorical_accuracy: 0.6349\n",
      "Epoch 3/10\n",
      "500/500 [==============================] - 1s 2ms/step - loss: 0.8346 - mse: 0.1181 - categorical_accuracy: 0.6572\n",
      "Epoch 4/10\n",
      "500/500 [==============================] - 1s 2ms/step - loss: 0.7651 - mse: 0.1108 - categorical_accuracy: 0.6624\n",
      "Epoch 5/10\n",
      "500/500 [==============================] - 1s 2ms/step - loss: 0.7317 - mse: 0.1074 - categorical_accuracy: 0.6642\n",
      "Epoch 6/10\n",
      "500/500 [==============================] - 1s 2ms/step - loss: 0.7131 - mse: 0.1057 - categorical_accuracy: 0.6659\n",
      "Epoch 7/10\n",
      "500/500 [==============================] - 1s 2ms/step - loss: 0.7004 - mse: 0.1045 - categorical_accuracy: 0.6689\n",
      "Epoch 8/10\n",
      "500/500 [==============================] - 1s 2ms/step - loss: 0.6918 - mse: 0.1036 - categorical_accuracy: 0.6705\n",
      "Epoch 9/10\n",
      "500/500 [==============================] - 1s 2ms/step - loss: 0.6852 - mse: 0.1029 - categorical_accuracy: 0.6699\n",
      "Epoch 10/10\n",
      "500/500 [==============================] - 1s 2ms/step - loss: 0.6799 - mse: 0.1023 - categorical_accuracy: 0.6737\n",
      "125/125 [==============================] - 0s 2ms/step\n",
      "****************************** Model number 4 --\"model_with_16unites-sigmoid-\"--******************************\n",
      "\n",
      "\n",
      "INFO:tensorflow:Assets written to: C:\\Users\\n\\AppData\\Local\\Temp\\tmpj5hh221u\\assets\n"
     ]
    },
    {
     "name": "stderr",
     "output_type": "stream",
     "text": [
      "INFO:tensorflow:Assets written to: C:\\Users\\n\\AppData\\Local\\Temp\\tmpj5hh221u\\assets\n"
     ]
    },
    {
     "name": "stdout",
     "output_type": "stream",
     "text": [
      "Epoch 1/10\n",
      "500/500 [==============================] - 2s 2ms/step - loss: 1.3748 - mse: 0.1862 - categorical_accuracy: 0.3571\n",
      "Epoch 2/10\n",
      "500/500 [==============================] - 1s 2ms/step - loss: 1.2424 - mse: 0.1688 - categorical_accuracy: 0.6802\n",
      "Epoch 3/10\n",
      "500/500 [==============================] - 1s 2ms/step - loss: 0.9039 - mse: 0.1214 - categorical_accuracy: 0.8474\n",
      "Epoch 4/10\n",
      "500/500 [==============================] - 1s 2ms/step - loss: 0.5688 - mse: 0.0727 - categorical_accuracy: 0.9294\n",
      "Epoch 5/10\n",
      "500/500 [==============================] - 1s 2ms/step - loss: 0.3951 - mse: 0.0487 - categorical_accuracy: 0.9646\n",
      "Epoch 6/10\n",
      "500/500 [==============================] - 1s 2ms/step - loss: 0.3104 - mse: 0.0379 - categorical_accuracy: 0.9705\n",
      "Epoch 7/10\n",
      "500/500 [==============================] - 1s 2ms/step - loss: 0.2617 - mse: 0.0319 - categorical_accuracy: 0.9725\n",
      "Epoch 8/10\n",
      "500/500 [==============================] - 1s 2ms/step - loss: 0.2296 - mse: 0.0280 - categorical_accuracy: 0.9721\n",
      "Epoch 9/10\n",
      "500/500 [==============================] - 1s 2ms/step - loss: 0.2067 - mse: 0.0253 - categorical_accuracy: 0.9728\n",
      "Epoch 10/10\n",
      "500/500 [==============================] - 1s 2ms/step - loss: 0.1889 - mse: 0.0231 - categorical_accuracy: 0.9748\n",
      "125/125 [==============================] - 0s 2ms/step\n",
      "INFO:tensorflow:Assets written to: C:\\Users\\n\\AppData\\Local\\Temp\\tmpb6t9u1he\\assets\n"
     ]
    },
    {
     "name": "stderr",
     "output_type": "stream",
     "text": [
      "INFO:tensorflow:Assets written to: C:\\Users\\n\\AppData\\Local\\Temp\\tmpb6t9u1he\\assets\n"
     ]
    },
    {
     "name": "stdout",
     "output_type": "stream",
     "text": [
      "Epoch 1/10\n",
      "500/500 [==============================] - 2s 2ms/step - loss: 1.3753 - mse: 0.1862 - categorical_accuracy: 0.3451\n",
      "Epoch 2/10\n",
      "500/500 [==============================] - 1s 2ms/step - loss: 1.2412 - mse: 0.1686 - categorical_accuracy: 0.6976\n",
      "Epoch 3/10\n",
      "500/500 [==============================] - 1s 2ms/step - loss: 0.8993 - mse: 0.1207 - categorical_accuracy: 0.8493\n",
      "Epoch 4/10\n",
      "500/500 [==============================] - 1s 2ms/step - loss: 0.5681 - mse: 0.0726 - categorical_accuracy: 0.9312\n",
      "Epoch 5/10\n",
      "500/500 [==============================] - 1s 2ms/step - loss: 0.3967 - mse: 0.0490 - categorical_accuracy: 0.9607\n",
      "Epoch 6/10\n",
      "500/500 [==============================] - 1s 2ms/step - loss: 0.3119 - mse: 0.0381 - categorical_accuracy: 0.9698\n",
      "Epoch 7/10\n",
      "500/500 [==============================] - 1s 2ms/step - loss: 0.2632 - mse: 0.0321 - categorical_accuracy: 0.9714\n",
      "Epoch 8/10\n",
      "500/500 [==============================] - 1s 2ms/step - loss: 0.2306 - mse: 0.0281 - categorical_accuracy: 0.9719\n",
      "Epoch 9/10\n",
      "500/500 [==============================] - 1s 2ms/step - loss: 0.2072 - mse: 0.0253 - categorical_accuracy: 0.9719\n",
      "Epoch 10/10\n",
      "500/500 [==============================] - 1s 2ms/step - loss: 0.1897 - mse: 0.0233 - categorical_accuracy: 0.9734\n",
      "125/125 [==============================] - 0s 2ms/step\n",
      "INFO:tensorflow:Assets written to: C:\\Users\\n\\AppData\\Local\\Temp\\tmpq4k2olsl\\assets\n"
     ]
    },
    {
     "name": "stderr",
     "output_type": "stream",
     "text": [
      "INFO:tensorflow:Assets written to: C:\\Users\\n\\AppData\\Local\\Temp\\tmpq4k2olsl\\assets\n"
     ]
    },
    {
     "name": "stdout",
     "output_type": "stream",
     "text": [
      "Epoch 1/10\n",
      "500/500 [==============================] - 2s 2ms/step - loss: 1.3773 - mse: 0.1865 - categorical_accuracy: 0.3789\n",
      "Epoch 2/10\n",
      "500/500 [==============================] - 1s 2ms/step - loss: 1.2505 - mse: 0.1698 - categorical_accuracy: 0.6768\n",
      "Epoch 3/10\n",
      "500/500 [==============================] - 1s 2ms/step - loss: 0.9177 - mse: 0.1234 - categorical_accuracy: 0.8319\n",
      "Epoch 4/10\n",
      "500/500 [==============================] - 1s 2ms/step - loss: 0.5771 - mse: 0.0740 - categorical_accuracy: 0.9251\n",
      "Epoch 5/10\n",
      "500/500 [==============================] - 1s 2ms/step - loss: 0.3991 - mse: 0.0493 - categorical_accuracy: 0.9591\n",
      "Epoch 6/10\n",
      "500/500 [==============================] - 1s 2ms/step - loss: 0.3130 - mse: 0.0383 - categorical_accuracy: 0.9672\n",
      "Epoch 7/10\n",
      "500/500 [==============================] - 1s 2ms/step - loss: 0.2638 - mse: 0.0322 - categorical_accuracy: 0.9707\n",
      "Epoch 8/10\n",
      "500/500 [==============================] - 1s 2ms/step - loss: 0.2311 - mse: 0.0282 - categorical_accuracy: 0.9718\n",
      "Epoch 9/10\n",
      "500/500 [==============================] - 1s 2ms/step - loss: 0.2077 - mse: 0.0254 - categorical_accuracy: 0.9718\n",
      "Epoch 10/10\n",
      "500/500 [==============================] - 1s 2ms/step - loss: 0.1900 - mse: 0.0233 - categorical_accuracy: 0.9734\n",
      "125/125 [==============================] - 0s 2ms/step\n",
      "INFO:tensorflow:Assets written to: C:\\Users\\n\\AppData\\Local\\Temp\\tmprsbpx8yx\\assets\n"
     ]
    },
    {
     "name": "stderr",
     "output_type": "stream",
     "text": [
      "INFO:tensorflow:Assets written to: C:\\Users\\n\\AppData\\Local\\Temp\\tmprsbpx8yx\\assets\n"
     ]
    },
    {
     "name": "stdout",
     "output_type": "stream",
     "text": [
      "Epoch 1/10\n",
      "500/500 [==============================] - 1s 2ms/step - loss: 1.3781 - mse: 0.1866 - categorical_accuracy: 0.3782\n",
      "Epoch 2/10\n",
      "500/500 [==============================] - 1s 2ms/step - loss: 1.2508 - mse: 0.1699 - categorical_accuracy: 0.6870\n",
      "Epoch 3/10\n",
      "500/500 [==============================] - 1s 2ms/step - loss: 0.9236 - mse: 0.1242 - categorical_accuracy: 0.8440\n",
      "Epoch 4/10\n",
      "500/500 [==============================] - 1s 2ms/step - loss: 0.5833 - mse: 0.0747 - categorical_accuracy: 0.9229\n",
      "Epoch 5/10\n",
      "500/500 [==============================] - 1s 2ms/step - loss: 0.4014 - mse: 0.0495 - categorical_accuracy: 0.9638\n",
      "Epoch 6/10\n",
      "500/500 [==============================] - 1s 2ms/step - loss: 0.3132 - mse: 0.0381 - categorical_accuracy: 0.9702\n",
      "Epoch 7/10\n",
      "500/500 [==============================] - 1s 2ms/step - loss: 0.2628 - mse: 0.0319 - categorical_accuracy: 0.9731\n",
      "Epoch 8/10\n",
      "500/500 [==============================] - 1s 2ms/step - loss: 0.2295 - mse: 0.0278 - categorical_accuracy: 0.9728\n",
      "Epoch 9/10\n",
      "500/500 [==============================] - 1s 2ms/step - loss: 0.2062 - mse: 0.0251 - categorical_accuracy: 0.9733\n",
      "Epoch 10/10\n",
      "500/500 [==============================] - 1s 2ms/step - loss: 0.1879 - mse: 0.0229 - categorical_accuracy: 0.9758\n",
      "125/125 [==============================] - 0s 2ms/step\n",
      "WARNING:tensorflow:Detecting that an object or model or tf.train.Checkpoint is being deleted with unrestored values. See the following logs for the specific values in question. To silence these warnings, use `status.expect_partial()`. See https://www.tensorflow.org/api_docs/python/tf/train/Checkpoint#restorefor details about the status object returned by the restore function.\n"
     ]
    },
    {
     "name": "stderr",
     "output_type": "stream",
     "text": [
      "WARNING:tensorflow:Detecting that an object or model or tf.train.Checkpoint is being deleted with unrestored values. See the following logs for the specific values in question. To silence these warnings, use `status.expect_partial()`. See https://www.tensorflow.org/api_docs/python/tf/train/Checkpoint#restorefor details about the status object returned by the restore function.\n"
     ]
    },
    {
     "name": "stdout",
     "output_type": "stream",
     "text": [
      "WARNING:tensorflow:Value in checkpoint could not be found in the restored object: (root).keras_api.metrics.0.total\n"
     ]
    },
    {
     "name": "stderr",
     "output_type": "stream",
     "text": [
      "WARNING:tensorflow:Value in checkpoint could not be found in the restored object: (root).keras_api.metrics.0.total\n"
     ]
    },
    {
     "name": "stdout",
     "output_type": "stream",
     "text": [
      "WARNING:tensorflow:Value in checkpoint could not be found in the restored object: (root).keras_api.metrics.0.count\n"
     ]
    },
    {
     "name": "stderr",
     "output_type": "stream",
     "text": [
      "WARNING:tensorflow:Value in checkpoint could not be found in the restored object: (root).keras_api.metrics.0.count\n"
     ]
    },
    {
     "name": "stdout",
     "output_type": "stream",
     "text": [
      "WARNING:tensorflow:Value in checkpoint could not be found in the restored object: (root).keras_api.metrics.1.total\n"
     ]
    },
    {
     "name": "stderr",
     "output_type": "stream",
     "text": [
      "WARNING:tensorflow:Value in checkpoint could not be found in the restored object: (root).keras_api.metrics.1.total\n"
     ]
    },
    {
     "name": "stdout",
     "output_type": "stream",
     "text": [
      "WARNING:tensorflow:Value in checkpoint could not be found in the restored object: (root).keras_api.metrics.1.count\n"
     ]
    },
    {
     "name": "stderr",
     "output_type": "stream",
     "text": [
      "WARNING:tensorflow:Value in checkpoint could not be found in the restored object: (root).keras_api.metrics.1.count\n"
     ]
    },
    {
     "name": "stdout",
     "output_type": "stream",
     "text": [
      "WARNING:tensorflow:Value in checkpoint could not be found in the restored object: (root).keras_api.metrics.2.total\n"
     ]
    },
    {
     "name": "stderr",
     "output_type": "stream",
     "text": [
      "WARNING:tensorflow:Value in checkpoint could not be found in the restored object: (root).keras_api.metrics.2.total\n"
     ]
    },
    {
     "name": "stdout",
     "output_type": "stream",
     "text": [
      "WARNING:tensorflow:Value in checkpoint could not be found in the restored object: (root).keras_api.metrics.2.count\n"
     ]
    },
    {
     "name": "stderr",
     "output_type": "stream",
     "text": [
      "WARNING:tensorflow:Value in checkpoint could not be found in the restored object: (root).keras_api.metrics.2.count\n"
     ]
    },
    {
     "name": "stdout",
     "output_type": "stream",
     "text": [
      "WARNING:tensorflow:Detecting that an object or model or tf.train.Checkpoint is being deleted with unrestored values. See the following logs for the specific values in question. To silence these warnings, use `status.expect_partial()`. See https://www.tensorflow.org/api_docs/python/tf/train/Checkpoint#restorefor details about the status object returned by the restore function.\n"
     ]
    },
    {
     "name": "stderr",
     "output_type": "stream",
     "text": [
      "WARNING:tensorflow:Detecting that an object or model or tf.train.Checkpoint is being deleted with unrestored values. See the following logs for the specific values in question. To silence these warnings, use `status.expect_partial()`. See https://www.tensorflow.org/api_docs/python/tf/train/Checkpoint#restorefor details about the status object returned by the restore function.\n"
     ]
    },
    {
     "name": "stdout",
     "output_type": "stream",
     "text": [
      "WARNING:tensorflow:Value in checkpoint could not be found in the restored object: (root).keras_api.metrics.0.total\n"
     ]
    },
    {
     "name": "stderr",
     "output_type": "stream",
     "text": [
      "WARNING:tensorflow:Value in checkpoint could not be found in the restored object: (root).keras_api.metrics.0.total\n"
     ]
    },
    {
     "name": "stdout",
     "output_type": "stream",
     "text": [
      "WARNING:tensorflow:Value in checkpoint could not be found in the restored object: (root).keras_api.metrics.0.count\n"
     ]
    },
    {
     "name": "stderr",
     "output_type": "stream",
     "text": [
      "WARNING:tensorflow:Value in checkpoint could not be found in the restored object: (root).keras_api.metrics.0.count\n"
     ]
    },
    {
     "name": "stdout",
     "output_type": "stream",
     "text": [
      "WARNING:tensorflow:Value in checkpoint could not be found in the restored object: (root).keras_api.metrics.1.total\n"
     ]
    },
    {
     "name": "stderr",
     "output_type": "stream",
     "text": [
      "WARNING:tensorflow:Value in checkpoint could not be found in the restored object: (root).keras_api.metrics.1.total\n"
     ]
    },
    {
     "name": "stdout",
     "output_type": "stream",
     "text": [
      "WARNING:tensorflow:Value in checkpoint could not be found in the restored object: (root).keras_api.metrics.1.count\n"
     ]
    },
    {
     "name": "stderr",
     "output_type": "stream",
     "text": [
      "WARNING:tensorflow:Value in checkpoint could not be found in the restored object: (root).keras_api.metrics.1.count\n"
     ]
    },
    {
     "name": "stdout",
     "output_type": "stream",
     "text": [
      "WARNING:tensorflow:Value in checkpoint could not be found in the restored object: (root).keras_api.metrics.2.total\n"
     ]
    },
    {
     "name": "stderr",
     "output_type": "stream",
     "text": [
      "WARNING:tensorflow:Value in checkpoint could not be found in the restored object: (root).keras_api.metrics.2.total\n"
     ]
    },
    {
     "name": "stdout",
     "output_type": "stream",
     "text": [
      "WARNING:tensorflow:Value in checkpoint could not be found in the restored object: (root).keras_api.metrics.2.count\n"
     ]
    },
    {
     "name": "stderr",
     "output_type": "stream",
     "text": [
      "WARNING:tensorflow:Value in checkpoint could not be found in the restored object: (root).keras_api.metrics.2.count\n"
     ]
    },
    {
     "name": "stdout",
     "output_type": "stream",
     "text": [
      "WARNING:tensorflow:Detecting that an object or model or tf.train.Checkpoint is being deleted with unrestored values. See the following logs for the specific values in question. To silence these warnings, use `status.expect_partial()`. See https://www.tensorflow.org/api_docs/python/tf/train/Checkpoint#restorefor details about the status object returned by the restore function.\n"
     ]
    },
    {
     "name": "stderr",
     "output_type": "stream",
     "text": [
      "WARNING:tensorflow:Detecting that an object or model or tf.train.Checkpoint is being deleted with unrestored values. See the following logs for the specific values in question. To silence these warnings, use `status.expect_partial()`. See https://www.tensorflow.org/api_docs/python/tf/train/Checkpoint#restorefor details about the status object returned by the restore function.\n"
     ]
    },
    {
     "name": "stdout",
     "output_type": "stream",
     "text": [
      "WARNING:tensorflow:Value in checkpoint could not be found in the restored object: (root).keras_api.metrics.0.total\n"
     ]
    },
    {
     "name": "stderr",
     "output_type": "stream",
     "text": [
      "WARNING:tensorflow:Value in checkpoint could not be found in the restored object: (root).keras_api.metrics.0.total\n"
     ]
    },
    {
     "name": "stdout",
     "output_type": "stream",
     "text": [
      "WARNING:tensorflow:Value in checkpoint could not be found in the restored object: (root).keras_api.metrics.0.count\n"
     ]
    },
    {
     "name": "stderr",
     "output_type": "stream",
     "text": [
      "WARNING:tensorflow:Value in checkpoint could not be found in the restored object: (root).keras_api.metrics.0.count\n"
     ]
    },
    {
     "name": "stdout",
     "output_type": "stream",
     "text": [
      "WARNING:tensorflow:Value in checkpoint could not be found in the restored object: (root).keras_api.metrics.1.total\n"
     ]
    },
    {
     "name": "stderr",
     "output_type": "stream",
     "text": [
      "WARNING:tensorflow:Value in checkpoint could not be found in the restored object: (root).keras_api.metrics.1.total\n"
     ]
    },
    {
     "name": "stdout",
     "output_type": "stream",
     "text": [
      "WARNING:tensorflow:Value in checkpoint could not be found in the restored object: (root).keras_api.metrics.1.count\n"
     ]
    },
    {
     "name": "stderr",
     "output_type": "stream",
     "text": [
      "WARNING:tensorflow:Value in checkpoint could not be found in the restored object: (root).keras_api.metrics.1.count\n"
     ]
    },
    {
     "name": "stdout",
     "output_type": "stream",
     "text": [
      "WARNING:tensorflow:Value in checkpoint could not be found in the restored object: (root).keras_api.metrics.2.total\n"
     ]
    },
    {
     "name": "stderr",
     "output_type": "stream",
     "text": [
      "WARNING:tensorflow:Value in checkpoint could not be found in the restored object: (root).keras_api.metrics.2.total\n"
     ]
    },
    {
     "name": "stdout",
     "output_type": "stream",
     "text": [
      "WARNING:tensorflow:Value in checkpoint could not be found in the restored object: (root).keras_api.metrics.2.count\n"
     ]
    },
    {
     "name": "stderr",
     "output_type": "stream",
     "text": [
      "WARNING:tensorflow:Value in checkpoint could not be found in the restored object: (root).keras_api.metrics.2.count\n"
     ]
    },
    {
     "name": "stdout",
     "output_type": "stream",
     "text": [
      "WARNING:tensorflow:Detecting that an object or model or tf.train.Checkpoint is being deleted with unrestored values. See the following logs for the specific values in question. To silence these warnings, use `status.expect_partial()`. See https://www.tensorflow.org/api_docs/python/tf/train/Checkpoint#restorefor details about the status object returned by the restore function.\n"
     ]
    },
    {
     "name": "stderr",
     "output_type": "stream",
     "text": [
      "WARNING:tensorflow:Detecting that an object or model or tf.train.Checkpoint is being deleted with unrestored values. See the following logs for the specific values in question. To silence these warnings, use `status.expect_partial()`. See https://www.tensorflow.org/api_docs/python/tf/train/Checkpoint#restorefor details about the status object returned by the restore function.\n"
     ]
    },
    {
     "name": "stdout",
     "output_type": "stream",
     "text": [
      "WARNING:tensorflow:Value in checkpoint could not be found in the restored object: (root).keras_api.metrics.0.total\n"
     ]
    },
    {
     "name": "stderr",
     "output_type": "stream",
     "text": [
      "WARNING:tensorflow:Value in checkpoint could not be found in the restored object: (root).keras_api.metrics.0.total\n"
     ]
    },
    {
     "name": "stdout",
     "output_type": "stream",
     "text": [
      "WARNING:tensorflow:Value in checkpoint could not be found in the restored object: (root).keras_api.metrics.0.count\n"
     ]
    },
    {
     "name": "stderr",
     "output_type": "stream",
     "text": [
      "WARNING:tensorflow:Value in checkpoint could not be found in the restored object: (root).keras_api.metrics.0.count\n"
     ]
    },
    {
     "name": "stdout",
     "output_type": "stream",
     "text": [
      "WARNING:tensorflow:Value in checkpoint could not be found in the restored object: (root).keras_api.metrics.1.total\n"
     ]
    },
    {
     "name": "stderr",
     "output_type": "stream",
     "text": [
      "WARNING:tensorflow:Value in checkpoint could not be found in the restored object: (root).keras_api.metrics.1.total\n"
     ]
    },
    {
     "name": "stdout",
     "output_type": "stream",
     "text": [
      "WARNING:tensorflow:Value in checkpoint could not be found in the restored object: (root).keras_api.metrics.1.count\n"
     ]
    },
    {
     "name": "stderr",
     "output_type": "stream",
     "text": [
      "WARNING:tensorflow:Value in checkpoint could not be found in the restored object: (root).keras_api.metrics.1.count\n"
     ]
    },
    {
     "name": "stdout",
     "output_type": "stream",
     "text": [
      "WARNING:tensorflow:Value in checkpoint could not be found in the restored object: (root).keras_api.metrics.2.total\n"
     ]
    },
    {
     "name": "stderr",
     "output_type": "stream",
     "text": [
      "WARNING:tensorflow:Value in checkpoint could not be found in the restored object: (root).keras_api.metrics.2.total\n"
     ]
    },
    {
     "name": "stdout",
     "output_type": "stream",
     "text": [
      "WARNING:tensorflow:Value in checkpoint could not be found in the restored object: (root).keras_api.metrics.2.count\n"
     ]
    },
    {
     "name": "stderr",
     "output_type": "stream",
     "text": [
      "WARNING:tensorflow:Value in checkpoint could not be found in the restored object: (root).keras_api.metrics.2.count\n"
     ]
    },
    {
     "name": "stdout",
     "output_type": "stream",
     "text": [
      "WARNING:tensorflow:Detecting that an object or model or tf.train.Checkpoint is being deleted with unrestored values. See the following logs for the specific values in question. To silence these warnings, use `status.expect_partial()`. See https://www.tensorflow.org/api_docs/python/tf/train/Checkpoint#restorefor details about the status object returned by the restore function.\n"
     ]
    },
    {
     "name": "stderr",
     "output_type": "stream",
     "text": [
      "WARNING:tensorflow:Detecting that an object or model or tf.train.Checkpoint is being deleted with unrestored values. See the following logs for the specific values in question. To silence these warnings, use `status.expect_partial()`. See https://www.tensorflow.org/api_docs/python/tf/train/Checkpoint#restorefor details about the status object returned by the restore function.\n"
     ]
    },
    {
     "name": "stdout",
     "output_type": "stream",
     "text": [
      "WARNING:tensorflow:Value in checkpoint could not be found in the restored object: (root).keras_api.metrics.0.total\n"
     ]
    },
    {
     "name": "stderr",
     "output_type": "stream",
     "text": [
      "WARNING:tensorflow:Value in checkpoint could not be found in the restored object: (root).keras_api.metrics.0.total\n"
     ]
    },
    {
     "name": "stdout",
     "output_type": "stream",
     "text": [
      "WARNING:tensorflow:Value in checkpoint could not be found in the restored object: (root).keras_api.metrics.0.count\n"
     ]
    },
    {
     "name": "stderr",
     "output_type": "stream",
     "text": [
      "WARNING:tensorflow:Value in checkpoint could not be found in the restored object: (root).keras_api.metrics.0.count\n"
     ]
    },
    {
     "name": "stdout",
     "output_type": "stream",
     "text": [
      "WARNING:tensorflow:Value in checkpoint could not be found in the restored object: (root).keras_api.metrics.1.total\n"
     ]
    },
    {
     "name": "stderr",
     "output_type": "stream",
     "text": [
      "WARNING:tensorflow:Value in checkpoint could not be found in the restored object: (root).keras_api.metrics.1.total\n"
     ]
    },
    {
     "name": "stdout",
     "output_type": "stream",
     "text": [
      "WARNING:tensorflow:Value in checkpoint could not be found in the restored object: (root).keras_api.metrics.1.count\n"
     ]
    },
    {
     "name": "stderr",
     "output_type": "stream",
     "text": [
      "WARNING:tensorflow:Value in checkpoint could not be found in the restored object: (root).keras_api.metrics.1.count\n"
     ]
    },
    {
     "name": "stdout",
     "output_type": "stream",
     "text": [
      "WARNING:tensorflow:Value in checkpoint could not be found in the restored object: (root).keras_api.metrics.2.total\n"
     ]
    },
    {
     "name": "stderr",
     "output_type": "stream",
     "text": [
      "WARNING:tensorflow:Value in checkpoint could not be found in the restored object: (root).keras_api.metrics.2.total\n"
     ]
    },
    {
     "name": "stdout",
     "output_type": "stream",
     "text": [
      "WARNING:tensorflow:Value in checkpoint could not be found in the restored object: (root).keras_api.metrics.2.count\n"
     ]
    },
    {
     "name": "stderr",
     "output_type": "stream",
     "text": [
      "WARNING:tensorflow:Value in checkpoint could not be found in the restored object: (root).keras_api.metrics.2.count\n"
     ]
    },
    {
     "name": "stdout",
     "output_type": "stream",
     "text": [
      "WARNING:tensorflow:Detecting that an object or model or tf.train.Checkpoint is being deleted with unrestored values. See the following logs for the specific values in question. To silence these warnings, use `status.expect_partial()`. See https://www.tensorflow.org/api_docs/python/tf/train/Checkpoint#restorefor details about the status object returned by the restore function.\n"
     ]
    },
    {
     "name": "stderr",
     "output_type": "stream",
     "text": [
      "WARNING:tensorflow:Detecting that an object or model or tf.train.Checkpoint is being deleted with unrestored values. See the following logs for the specific values in question. To silence these warnings, use `status.expect_partial()`. See https://www.tensorflow.org/api_docs/python/tf/train/Checkpoint#restorefor details about the status object returned by the restore function.\n"
     ]
    },
    {
     "name": "stdout",
     "output_type": "stream",
     "text": [
      "WARNING:tensorflow:Value in checkpoint could not be found in the restored object: (root).keras_api.metrics.0.total\n"
     ]
    },
    {
     "name": "stderr",
     "output_type": "stream",
     "text": [
      "WARNING:tensorflow:Value in checkpoint could not be found in the restored object: (root).keras_api.metrics.0.total\n"
     ]
    },
    {
     "name": "stdout",
     "output_type": "stream",
     "text": [
      "WARNING:tensorflow:Value in checkpoint could not be found in the restored object: (root).keras_api.metrics.0.count\n"
     ]
    },
    {
     "name": "stderr",
     "output_type": "stream",
     "text": [
      "WARNING:tensorflow:Value in checkpoint could not be found in the restored object: (root).keras_api.metrics.0.count\n"
     ]
    },
    {
     "name": "stdout",
     "output_type": "stream",
     "text": [
      "WARNING:tensorflow:Value in checkpoint could not be found in the restored object: (root).keras_api.metrics.1.total\n"
     ]
    },
    {
     "name": "stderr",
     "output_type": "stream",
     "text": [
      "WARNING:tensorflow:Value in checkpoint could not be found in the restored object: (root).keras_api.metrics.1.total\n"
     ]
    },
    {
     "name": "stdout",
     "output_type": "stream",
     "text": [
      "WARNING:tensorflow:Value in checkpoint could not be found in the restored object: (root).keras_api.metrics.1.count\n"
     ]
    },
    {
     "name": "stderr",
     "output_type": "stream",
     "text": [
      "WARNING:tensorflow:Value in checkpoint could not be found in the restored object: (root).keras_api.metrics.1.count\n"
     ]
    },
    {
     "name": "stdout",
     "output_type": "stream",
     "text": [
      "WARNING:tensorflow:Value in checkpoint could not be found in the restored object: (root).keras_api.metrics.2.total\n"
     ]
    },
    {
     "name": "stderr",
     "output_type": "stream",
     "text": [
      "WARNING:tensorflow:Value in checkpoint could not be found in the restored object: (root).keras_api.metrics.2.total\n"
     ]
    },
    {
     "name": "stdout",
     "output_type": "stream",
     "text": [
      "WARNING:tensorflow:Value in checkpoint could not be found in the restored object: (root).keras_api.metrics.2.count\n"
     ]
    },
    {
     "name": "stderr",
     "output_type": "stream",
     "text": [
      "WARNING:tensorflow:Value in checkpoint could not be found in the restored object: (root).keras_api.metrics.2.count\n"
     ]
    },
    {
     "name": "stdout",
     "output_type": "stream",
     "text": [
      "WARNING:tensorflow:Detecting that an object or model or tf.train.Checkpoint is being deleted with unrestored values. See the following logs for the specific values in question. To silence these warnings, use `status.expect_partial()`. See https://www.tensorflow.org/api_docs/python/tf/train/Checkpoint#restorefor details about the status object returned by the restore function.\n"
     ]
    },
    {
     "name": "stderr",
     "output_type": "stream",
     "text": [
      "WARNING:tensorflow:Detecting that an object or model or tf.train.Checkpoint is being deleted with unrestored values. See the following logs for the specific values in question. To silence these warnings, use `status.expect_partial()`. See https://www.tensorflow.org/api_docs/python/tf/train/Checkpoint#restorefor details about the status object returned by the restore function.\n"
     ]
    },
    {
     "name": "stdout",
     "output_type": "stream",
     "text": [
      "WARNING:tensorflow:Value in checkpoint could not be found in the restored object: (root).keras_api.metrics.0.total\n"
     ]
    },
    {
     "name": "stderr",
     "output_type": "stream",
     "text": [
      "WARNING:tensorflow:Value in checkpoint could not be found in the restored object: (root).keras_api.metrics.0.total\n"
     ]
    },
    {
     "name": "stdout",
     "output_type": "stream",
     "text": [
      "WARNING:tensorflow:Value in checkpoint could not be found in the restored object: (root).keras_api.metrics.0.count\n"
     ]
    },
    {
     "name": "stderr",
     "output_type": "stream",
     "text": [
      "WARNING:tensorflow:Value in checkpoint could not be found in the restored object: (root).keras_api.metrics.0.count\n"
     ]
    },
    {
     "name": "stdout",
     "output_type": "stream",
     "text": [
      "WARNING:tensorflow:Value in checkpoint could not be found in the restored object: (root).keras_api.metrics.1.total\n"
     ]
    },
    {
     "name": "stderr",
     "output_type": "stream",
     "text": [
      "WARNING:tensorflow:Value in checkpoint could not be found in the restored object: (root).keras_api.metrics.1.total\n"
     ]
    },
    {
     "name": "stdout",
     "output_type": "stream",
     "text": [
      "WARNING:tensorflow:Value in checkpoint could not be found in the restored object: (root).keras_api.metrics.1.count\n"
     ]
    },
    {
     "name": "stderr",
     "output_type": "stream",
     "text": [
      "WARNING:tensorflow:Value in checkpoint could not be found in the restored object: (root).keras_api.metrics.1.count\n"
     ]
    },
    {
     "name": "stdout",
     "output_type": "stream",
     "text": [
      "WARNING:tensorflow:Value in checkpoint could not be found in the restored object: (root).keras_api.metrics.2.total\n"
     ]
    },
    {
     "name": "stderr",
     "output_type": "stream",
     "text": [
      "WARNING:tensorflow:Value in checkpoint could not be found in the restored object: (root).keras_api.metrics.2.total\n"
     ]
    },
    {
     "name": "stdout",
     "output_type": "stream",
     "text": [
      "WARNING:tensorflow:Value in checkpoint could not be found in the restored object: (root).keras_api.metrics.2.count\n"
     ]
    },
    {
     "name": "stderr",
     "output_type": "stream",
     "text": [
      "WARNING:tensorflow:Value in checkpoint could not be found in the restored object: (root).keras_api.metrics.2.count\n"
     ]
    },
    {
     "name": "stdout",
     "output_type": "stream",
     "text": [
      "WARNING:tensorflow:Detecting that an object or model or tf.train.Checkpoint is being deleted with unrestored values. See the following logs for the specific values in question. To silence these warnings, use `status.expect_partial()`. See https://www.tensorflow.org/api_docs/python/tf/train/Checkpoint#restorefor details about the status object returned by the restore function.\n"
     ]
    },
    {
     "name": "stderr",
     "output_type": "stream",
     "text": [
      "WARNING:tensorflow:Detecting that an object or model or tf.train.Checkpoint is being deleted with unrestored values. See the following logs for the specific values in question. To silence these warnings, use `status.expect_partial()`. See https://www.tensorflow.org/api_docs/python/tf/train/Checkpoint#restorefor details about the status object returned by the restore function.\n"
     ]
    },
    {
     "name": "stdout",
     "output_type": "stream",
     "text": [
      "WARNING:tensorflow:Value in checkpoint could not be found in the restored object: (root).keras_api.metrics.0.total\n"
     ]
    },
    {
     "name": "stderr",
     "output_type": "stream",
     "text": [
      "WARNING:tensorflow:Value in checkpoint could not be found in the restored object: (root).keras_api.metrics.0.total\n"
     ]
    },
    {
     "name": "stdout",
     "output_type": "stream",
     "text": [
      "WARNING:tensorflow:Value in checkpoint could not be found in the restored object: (root).keras_api.metrics.0.count\n"
     ]
    },
    {
     "name": "stderr",
     "output_type": "stream",
     "text": [
      "WARNING:tensorflow:Value in checkpoint could not be found in the restored object: (root).keras_api.metrics.0.count\n"
     ]
    },
    {
     "name": "stdout",
     "output_type": "stream",
     "text": [
      "WARNING:tensorflow:Value in checkpoint could not be found in the restored object: (root).keras_api.metrics.1.total\n"
     ]
    },
    {
     "name": "stderr",
     "output_type": "stream",
     "text": [
      "WARNING:tensorflow:Value in checkpoint could not be found in the restored object: (root).keras_api.metrics.1.total\n"
     ]
    },
    {
     "name": "stdout",
     "output_type": "stream",
     "text": [
      "WARNING:tensorflow:Value in checkpoint could not be found in the restored object: (root).keras_api.metrics.1.count\n"
     ]
    },
    {
     "name": "stderr",
     "output_type": "stream",
     "text": [
      "WARNING:tensorflow:Value in checkpoint could not be found in the restored object: (root).keras_api.metrics.1.count\n"
     ]
    },
    {
     "name": "stdout",
     "output_type": "stream",
     "text": [
      "WARNING:tensorflow:Value in checkpoint could not be found in the restored object: (root).keras_api.metrics.2.total\n"
     ]
    },
    {
     "name": "stderr",
     "output_type": "stream",
     "text": [
      "WARNING:tensorflow:Value in checkpoint could not be found in the restored object: (root).keras_api.metrics.2.total\n"
     ]
    },
    {
     "name": "stdout",
     "output_type": "stream",
     "text": [
      "WARNING:tensorflow:Value in checkpoint could not be found in the restored object: (root).keras_api.metrics.2.count\n"
     ]
    },
    {
     "name": "stderr",
     "output_type": "stream",
     "text": [
      "WARNING:tensorflow:Value in checkpoint could not be found in the restored object: (root).keras_api.metrics.2.count\n"
     ]
    },
    {
     "name": "stdout",
     "output_type": "stream",
     "text": [
      "WARNING:tensorflow:Detecting that an object or model or tf.train.Checkpoint is being deleted with unrestored values. See the following logs for the specific values in question. To silence these warnings, use `status.expect_partial()`. See https://www.tensorflow.org/api_docs/python/tf/train/Checkpoint#restorefor details about the status object returned by the restore function.\n"
     ]
    },
    {
     "name": "stderr",
     "output_type": "stream",
     "text": [
      "WARNING:tensorflow:Detecting that an object or model or tf.train.Checkpoint is being deleted with unrestored values. See the following logs for the specific values in question. To silence these warnings, use `status.expect_partial()`. See https://www.tensorflow.org/api_docs/python/tf/train/Checkpoint#restorefor details about the status object returned by the restore function.\n"
     ]
    },
    {
     "name": "stdout",
     "output_type": "stream",
     "text": [
      "WARNING:tensorflow:Value in checkpoint could not be found in the restored object: (root).keras_api.metrics.0.total\n"
     ]
    },
    {
     "name": "stderr",
     "output_type": "stream",
     "text": [
      "WARNING:tensorflow:Value in checkpoint could not be found in the restored object: (root).keras_api.metrics.0.total\n"
     ]
    },
    {
     "name": "stdout",
     "output_type": "stream",
     "text": [
      "WARNING:tensorflow:Value in checkpoint could not be found in the restored object: (root).keras_api.metrics.0.count\n"
     ]
    },
    {
     "name": "stderr",
     "output_type": "stream",
     "text": [
      "WARNING:tensorflow:Value in checkpoint could not be found in the restored object: (root).keras_api.metrics.0.count\n"
     ]
    },
    {
     "name": "stdout",
     "output_type": "stream",
     "text": [
      "WARNING:tensorflow:Value in checkpoint could not be found in the restored object: (root).keras_api.metrics.1.total\n"
     ]
    },
    {
     "name": "stderr",
     "output_type": "stream",
     "text": [
      "WARNING:tensorflow:Value in checkpoint could not be found in the restored object: (root).keras_api.metrics.1.total\n"
     ]
    },
    {
     "name": "stdout",
     "output_type": "stream",
     "text": [
      "WARNING:tensorflow:Value in checkpoint could not be found in the restored object: (root).keras_api.metrics.1.count\n"
     ]
    },
    {
     "name": "stderr",
     "output_type": "stream",
     "text": [
      "WARNING:tensorflow:Value in checkpoint could not be found in the restored object: (root).keras_api.metrics.1.count\n"
     ]
    },
    {
     "name": "stdout",
     "output_type": "stream",
     "text": [
      "WARNING:tensorflow:Value in checkpoint could not be found in the restored object: (root).keras_api.metrics.2.total\n"
     ]
    },
    {
     "name": "stderr",
     "output_type": "stream",
     "text": [
      "WARNING:tensorflow:Value in checkpoint could not be found in the restored object: (root).keras_api.metrics.2.total\n"
     ]
    },
    {
     "name": "stdout",
     "output_type": "stream",
     "text": [
      "WARNING:tensorflow:Value in checkpoint could not be found in the restored object: (root).keras_api.metrics.2.count\n"
     ]
    },
    {
     "name": "stderr",
     "output_type": "stream",
     "text": [
      "WARNING:tensorflow:Value in checkpoint could not be found in the restored object: (root).keras_api.metrics.2.count\n"
     ]
    },
    {
     "name": "stdout",
     "output_type": "stream",
     "text": [
      "WARNING:tensorflow:Detecting that an object or model or tf.train.Checkpoint is being deleted with unrestored values. See the following logs for the specific values in question. To silence these warnings, use `status.expect_partial()`. See https://www.tensorflow.org/api_docs/python/tf/train/Checkpoint#restorefor details about the status object returned by the restore function.\n"
     ]
    },
    {
     "name": "stderr",
     "output_type": "stream",
     "text": [
      "WARNING:tensorflow:Detecting that an object or model or tf.train.Checkpoint is being deleted with unrestored values. See the following logs for the specific values in question. To silence these warnings, use `status.expect_partial()`. See https://www.tensorflow.org/api_docs/python/tf/train/Checkpoint#restorefor details about the status object returned by the restore function.\n"
     ]
    },
    {
     "name": "stdout",
     "output_type": "stream",
     "text": [
      "WARNING:tensorflow:Value in checkpoint could not be found in the restored object: (root).keras_api.metrics.0.total\n"
     ]
    },
    {
     "name": "stderr",
     "output_type": "stream",
     "text": [
      "WARNING:tensorflow:Value in checkpoint could not be found in the restored object: (root).keras_api.metrics.0.total\n"
     ]
    },
    {
     "name": "stdout",
     "output_type": "stream",
     "text": [
      "WARNING:tensorflow:Value in checkpoint could not be found in the restored object: (root).keras_api.metrics.0.count\n"
     ]
    },
    {
     "name": "stderr",
     "output_type": "stream",
     "text": [
      "WARNING:tensorflow:Value in checkpoint could not be found in the restored object: (root).keras_api.metrics.0.count\n"
     ]
    },
    {
     "name": "stdout",
     "output_type": "stream",
     "text": [
      "WARNING:tensorflow:Value in checkpoint could not be found in the restored object: (root).keras_api.metrics.1.total\n"
     ]
    },
    {
     "name": "stderr",
     "output_type": "stream",
     "text": [
      "WARNING:tensorflow:Value in checkpoint could not be found in the restored object: (root).keras_api.metrics.1.total\n"
     ]
    },
    {
     "name": "stdout",
     "output_type": "stream",
     "text": [
      "WARNING:tensorflow:Value in checkpoint could not be found in the restored object: (root).keras_api.metrics.1.count\n"
     ]
    },
    {
     "name": "stderr",
     "output_type": "stream",
     "text": [
      "WARNING:tensorflow:Value in checkpoint could not be found in the restored object: (root).keras_api.metrics.1.count\n"
     ]
    },
    {
     "name": "stdout",
     "output_type": "stream",
     "text": [
      "WARNING:tensorflow:Value in checkpoint could not be found in the restored object: (root).keras_api.metrics.2.total\n"
     ]
    },
    {
     "name": "stderr",
     "output_type": "stream",
     "text": [
      "WARNING:tensorflow:Value in checkpoint could not be found in the restored object: (root).keras_api.metrics.2.total\n"
     ]
    },
    {
     "name": "stdout",
     "output_type": "stream",
     "text": [
      "WARNING:tensorflow:Value in checkpoint could not be found in the restored object: (root).keras_api.metrics.2.count\n"
     ]
    },
    {
     "name": "stderr",
     "output_type": "stream",
     "text": [
      "WARNING:tensorflow:Value in checkpoint could not be found in the restored object: (root).keras_api.metrics.2.count\n"
     ]
    },
    {
     "name": "stdout",
     "output_type": "stream",
     "text": [
      "WARNING:tensorflow:Detecting that an object or model or tf.train.Checkpoint is being deleted with unrestored values. See the following logs for the specific values in question. To silence these warnings, use `status.expect_partial()`. See https://www.tensorflow.org/api_docs/python/tf/train/Checkpoint#restorefor details about the status object returned by the restore function.\n"
     ]
    },
    {
     "name": "stderr",
     "output_type": "stream",
     "text": [
      "WARNING:tensorflow:Detecting that an object or model or tf.train.Checkpoint is being deleted with unrestored values. See the following logs for the specific values in question. To silence these warnings, use `status.expect_partial()`. See https://www.tensorflow.org/api_docs/python/tf/train/Checkpoint#restorefor details about the status object returned by the restore function.\n"
     ]
    },
    {
     "name": "stdout",
     "output_type": "stream",
     "text": [
      "WARNING:tensorflow:Value in checkpoint could not be found in the restored object: (root).keras_api.metrics.0.total\n"
     ]
    },
    {
     "name": "stderr",
     "output_type": "stream",
     "text": [
      "WARNING:tensorflow:Value in checkpoint could not be found in the restored object: (root).keras_api.metrics.0.total\n"
     ]
    },
    {
     "name": "stdout",
     "output_type": "stream",
     "text": [
      "WARNING:tensorflow:Value in checkpoint could not be found in the restored object: (root).keras_api.metrics.0.count\n"
     ]
    },
    {
     "name": "stderr",
     "output_type": "stream",
     "text": [
      "WARNING:tensorflow:Value in checkpoint could not be found in the restored object: (root).keras_api.metrics.0.count\n"
     ]
    },
    {
     "name": "stdout",
     "output_type": "stream",
     "text": [
      "WARNING:tensorflow:Value in checkpoint could not be found in the restored object: (root).keras_api.metrics.1.total\n"
     ]
    },
    {
     "name": "stderr",
     "output_type": "stream",
     "text": [
      "WARNING:tensorflow:Value in checkpoint could not be found in the restored object: (root).keras_api.metrics.1.total\n"
     ]
    },
    {
     "name": "stdout",
     "output_type": "stream",
     "text": [
      "WARNING:tensorflow:Value in checkpoint could not be found in the restored object: (root).keras_api.metrics.1.count\n"
     ]
    },
    {
     "name": "stderr",
     "output_type": "stream",
     "text": [
      "WARNING:tensorflow:Value in checkpoint could not be found in the restored object: (root).keras_api.metrics.1.count\n"
     ]
    },
    {
     "name": "stdout",
     "output_type": "stream",
     "text": [
      "WARNING:tensorflow:Value in checkpoint could not be found in the restored object: (root).keras_api.metrics.2.total\n"
     ]
    },
    {
     "name": "stderr",
     "output_type": "stream",
     "text": [
      "WARNING:tensorflow:Value in checkpoint could not be found in the restored object: (root).keras_api.metrics.2.total\n"
     ]
    },
    {
     "name": "stdout",
     "output_type": "stream",
     "text": [
      "WARNING:tensorflow:Value in checkpoint could not be found in the restored object: (root).keras_api.metrics.2.count\n"
     ]
    },
    {
     "name": "stderr",
     "output_type": "stream",
     "text": [
      "WARNING:tensorflow:Value in checkpoint could not be found in the restored object: (root).keras_api.metrics.2.count\n"
     ]
    },
    {
     "name": "stdout",
     "output_type": "stream",
     "text": [
      "INFO:tensorflow:Assets written to: C:\\Users\\n\\AppData\\Local\\Temp\\tmphrhz3kxu\\assets\n"
     ]
    },
    {
     "name": "stderr",
     "output_type": "stream",
     "text": [
      "INFO:tensorflow:Assets written to: C:\\Users\\n\\AppData\\Local\\Temp\\tmphrhz3kxu\\assets\n"
     ]
    },
    {
     "name": "stdout",
     "output_type": "stream",
     "text": [
      "Epoch 1/10\n",
      "500/500 [==============================] - 2s 2ms/step - loss: 1.3772 - mse: 0.1865 - categorical_accuracy: 0.3456\n",
      "Epoch 2/10\n",
      "500/500 [==============================] - 1s 2ms/step - loss: 1.2499 - mse: 0.1698 - categorical_accuracy: 0.7150\n",
      "Epoch 3/10\n",
      "500/500 [==============================] - 1s 2ms/step - loss: 0.9214 - mse: 0.1239 - categorical_accuracy: 0.8350\n",
      "Epoch 4/10\n",
      "500/500 [==============================] - 1s 2ms/step - loss: 0.5807 - mse: 0.0744 - categorical_accuracy: 0.9231\n",
      "Epoch 5/10\n",
      "500/500 [==============================] - 1s 2ms/step - loss: 0.3998 - mse: 0.0493 - categorical_accuracy: 0.9589\n",
      "Epoch 6/10\n",
      "500/500 [==============================] - 1s 2ms/step - loss: 0.3126 - mse: 0.0381 - categorical_accuracy: 0.9684\n",
      "Epoch 7/10\n",
      "500/500 [==============================] - 1s 2ms/step - loss: 0.2627 - mse: 0.0320 - categorical_accuracy: 0.9743\n",
      "Epoch 8/10\n",
      "500/500 [==============================] - 1s 2ms/step - loss: 0.2307 - mse: 0.0281 - categorical_accuracy: 0.9729\n",
      "Epoch 9/10\n",
      "500/500 [==============================] - 1s 2ms/step - loss: 0.2068 - mse: 0.0253 - categorical_accuracy: 0.9731\n",
      "Epoch 10/10\n",
      "500/500 [==============================] - 1s 2ms/step - loss: 0.1892 - mse: 0.0232 - categorical_accuracy: 0.9734\n",
      "125/125 [==============================] - 0s 2ms/step\n",
      "****************************** Model number 5 --\"model_with_8unites-sigmoid-\"--******************************\n",
      "\n",
      "\n",
      "INFO:tensorflow:Assets written to: C:\\Users\\n\\AppData\\Local\\Temp\\tmpsl78n1qr\\assets\n"
     ]
    },
    {
     "name": "stderr",
     "output_type": "stream",
     "text": [
      "INFO:tensorflow:Assets written to: C:\\Users\\n\\AppData\\Local\\Temp\\tmpsl78n1qr\\assets\n"
     ]
    },
    {
     "name": "stdout",
     "output_type": "stream",
     "text": [
      "Epoch 1/10\n",
      "500/500 [==============================] - 2s 2ms/step - loss: 1.3935 - mse: 0.1887 - categorical_accuracy: 0.3328\n",
      "Epoch 2/10\n",
      "500/500 [==============================] - 1s 2ms/step - loss: 1.3202 - mse: 0.1791 - categorical_accuracy: 0.6034\n",
      "Epoch 3/10\n",
      "500/500 [==============================] - 1s 2ms/step - loss: 1.1810 - mse: 0.1611 - categorical_accuracy: 0.6566\n",
      "Epoch 4/10\n",
      "500/500 [==============================] - 1s 2ms/step - loss: 0.9739 - mse: 0.1342 - categorical_accuracy: 0.6706\n",
      "Epoch 5/10\n",
      "500/500 [==============================] - 1s 2ms/step - loss: 0.8140 - mse: 0.1142 - categorical_accuracy: 0.6924\n",
      "Epoch 6/10\n",
      "500/500 [==============================] - 1s 2ms/step - loss: 0.7200 - mse: 0.1028 - categorical_accuracy: 0.7119\n",
      "Epoch 7/10\n",
      "500/500 [==============================] - 1s 2ms/step - loss: 0.6455 - mse: 0.0925 - categorical_accuracy: 0.7423\n",
      "Epoch 8/10\n",
      "500/500 [==============================] - 1s 2ms/step - loss: 0.5575 - mse: 0.0784 - categorical_accuracy: 0.7915\n",
      "Epoch 9/10\n",
      "500/500 [==============================] - 1s 3ms/step - loss: 0.4592 - mse: 0.0621 - categorical_accuracy: 0.8494\n",
      "Epoch 10/10\n",
      "500/500 [==============================] - 1s 2ms/step - loss: 0.3767 - mse: 0.0488 - categorical_accuracy: 0.8994\n",
      "125/125 [==============================] - 0s 2ms/step\n",
      "INFO:tensorflow:Assets written to: C:\\Users\\n\\AppData\\Local\\Temp\\tmpbos4c856\\assets\n"
     ]
    },
    {
     "name": "stderr",
     "output_type": "stream",
     "text": [
      "INFO:tensorflow:Assets written to: C:\\Users\\n\\AppData\\Local\\Temp\\tmpbos4c856\\assets\n"
     ]
    },
    {
     "name": "stdout",
     "output_type": "stream",
     "text": [
      "Epoch 1/10\n",
      "500/500 [==============================] - 2s 2ms/step - loss: 1.3906 - mse: 0.1883 - categorical_accuracy: 0.3689\n",
      "Epoch 2/10\n",
      "500/500 [==============================] - 1s 2ms/step - loss: 1.3170 - mse: 0.1787 - categorical_accuracy: 0.5676\n",
      "Epoch 3/10\n",
      "500/500 [==============================] - 1s 2ms/step - loss: 1.1704 - mse: 0.1597 - categorical_accuracy: 0.6601\n",
      "Epoch 4/10\n",
      "500/500 [==============================] - 1s 2ms/step - loss: 0.9571 - mse: 0.1320 - categorical_accuracy: 0.6708\n",
      "Epoch 5/10\n",
      "500/500 [==============================] - 1s 2ms/step - loss: 0.8031 - mse: 0.1129 - categorical_accuracy: 0.6896\n",
      "Epoch 6/10\n",
      "500/500 [==============================] - 1s 2ms/step - loss: 0.7166 - mse: 0.1028 - categorical_accuracy: 0.7079\n",
      "Epoch 7/10\n",
      "500/500 [==============================] - 1s 2ms/step - loss: 0.6469 - mse: 0.0931 - categorical_accuracy: 0.7393\n",
      "Epoch 8/10\n",
      "500/500 [==============================] - 1s 2ms/step - loss: 0.5606 - mse: 0.0791 - categorical_accuracy: 0.7900\n",
      "Epoch 9/10\n",
      "500/500 [==============================] - 1s 2ms/step - loss: 0.4620 - mse: 0.0627 - categorical_accuracy: 0.8479\n",
      "Epoch 10/10\n",
      "500/500 [==============================] - 1s 2ms/step - loss: 0.3774 - mse: 0.0490 - categorical_accuracy: 0.8988\n",
      "125/125 [==============================] - 0s 2ms/step\n",
      "INFO:tensorflow:Assets written to: C:\\Users\\n\\AppData\\Local\\Temp\\tmpfqadm7be\\assets\n"
     ]
    },
    {
     "name": "stderr",
     "output_type": "stream",
     "text": [
      "INFO:tensorflow:Assets written to: C:\\Users\\n\\AppData\\Local\\Temp\\tmpfqadm7be\\assets\n"
     ]
    },
    {
     "name": "stdout",
     "output_type": "stream",
     "text": [
      "Epoch 1/10\n",
      "500/500 [==============================] - 2s 2ms/step - loss: 1.3941 - mse: 0.1888 - categorical_accuracy: 0.3559\n",
      "Epoch 2/10\n",
      "500/500 [==============================] - 1s 2ms/step - loss: 1.3202 - mse: 0.1791 - categorical_accuracy: 0.5857\n",
      "Epoch 3/10\n",
      "500/500 [==============================] - 1s 2ms/step - loss: 1.1815 - mse: 0.1611 - categorical_accuracy: 0.6570\n",
      "Epoch 4/10\n",
      "500/500 [==============================] - 1s 2ms/step - loss: 0.9733 - mse: 0.1340 - categorical_accuracy: 0.6725\n",
      "Epoch 5/10\n",
      "500/500 [==============================] - 1s 2ms/step - loss: 0.8128 - mse: 0.1140 - categorical_accuracy: 0.6899\n",
      "Epoch 6/10\n",
      "500/500 [==============================] - 2s 4ms/step - loss: 0.7207 - mse: 0.1030 - categorical_accuracy: 0.7117\n",
      "Epoch 7/10\n",
      "500/500 [==============================] - 1s 2ms/step - loss: 0.6478 - mse: 0.0929 - categorical_accuracy: 0.7417\n",
      "Epoch 8/10\n",
      "500/500 [==============================] - 3s 5ms/step - loss: 0.5597 - mse: 0.0787 - categorical_accuracy: 0.7907\n",
      "Epoch 9/10\n",
      "500/500 [==============================] - 3s 5ms/step - loss: 0.4596 - mse: 0.0622 - categorical_accuracy: 0.8516\n",
      "Epoch 10/10\n",
      "500/500 [==============================] - 2s 4ms/step - loss: 0.3750 - mse: 0.0485 - categorical_accuracy: 0.9047\n",
      "125/125 [==============================] - 1s 5ms/step\n",
      "INFO:tensorflow:Assets written to: C:\\Users\\n\\AppData\\Local\\Temp\\tmp8c8nuh2z\\assets\n"
     ]
    },
    {
     "name": "stderr",
     "output_type": "stream",
     "text": [
      "INFO:tensorflow:Assets written to: C:\\Users\\n\\AppData\\Local\\Temp\\tmp8c8nuh2z\\assets\n"
     ]
    },
    {
     "name": "stdout",
     "output_type": "stream",
     "text": [
      "Epoch 1/10\n",
      "500/500 [==============================] - 3s 5ms/step - loss: 1.3908 - mse: 0.1884 - categorical_accuracy: 0.3501\n",
      "Epoch 2/10\n",
      "500/500 [==============================] - 1s 2ms/step - loss: 1.3179 - mse: 0.1788 - categorical_accuracy: 0.5656\n",
      "Epoch 3/10\n",
      "500/500 [==============================] - 1s 2ms/step - loss: 1.1779 - mse: 0.1607 - categorical_accuracy: 0.6559\n",
      "Epoch 4/10\n",
      "500/500 [==============================] - 2s 4ms/step - loss: 0.9687 - mse: 0.1334 - categorical_accuracy: 0.6755\n",
      "Epoch 5/10\n",
      "500/500 [==============================] - 2s 5ms/step - loss: 0.8103 - mse: 0.1138 - categorical_accuracy: 0.6931\n",
      "Epoch 6/10\n",
      "500/500 [==============================] - 1s 3ms/step - loss: 0.7183 - mse: 0.1026 - categorical_accuracy: 0.7136\n",
      "Epoch 7/10\n",
      "500/500 [==============================] - 1s 2ms/step - loss: 0.6417 - mse: 0.0918 - categorical_accuracy: 0.7473\n",
      "Epoch 8/10\n",
      "500/500 [==============================] - 1s 2ms/step - loss: 0.5488 - mse: 0.0767 - categorical_accuracy: 0.8003\n",
      "Epoch 9/10\n",
      "500/500 [==============================] - 1s 3ms/step - loss: 0.4478 - mse: 0.0601 - categorical_accuracy: 0.8595\n",
      "Epoch 10/10\n",
      "500/500 [==============================] - 1s 2ms/step - loss: 0.3665 - mse: 0.0471 - categorical_accuracy: 0.9059\n",
      "125/125 [==============================] - 0s 2ms/step\n",
      "INFO:tensorflow:Assets written to: C:\\Users\\n\\AppData\\Local\\Temp\\tmpoim73g02\\assets\n"
     ]
    },
    {
     "name": "stderr",
     "output_type": "stream",
     "text": [
      "INFO:tensorflow:Assets written to: C:\\Users\\n\\AppData\\Local\\Temp\\tmpoim73g02\\assets\n"
     ]
    },
    {
     "name": "stdout",
     "output_type": "stream",
     "text": [
      "Epoch 1/10\n",
      "500/500 [==============================] - 2s 3ms/step - loss: 1.3942 - mse: 0.1888 - categorical_accuracy: 0.3599\n",
      "Epoch 2/10\n",
      "500/500 [==============================] - 1s 3ms/step - loss: 1.3185 - mse: 0.1789 - categorical_accuracy: 0.5906\n",
      "Epoch 3/10\n",
      "500/500 [==============================] - 1s 2ms/step - loss: 1.1767 - mse: 0.1606 - categorical_accuracy: 0.6564\n",
      "Epoch 4/10\n",
      "500/500 [==============================] - 1s 2ms/step - loss: 0.9663 - mse: 0.1332 - categorical_accuracy: 0.6732\n",
      "Epoch 5/10\n",
      "500/500 [==============================] - 1s 2ms/step - loss: 0.8066 - mse: 0.1132 - categorical_accuracy: 0.6925\n",
      "Epoch 6/10\n",
      "500/500 [==============================] - 1s 2ms/step - loss: 0.7170 - mse: 0.1027 - categorical_accuracy: 0.7102\n",
      "Epoch 7/10\n",
      "500/500 [==============================] - 2s 5ms/step - loss: 0.6481 - mse: 0.0932 - categorical_accuracy: 0.7386\n",
      "Epoch 8/10\n",
      "500/500 [==============================] - 1s 3ms/step - loss: 0.5668 - mse: 0.0803 - categorical_accuracy: 0.7838\n",
      "Epoch 9/10\n",
      "500/500 [==============================] - 2s 3ms/step - loss: 0.4708 - mse: 0.0643 - categorical_accuracy: 0.8414\n",
      "Epoch 10/10\n",
      "500/500 [==============================] - 1s 2ms/step - loss: 0.3848 - mse: 0.0503 - categorical_accuracy: 0.8926\n",
      "125/125 [==============================] - 0s 2ms/step\n",
      "****************************** Model number 6 --\"model_with_4unites-sigmoid-\"--******************************\n",
      "\n",
      "\n",
      "INFO:tensorflow:Assets written to: C:\\Users\\n\\AppData\\Local\\Temp\\tmpdo7cw8vo\\assets\n"
     ]
    },
    {
     "name": "stderr",
     "output_type": "stream",
     "text": [
      "INFO:tensorflow:Assets written to: C:\\Users\\n\\AppData\\Local\\Temp\\tmpdo7cw8vo\\assets\n"
     ]
    },
    {
     "name": "stdout",
     "output_type": "stream",
     "text": [
      "Epoch 1/10\n",
      "500/500 [==============================] - 2s 2ms/step - loss: 1.4119 - mse: 0.1903 - categorical_accuracy: 0.2584\n",
      "Epoch 2/10\n",
      "500/500 [==============================] - 1s 3ms/step - loss: 1.3706 - mse: 0.1855 - categorical_accuracy: 0.4171\n",
      "Epoch 3/10\n",
      "500/500 [==============================] - 1s 2ms/step - loss: 1.3221 - mse: 0.1794 - categorical_accuracy: 0.5752\n",
      "Epoch 4/10\n",
      "500/500 [==============================] - 1s 2ms/step - loss: 1.2132 - mse: 0.1658 - categorical_accuracy: 0.6234\n",
      "Epoch 5/10\n",
      "500/500 [==============================] - 1s 2ms/step - loss: 1.0863 - mse: 0.1503 - categorical_accuracy: 0.6460\n",
      "Epoch 6/10\n",
      "500/500 [==============================] - 1s 3ms/step - loss: 0.9806 - mse: 0.1367 - categorical_accuracy: 0.6506\n",
      "Epoch 7/10\n",
      "500/500 [==============================] - 1s 3ms/step - loss: 0.8933 - mse: 0.1252 - categorical_accuracy: 0.6575\n",
      "Epoch 8/10\n",
      "500/500 [==============================] - 1s 2ms/step - loss: 0.8257 - mse: 0.1168 - categorical_accuracy: 0.6604\n",
      "Epoch 9/10\n",
      "500/500 [==============================] - 1s 2ms/step - loss: 0.7789 - mse: 0.1117 - categorical_accuracy: 0.6619\n",
      "Epoch 10/10\n",
      "500/500 [==============================] - 2s 3ms/step - loss: 0.7486 - mse: 0.1089 - categorical_accuracy: 0.6622\n",
      "125/125 [==============================] - 0s 2ms/step\n",
      "INFO:tensorflow:Assets written to: C:\\Users\\n\\AppData\\Local\\Temp\\tmpgxjjl50o\\assets\n"
     ]
    },
    {
     "name": "stderr",
     "output_type": "stream",
     "text": [
      "INFO:tensorflow:Assets written to: C:\\Users\\n\\AppData\\Local\\Temp\\tmpgxjjl50o\\assets\n"
     ]
    },
    {
     "name": "stdout",
     "output_type": "stream",
     "text": [
      "Epoch 1/10\n",
      "500/500 [==============================] - 2s 2ms/step - loss: 1.4153 - mse: 0.1906 - categorical_accuracy: 0.2694\n",
      "Epoch 2/10\n",
      "500/500 [==============================] - 1s 2ms/step - loss: 1.3705 - mse: 0.1855 - categorical_accuracy: 0.4441\n",
      "Epoch 3/10\n",
      "500/500 [==============================] - 1s 2ms/step - loss: 1.3215 - mse: 0.1793 - categorical_accuracy: 0.5722\n",
      "Epoch 4/10\n",
      "500/500 [==============================] - 1s 2ms/step - loss: 1.2119 - mse: 0.1656 - categorical_accuracy: 0.6305\n",
      "Epoch 5/10\n",
      "500/500 [==============================] - 1s 2ms/step - loss: 1.0849 - mse: 0.1500 - categorical_accuracy: 0.6443\n",
      "Epoch 6/10\n",
      "500/500 [==============================] - 1s 2ms/step - loss: 0.9773 - mse: 0.1362 - categorical_accuracy: 0.6526\n",
      "Epoch 7/10\n",
      "500/500 [==============================] - 1s 2ms/step - loss: 0.8881 - mse: 0.1244 - categorical_accuracy: 0.6572\n",
      "Epoch 8/10\n",
      "500/500 [==============================] - 1s 2ms/step - loss: 0.8208 - mse: 0.1161 - categorical_accuracy: 0.6605\n",
      "Epoch 9/10\n",
      "500/500 [==============================] - 1s 2ms/step - loss: 0.7747 - mse: 0.1110 - categorical_accuracy: 0.6653\n",
      "Epoch 10/10\n",
      "500/500 [==============================] - 1s 2ms/step - loss: 0.7445 - mse: 0.1081 - categorical_accuracy: 0.6637\n",
      "125/125 [==============================] - 0s 2ms/step\n",
      "INFO:tensorflow:Assets written to: C:\\Users\\n\\AppData\\Local\\Temp\\tmp4f86tsat\\assets\n"
     ]
    },
    {
     "name": "stderr",
     "output_type": "stream",
     "text": [
      "INFO:tensorflow:Assets written to: C:\\Users\\n\\AppData\\Local\\Temp\\tmp4f86tsat\\assets\n"
     ]
    },
    {
     "name": "stdout",
     "output_type": "stream",
     "text": [
      "Epoch 1/10\n",
      "500/500 [==============================] - 2s 2ms/step - loss: 1.4127 - mse: 0.1903 - categorical_accuracy: 0.2797\n",
      "Epoch 2/10\n",
      "500/500 [==============================] - 1s 2ms/step - loss: 1.3703 - mse: 0.1855 - categorical_accuracy: 0.4142\n",
      "Epoch 3/10\n",
      "500/500 [==============================] - 1s 2ms/step - loss: 1.3215 - mse: 0.1793 - categorical_accuracy: 0.5684\n",
      "Epoch 4/10\n",
      "500/500 [==============================] - 1s 2ms/step - loss: 1.2121 - mse: 0.1657 - categorical_accuracy: 0.6238\n",
      "Epoch 5/10\n",
      "500/500 [==============================] - 1s 2ms/step - loss: 1.0869 - mse: 0.1504 - categorical_accuracy: 0.6363\n",
      "Epoch 6/10\n",
      "500/500 [==============================] - 1s 2ms/step - loss: 0.9828 - mse: 0.1371 - categorical_accuracy: 0.6503\n",
      "Epoch 7/10\n",
      "500/500 [==============================] - 1s 2ms/step - loss: 0.8954 - mse: 0.1256 - categorical_accuracy: 0.6528\n",
      "Epoch 8/10\n",
      "500/500 [==============================] - 1s 2ms/step - loss: 0.8280 - mse: 0.1172 - categorical_accuracy: 0.6578\n",
      "Epoch 9/10\n",
      "500/500 [==============================] - 1s 2ms/step - loss: 0.7813 - mse: 0.1121 - categorical_accuracy: 0.6594\n",
      "Epoch 10/10\n",
      "500/500 [==============================] - 1s 2ms/step - loss: 0.7508 - mse: 0.1093 - categorical_accuracy: 0.6584\n",
      "125/125 [==============================] - 0s 2ms/step\n",
      "INFO:tensorflow:Assets written to: C:\\Users\\n\\AppData\\Local\\Temp\\tmpwwfphpmm\\assets\n"
     ]
    },
    {
     "name": "stderr",
     "output_type": "stream",
     "text": [
      "INFO:tensorflow:Assets written to: C:\\Users\\n\\AppData\\Local\\Temp\\tmpwwfphpmm\\assets\n"
     ]
    },
    {
     "name": "stdout",
     "output_type": "stream",
     "text": [
      "Epoch 1/10\n",
      "500/500 [==============================] - 2s 2ms/step - loss: 1.4169 - mse: 0.1908 - categorical_accuracy: 0.2581\n",
      "Epoch 2/10\n",
      "500/500 [==============================] - 1s 2ms/step - loss: 1.3714 - mse: 0.1856 - categorical_accuracy: 0.4132\n",
      "Epoch 3/10\n",
      "500/500 [==============================] - 1s 2ms/step - loss: 1.3243 - mse: 0.1797 - categorical_accuracy: 0.5657\n",
      "Epoch 4/10\n",
      "500/500 [==============================] - 1s 2ms/step - loss: 1.2180 - mse: 0.1664 - categorical_accuracy: 0.6362\n",
      "Epoch 5/10\n",
      "500/500 [==============================] - 1s 2ms/step - loss: 1.0906 - mse: 0.1507 - categorical_accuracy: 0.6451\n",
      "Epoch 6/10\n",
      "500/500 [==============================] - 1s 2ms/step - loss: 0.9819 - mse: 0.1368 - categorical_accuracy: 0.6547\n",
      "Epoch 7/10\n",
      "500/500 [==============================] - 1s 2ms/step - loss: 0.8914 - mse: 0.1250 - categorical_accuracy: 0.6571\n",
      "Epoch 8/10\n",
      "500/500 [==============================] - 1s 2ms/step - loss: 0.8226 - mse: 0.1164 - categorical_accuracy: 0.6594\n",
      "Epoch 9/10\n",
      "500/500 [==============================] - 1s 2ms/step - loss: 0.7761 - mse: 0.1114 - categorical_accuracy: 0.6600\n",
      "Epoch 10/10\n",
      "500/500 [==============================] - 1s 2ms/step - loss: 0.7452 - mse: 0.1085 - categorical_accuracy: 0.6606\n",
      "125/125 [==============================] - 0s 2ms/step\n",
      "INFO:tensorflow:Assets written to: C:\\Users\\n\\AppData\\Local\\Temp\\tmp7bzhnhcp\\assets\n"
     ]
    },
    {
     "name": "stderr",
     "output_type": "stream",
     "text": [
      "INFO:tensorflow:Assets written to: C:\\Users\\n\\AppData\\Local\\Temp\\tmp7bzhnhcp\\assets\n"
     ]
    },
    {
     "name": "stdout",
     "output_type": "stream",
     "text": [
      "WARNING:tensorflow:Detecting that an object or model or tf.train.Checkpoint is being deleted with unrestored values. See the following logs for the specific values in question. To silence these warnings, use `status.expect_partial()`. See https://www.tensorflow.org/api_docs/python/tf/train/Checkpoint#restorefor details about the status object returned by the restore function.\n"
     ]
    },
    {
     "name": "stderr",
     "output_type": "stream",
     "text": [
      "WARNING:tensorflow:Detecting that an object or model or tf.train.Checkpoint is being deleted with unrestored values. See the following logs for the specific values in question. To silence these warnings, use `status.expect_partial()`. See https://www.tensorflow.org/api_docs/python/tf/train/Checkpoint#restorefor details about the status object returned by the restore function.\n"
     ]
    },
    {
     "name": "stdout",
     "output_type": "stream",
     "text": [
      "WARNING:tensorflow:Value in checkpoint could not be found in the restored object: (root).keras_api.metrics.0.total\n"
     ]
    },
    {
     "name": "stderr",
     "output_type": "stream",
     "text": [
      "WARNING:tensorflow:Value in checkpoint could not be found in the restored object: (root).keras_api.metrics.0.total\n"
     ]
    },
    {
     "name": "stdout",
     "output_type": "stream",
     "text": [
      "WARNING:tensorflow:Value in checkpoint could not be found in the restored object: (root).keras_api.metrics.0.count\n"
     ]
    },
    {
     "name": "stderr",
     "output_type": "stream",
     "text": [
      "WARNING:tensorflow:Value in checkpoint could not be found in the restored object: (root).keras_api.metrics.0.count\n"
     ]
    },
    {
     "name": "stdout",
     "output_type": "stream",
     "text": [
      "WARNING:tensorflow:Value in checkpoint could not be found in the restored object: (root).keras_api.metrics.1.total\n"
     ]
    },
    {
     "name": "stderr",
     "output_type": "stream",
     "text": [
      "WARNING:tensorflow:Value in checkpoint could not be found in the restored object: (root).keras_api.metrics.1.total\n"
     ]
    },
    {
     "name": "stdout",
     "output_type": "stream",
     "text": [
      "WARNING:tensorflow:Value in checkpoint could not be found in the restored object: (root).keras_api.metrics.1.count\n"
     ]
    },
    {
     "name": "stderr",
     "output_type": "stream",
     "text": [
      "WARNING:tensorflow:Value in checkpoint could not be found in the restored object: (root).keras_api.metrics.1.count\n"
     ]
    },
    {
     "name": "stdout",
     "output_type": "stream",
     "text": [
      "WARNING:tensorflow:Value in checkpoint could not be found in the restored object: (root).keras_api.metrics.2.total\n"
     ]
    },
    {
     "name": "stderr",
     "output_type": "stream",
     "text": [
      "WARNING:tensorflow:Value in checkpoint could not be found in the restored object: (root).keras_api.metrics.2.total\n"
     ]
    },
    {
     "name": "stdout",
     "output_type": "stream",
     "text": [
      "WARNING:tensorflow:Value in checkpoint could not be found in the restored object: (root).keras_api.metrics.2.count\n"
     ]
    },
    {
     "name": "stderr",
     "output_type": "stream",
     "text": [
      "WARNING:tensorflow:Value in checkpoint could not be found in the restored object: (root).keras_api.metrics.2.count\n"
     ]
    },
    {
     "name": "stdout",
     "output_type": "stream",
     "text": [
      "WARNING:tensorflow:Detecting that an object or model or tf.train.Checkpoint is being deleted with unrestored values. See the following logs for the specific values in question. To silence these warnings, use `status.expect_partial()`. See https://www.tensorflow.org/api_docs/python/tf/train/Checkpoint#restorefor details about the status object returned by the restore function.\n"
     ]
    },
    {
     "name": "stderr",
     "output_type": "stream",
     "text": [
      "WARNING:tensorflow:Detecting that an object or model or tf.train.Checkpoint is being deleted with unrestored values. See the following logs for the specific values in question. To silence these warnings, use `status.expect_partial()`. See https://www.tensorflow.org/api_docs/python/tf/train/Checkpoint#restorefor details about the status object returned by the restore function.\n"
     ]
    },
    {
     "name": "stdout",
     "output_type": "stream",
     "text": [
      "WARNING:tensorflow:Value in checkpoint could not be found in the restored object: (root).keras_api.metrics.0.total\n"
     ]
    },
    {
     "name": "stderr",
     "output_type": "stream",
     "text": [
      "WARNING:tensorflow:Value in checkpoint could not be found in the restored object: (root).keras_api.metrics.0.total\n"
     ]
    },
    {
     "name": "stdout",
     "output_type": "stream",
     "text": [
      "WARNING:tensorflow:Value in checkpoint could not be found in the restored object: (root).keras_api.metrics.0.count\n"
     ]
    },
    {
     "name": "stderr",
     "output_type": "stream",
     "text": [
      "WARNING:tensorflow:Value in checkpoint could not be found in the restored object: (root).keras_api.metrics.0.count\n"
     ]
    },
    {
     "name": "stdout",
     "output_type": "stream",
     "text": [
      "WARNING:tensorflow:Value in checkpoint could not be found in the restored object: (root).keras_api.metrics.1.total\n"
     ]
    },
    {
     "name": "stderr",
     "output_type": "stream",
     "text": [
      "WARNING:tensorflow:Value in checkpoint could not be found in the restored object: (root).keras_api.metrics.1.total\n"
     ]
    },
    {
     "name": "stdout",
     "output_type": "stream",
     "text": [
      "WARNING:tensorflow:Value in checkpoint could not be found in the restored object: (root).keras_api.metrics.1.count\n"
     ]
    },
    {
     "name": "stderr",
     "output_type": "stream",
     "text": [
      "WARNING:tensorflow:Value in checkpoint could not be found in the restored object: (root).keras_api.metrics.1.count\n"
     ]
    },
    {
     "name": "stdout",
     "output_type": "stream",
     "text": [
      "WARNING:tensorflow:Value in checkpoint could not be found in the restored object: (root).keras_api.metrics.2.total\n"
     ]
    },
    {
     "name": "stderr",
     "output_type": "stream",
     "text": [
      "WARNING:tensorflow:Value in checkpoint could not be found in the restored object: (root).keras_api.metrics.2.total\n"
     ]
    },
    {
     "name": "stdout",
     "output_type": "stream",
     "text": [
      "WARNING:tensorflow:Value in checkpoint could not be found in the restored object: (root).keras_api.metrics.2.count\n"
     ]
    },
    {
     "name": "stderr",
     "output_type": "stream",
     "text": [
      "WARNING:tensorflow:Value in checkpoint could not be found in the restored object: (root).keras_api.metrics.2.count\n"
     ]
    },
    {
     "name": "stdout",
     "output_type": "stream",
     "text": [
      "WARNING:tensorflow:Detecting that an object or model or tf.train.Checkpoint is being deleted with unrestored values. See the following logs for the specific values in question. To silence these warnings, use `status.expect_partial()`. See https://www.tensorflow.org/api_docs/python/tf/train/Checkpoint#restorefor details about the status object returned by the restore function.\n"
     ]
    },
    {
     "name": "stderr",
     "output_type": "stream",
     "text": [
      "WARNING:tensorflow:Detecting that an object or model or tf.train.Checkpoint is being deleted with unrestored values. See the following logs for the specific values in question. To silence these warnings, use `status.expect_partial()`. See https://www.tensorflow.org/api_docs/python/tf/train/Checkpoint#restorefor details about the status object returned by the restore function.\n"
     ]
    },
    {
     "name": "stdout",
     "output_type": "stream",
     "text": [
      "WARNING:tensorflow:Value in checkpoint could not be found in the restored object: (root).keras_api.metrics.0.total\n"
     ]
    },
    {
     "name": "stderr",
     "output_type": "stream",
     "text": [
      "WARNING:tensorflow:Value in checkpoint could not be found in the restored object: (root).keras_api.metrics.0.total\n"
     ]
    },
    {
     "name": "stdout",
     "output_type": "stream",
     "text": [
      "WARNING:tensorflow:Value in checkpoint could not be found in the restored object: (root).keras_api.metrics.0.count\n"
     ]
    },
    {
     "name": "stderr",
     "output_type": "stream",
     "text": [
      "WARNING:tensorflow:Value in checkpoint could not be found in the restored object: (root).keras_api.metrics.0.count\n"
     ]
    },
    {
     "name": "stdout",
     "output_type": "stream",
     "text": [
      "WARNING:tensorflow:Value in checkpoint could not be found in the restored object: (root).keras_api.metrics.1.total\n"
     ]
    },
    {
     "name": "stderr",
     "output_type": "stream",
     "text": [
      "WARNING:tensorflow:Value in checkpoint could not be found in the restored object: (root).keras_api.metrics.1.total\n"
     ]
    },
    {
     "name": "stdout",
     "output_type": "stream",
     "text": [
      "WARNING:tensorflow:Value in checkpoint could not be found in the restored object: (root).keras_api.metrics.1.count\n"
     ]
    },
    {
     "name": "stderr",
     "output_type": "stream",
     "text": [
      "WARNING:tensorflow:Value in checkpoint could not be found in the restored object: (root).keras_api.metrics.1.count\n"
     ]
    },
    {
     "name": "stdout",
     "output_type": "stream",
     "text": [
      "WARNING:tensorflow:Value in checkpoint could not be found in the restored object: (root).keras_api.metrics.2.total\n"
     ]
    },
    {
     "name": "stderr",
     "output_type": "stream",
     "text": [
      "WARNING:tensorflow:Value in checkpoint could not be found in the restored object: (root).keras_api.metrics.2.total\n"
     ]
    },
    {
     "name": "stdout",
     "output_type": "stream",
     "text": [
      "WARNING:tensorflow:Value in checkpoint could not be found in the restored object: (root).keras_api.metrics.2.count\n"
     ]
    },
    {
     "name": "stderr",
     "output_type": "stream",
     "text": [
      "WARNING:tensorflow:Value in checkpoint could not be found in the restored object: (root).keras_api.metrics.2.count\n"
     ]
    },
    {
     "name": "stdout",
     "output_type": "stream",
     "text": [
      "WARNING:tensorflow:Detecting that an object or model or tf.train.Checkpoint is being deleted with unrestored values. See the following logs for the specific values in question. To silence these warnings, use `status.expect_partial()`. See https://www.tensorflow.org/api_docs/python/tf/train/Checkpoint#restorefor details about the status object returned by the restore function.\n"
     ]
    },
    {
     "name": "stderr",
     "output_type": "stream",
     "text": [
      "WARNING:tensorflow:Detecting that an object or model or tf.train.Checkpoint is being deleted with unrestored values. See the following logs for the specific values in question. To silence these warnings, use `status.expect_partial()`. See https://www.tensorflow.org/api_docs/python/tf/train/Checkpoint#restorefor details about the status object returned by the restore function.\n"
     ]
    },
    {
     "name": "stdout",
     "output_type": "stream",
     "text": [
      "WARNING:tensorflow:Value in checkpoint could not be found in the restored object: (root).keras_api.metrics.0.total\n"
     ]
    },
    {
     "name": "stderr",
     "output_type": "stream",
     "text": [
      "WARNING:tensorflow:Value in checkpoint could not be found in the restored object: (root).keras_api.metrics.0.total\n"
     ]
    },
    {
     "name": "stdout",
     "output_type": "stream",
     "text": [
      "WARNING:tensorflow:Value in checkpoint could not be found in the restored object: (root).keras_api.metrics.0.count\n"
     ]
    },
    {
     "name": "stderr",
     "output_type": "stream",
     "text": [
      "WARNING:tensorflow:Value in checkpoint could not be found in the restored object: (root).keras_api.metrics.0.count\n"
     ]
    },
    {
     "name": "stdout",
     "output_type": "stream",
     "text": [
      "WARNING:tensorflow:Value in checkpoint could not be found in the restored object: (root).keras_api.metrics.1.total\n"
     ]
    },
    {
     "name": "stderr",
     "output_type": "stream",
     "text": [
      "WARNING:tensorflow:Value in checkpoint could not be found in the restored object: (root).keras_api.metrics.1.total\n"
     ]
    },
    {
     "name": "stdout",
     "output_type": "stream",
     "text": [
      "WARNING:tensorflow:Value in checkpoint could not be found in the restored object: (root).keras_api.metrics.1.count\n"
     ]
    },
    {
     "name": "stderr",
     "output_type": "stream",
     "text": [
      "WARNING:tensorflow:Value in checkpoint could not be found in the restored object: (root).keras_api.metrics.1.count\n"
     ]
    },
    {
     "name": "stdout",
     "output_type": "stream",
     "text": [
      "WARNING:tensorflow:Value in checkpoint could not be found in the restored object: (root).keras_api.metrics.2.total\n"
     ]
    },
    {
     "name": "stderr",
     "output_type": "stream",
     "text": [
      "WARNING:tensorflow:Value in checkpoint could not be found in the restored object: (root).keras_api.metrics.2.total\n"
     ]
    },
    {
     "name": "stdout",
     "output_type": "stream",
     "text": [
      "WARNING:tensorflow:Value in checkpoint could not be found in the restored object: (root).keras_api.metrics.2.count\n"
     ]
    },
    {
     "name": "stderr",
     "output_type": "stream",
     "text": [
      "WARNING:tensorflow:Value in checkpoint could not be found in the restored object: (root).keras_api.metrics.2.count\n"
     ]
    },
    {
     "name": "stdout",
     "output_type": "stream",
     "text": [
      "WARNING:tensorflow:Detecting that an object or model or tf.train.Checkpoint is being deleted with unrestored values. See the following logs for the specific values in question. To silence these warnings, use `status.expect_partial()`. See https://www.tensorflow.org/api_docs/python/tf/train/Checkpoint#restorefor details about the status object returned by the restore function.\n"
     ]
    },
    {
     "name": "stderr",
     "output_type": "stream",
     "text": [
      "WARNING:tensorflow:Detecting that an object or model or tf.train.Checkpoint is being deleted with unrestored values. See the following logs for the specific values in question. To silence these warnings, use `status.expect_partial()`. See https://www.tensorflow.org/api_docs/python/tf/train/Checkpoint#restorefor details about the status object returned by the restore function.\n"
     ]
    },
    {
     "name": "stdout",
     "output_type": "stream",
     "text": [
      "WARNING:tensorflow:Value in checkpoint could not be found in the restored object: (root).keras_api.metrics.0.total\n"
     ]
    },
    {
     "name": "stderr",
     "output_type": "stream",
     "text": [
      "WARNING:tensorflow:Value in checkpoint could not be found in the restored object: (root).keras_api.metrics.0.total\n"
     ]
    },
    {
     "name": "stdout",
     "output_type": "stream",
     "text": [
      "WARNING:tensorflow:Value in checkpoint could not be found in the restored object: (root).keras_api.metrics.0.count\n"
     ]
    },
    {
     "name": "stderr",
     "output_type": "stream",
     "text": [
      "WARNING:tensorflow:Value in checkpoint could not be found in the restored object: (root).keras_api.metrics.0.count\n"
     ]
    },
    {
     "name": "stdout",
     "output_type": "stream",
     "text": [
      "WARNING:tensorflow:Value in checkpoint could not be found in the restored object: (root).keras_api.metrics.1.total\n"
     ]
    },
    {
     "name": "stderr",
     "output_type": "stream",
     "text": [
      "WARNING:tensorflow:Value in checkpoint could not be found in the restored object: (root).keras_api.metrics.1.total\n"
     ]
    },
    {
     "name": "stdout",
     "output_type": "stream",
     "text": [
      "WARNING:tensorflow:Value in checkpoint could not be found in the restored object: (root).keras_api.metrics.1.count\n"
     ]
    },
    {
     "name": "stderr",
     "output_type": "stream",
     "text": [
      "WARNING:tensorflow:Value in checkpoint could not be found in the restored object: (root).keras_api.metrics.1.count\n"
     ]
    },
    {
     "name": "stdout",
     "output_type": "stream",
     "text": [
      "WARNING:tensorflow:Value in checkpoint could not be found in the restored object: (root).keras_api.metrics.2.total\n"
     ]
    },
    {
     "name": "stderr",
     "output_type": "stream",
     "text": [
      "WARNING:tensorflow:Value in checkpoint could not be found in the restored object: (root).keras_api.metrics.2.total\n"
     ]
    },
    {
     "name": "stdout",
     "output_type": "stream",
     "text": [
      "WARNING:tensorflow:Value in checkpoint could not be found in the restored object: (root).keras_api.metrics.2.count\n"
     ]
    },
    {
     "name": "stderr",
     "output_type": "stream",
     "text": [
      "WARNING:tensorflow:Value in checkpoint could not be found in the restored object: (root).keras_api.metrics.2.count\n"
     ]
    },
    {
     "name": "stdout",
     "output_type": "stream",
     "text": [
      "WARNING:tensorflow:Detecting that an object or model or tf.train.Checkpoint is being deleted with unrestored values. See the following logs for the specific values in question. To silence these warnings, use `status.expect_partial()`. See https://www.tensorflow.org/api_docs/python/tf/train/Checkpoint#restorefor details about the status object returned by the restore function.\n"
     ]
    },
    {
     "name": "stderr",
     "output_type": "stream",
     "text": [
      "WARNING:tensorflow:Detecting that an object or model or tf.train.Checkpoint is being deleted with unrestored values. See the following logs for the specific values in question. To silence these warnings, use `status.expect_partial()`. See https://www.tensorflow.org/api_docs/python/tf/train/Checkpoint#restorefor details about the status object returned by the restore function.\n"
     ]
    },
    {
     "name": "stdout",
     "output_type": "stream",
     "text": [
      "WARNING:tensorflow:Value in checkpoint could not be found in the restored object: (root).keras_api.metrics.0.total\n"
     ]
    },
    {
     "name": "stderr",
     "output_type": "stream",
     "text": [
      "WARNING:tensorflow:Value in checkpoint could not be found in the restored object: (root).keras_api.metrics.0.total\n"
     ]
    },
    {
     "name": "stdout",
     "output_type": "stream",
     "text": [
      "WARNING:tensorflow:Value in checkpoint could not be found in the restored object: (root).keras_api.metrics.0.count\n"
     ]
    },
    {
     "name": "stderr",
     "output_type": "stream",
     "text": [
      "WARNING:tensorflow:Value in checkpoint could not be found in the restored object: (root).keras_api.metrics.0.count\n"
     ]
    },
    {
     "name": "stdout",
     "output_type": "stream",
     "text": [
      "WARNING:tensorflow:Value in checkpoint could not be found in the restored object: (root).keras_api.metrics.1.total\n"
     ]
    },
    {
     "name": "stderr",
     "output_type": "stream",
     "text": [
      "WARNING:tensorflow:Value in checkpoint could not be found in the restored object: (root).keras_api.metrics.1.total\n"
     ]
    },
    {
     "name": "stdout",
     "output_type": "stream",
     "text": [
      "WARNING:tensorflow:Value in checkpoint could not be found in the restored object: (root).keras_api.metrics.1.count\n"
     ]
    },
    {
     "name": "stderr",
     "output_type": "stream",
     "text": [
      "WARNING:tensorflow:Value in checkpoint could not be found in the restored object: (root).keras_api.metrics.1.count\n"
     ]
    },
    {
     "name": "stdout",
     "output_type": "stream",
     "text": [
      "WARNING:tensorflow:Value in checkpoint could not be found in the restored object: (root).keras_api.metrics.2.total\n"
     ]
    },
    {
     "name": "stderr",
     "output_type": "stream",
     "text": [
      "WARNING:tensorflow:Value in checkpoint could not be found in the restored object: (root).keras_api.metrics.2.total\n"
     ]
    },
    {
     "name": "stdout",
     "output_type": "stream",
     "text": [
      "WARNING:tensorflow:Value in checkpoint could not be found in the restored object: (root).keras_api.metrics.2.count\n"
     ]
    },
    {
     "name": "stderr",
     "output_type": "stream",
     "text": [
      "WARNING:tensorflow:Value in checkpoint could not be found in the restored object: (root).keras_api.metrics.2.count\n"
     ]
    },
    {
     "name": "stdout",
     "output_type": "stream",
     "text": [
      "WARNING:tensorflow:Detecting that an object or model or tf.train.Checkpoint is being deleted with unrestored values. See the following logs for the specific values in question. To silence these warnings, use `status.expect_partial()`. See https://www.tensorflow.org/api_docs/python/tf/train/Checkpoint#restorefor details about the status object returned by the restore function.\n"
     ]
    },
    {
     "name": "stderr",
     "output_type": "stream",
     "text": [
      "WARNING:tensorflow:Detecting that an object or model or tf.train.Checkpoint is being deleted with unrestored values. See the following logs for the specific values in question. To silence these warnings, use `status.expect_partial()`. See https://www.tensorflow.org/api_docs/python/tf/train/Checkpoint#restorefor details about the status object returned by the restore function.\n"
     ]
    },
    {
     "name": "stdout",
     "output_type": "stream",
     "text": [
      "WARNING:tensorflow:Value in checkpoint could not be found in the restored object: (root).keras_api.metrics.0.total\n"
     ]
    },
    {
     "name": "stderr",
     "output_type": "stream",
     "text": [
      "WARNING:tensorflow:Value in checkpoint could not be found in the restored object: (root).keras_api.metrics.0.total\n"
     ]
    },
    {
     "name": "stdout",
     "output_type": "stream",
     "text": [
      "WARNING:tensorflow:Value in checkpoint could not be found in the restored object: (root).keras_api.metrics.0.count\n"
     ]
    },
    {
     "name": "stderr",
     "output_type": "stream",
     "text": [
      "WARNING:tensorflow:Value in checkpoint could not be found in the restored object: (root).keras_api.metrics.0.count\n"
     ]
    },
    {
     "name": "stdout",
     "output_type": "stream",
     "text": [
      "WARNING:tensorflow:Value in checkpoint could not be found in the restored object: (root).keras_api.metrics.1.total\n"
     ]
    },
    {
     "name": "stderr",
     "output_type": "stream",
     "text": [
      "WARNING:tensorflow:Value in checkpoint could not be found in the restored object: (root).keras_api.metrics.1.total\n"
     ]
    },
    {
     "name": "stdout",
     "output_type": "stream",
     "text": [
      "WARNING:tensorflow:Value in checkpoint could not be found in the restored object: (root).keras_api.metrics.1.count\n"
     ]
    },
    {
     "name": "stderr",
     "output_type": "stream",
     "text": [
      "WARNING:tensorflow:Value in checkpoint could not be found in the restored object: (root).keras_api.metrics.1.count\n"
     ]
    },
    {
     "name": "stdout",
     "output_type": "stream",
     "text": [
      "WARNING:tensorflow:Value in checkpoint could not be found in the restored object: (root).keras_api.metrics.2.total\n"
     ]
    },
    {
     "name": "stderr",
     "output_type": "stream",
     "text": [
      "WARNING:tensorflow:Value in checkpoint could not be found in the restored object: (root).keras_api.metrics.2.total\n"
     ]
    },
    {
     "name": "stdout",
     "output_type": "stream",
     "text": [
      "WARNING:tensorflow:Value in checkpoint could not be found in the restored object: (root).keras_api.metrics.2.count\n"
     ]
    },
    {
     "name": "stderr",
     "output_type": "stream",
     "text": [
      "WARNING:tensorflow:Value in checkpoint could not be found in the restored object: (root).keras_api.metrics.2.count\n"
     ]
    },
    {
     "name": "stdout",
     "output_type": "stream",
     "text": [
      "WARNING:tensorflow:Detecting that an object or model or tf.train.Checkpoint is being deleted with unrestored values. See the following logs for the specific values in question. To silence these warnings, use `status.expect_partial()`. See https://www.tensorflow.org/api_docs/python/tf/train/Checkpoint#restorefor details about the status object returned by the restore function.\n"
     ]
    },
    {
     "name": "stderr",
     "output_type": "stream",
     "text": [
      "WARNING:tensorflow:Detecting that an object or model or tf.train.Checkpoint is being deleted with unrestored values. See the following logs for the specific values in question. To silence these warnings, use `status.expect_partial()`. See https://www.tensorflow.org/api_docs/python/tf/train/Checkpoint#restorefor details about the status object returned by the restore function.\n"
     ]
    },
    {
     "name": "stdout",
     "output_type": "stream",
     "text": [
      "WARNING:tensorflow:Value in checkpoint could not be found in the restored object: (root).keras_api.metrics.0.total\n"
     ]
    },
    {
     "name": "stderr",
     "output_type": "stream",
     "text": [
      "WARNING:tensorflow:Value in checkpoint could not be found in the restored object: (root).keras_api.metrics.0.total\n"
     ]
    },
    {
     "name": "stdout",
     "output_type": "stream",
     "text": [
      "WARNING:tensorflow:Value in checkpoint could not be found in the restored object: (root).keras_api.metrics.0.count\n"
     ]
    },
    {
     "name": "stderr",
     "output_type": "stream",
     "text": [
      "WARNING:tensorflow:Value in checkpoint could not be found in the restored object: (root).keras_api.metrics.0.count\n"
     ]
    },
    {
     "name": "stdout",
     "output_type": "stream",
     "text": [
      "WARNING:tensorflow:Value in checkpoint could not be found in the restored object: (root).keras_api.metrics.1.total\n"
     ]
    },
    {
     "name": "stderr",
     "output_type": "stream",
     "text": [
      "WARNING:tensorflow:Value in checkpoint could not be found in the restored object: (root).keras_api.metrics.1.total\n"
     ]
    },
    {
     "name": "stdout",
     "output_type": "stream",
     "text": [
      "WARNING:tensorflow:Value in checkpoint could not be found in the restored object: (root).keras_api.metrics.1.count\n"
     ]
    },
    {
     "name": "stderr",
     "output_type": "stream",
     "text": [
      "WARNING:tensorflow:Value in checkpoint could not be found in the restored object: (root).keras_api.metrics.1.count\n"
     ]
    },
    {
     "name": "stdout",
     "output_type": "stream",
     "text": [
      "WARNING:tensorflow:Value in checkpoint could not be found in the restored object: (root).keras_api.metrics.2.total\n"
     ]
    },
    {
     "name": "stderr",
     "output_type": "stream",
     "text": [
      "WARNING:tensorflow:Value in checkpoint could not be found in the restored object: (root).keras_api.metrics.2.total\n"
     ]
    },
    {
     "name": "stdout",
     "output_type": "stream",
     "text": [
      "WARNING:tensorflow:Value in checkpoint could not be found in the restored object: (root).keras_api.metrics.2.count\n"
     ]
    },
    {
     "name": "stderr",
     "output_type": "stream",
     "text": [
      "WARNING:tensorflow:Value in checkpoint could not be found in the restored object: (root).keras_api.metrics.2.count\n"
     ]
    },
    {
     "name": "stdout",
     "output_type": "stream",
     "text": [
      "WARNING:tensorflow:Detecting that an object or model or tf.train.Checkpoint is being deleted with unrestored values. See the following logs for the specific values in question. To silence these warnings, use `status.expect_partial()`. See https://www.tensorflow.org/api_docs/python/tf/train/Checkpoint#restorefor details about the status object returned by the restore function.\n"
     ]
    },
    {
     "name": "stderr",
     "output_type": "stream",
     "text": [
      "WARNING:tensorflow:Detecting that an object or model or tf.train.Checkpoint is being deleted with unrestored values. See the following logs for the specific values in question. To silence these warnings, use `status.expect_partial()`. See https://www.tensorflow.org/api_docs/python/tf/train/Checkpoint#restorefor details about the status object returned by the restore function.\n"
     ]
    },
    {
     "name": "stdout",
     "output_type": "stream",
     "text": [
      "WARNING:tensorflow:Value in checkpoint could not be found in the restored object: (root).keras_api.metrics.0.total\n"
     ]
    },
    {
     "name": "stderr",
     "output_type": "stream",
     "text": [
      "WARNING:tensorflow:Value in checkpoint could not be found in the restored object: (root).keras_api.metrics.0.total\n"
     ]
    },
    {
     "name": "stdout",
     "output_type": "stream",
     "text": [
      "WARNING:tensorflow:Value in checkpoint could not be found in the restored object: (root).keras_api.metrics.0.count\n"
     ]
    },
    {
     "name": "stderr",
     "output_type": "stream",
     "text": [
      "WARNING:tensorflow:Value in checkpoint could not be found in the restored object: (root).keras_api.metrics.0.count\n"
     ]
    },
    {
     "name": "stdout",
     "output_type": "stream",
     "text": [
      "WARNING:tensorflow:Value in checkpoint could not be found in the restored object: (root).keras_api.metrics.1.total\n"
     ]
    },
    {
     "name": "stderr",
     "output_type": "stream",
     "text": [
      "WARNING:tensorflow:Value in checkpoint could not be found in the restored object: (root).keras_api.metrics.1.total\n"
     ]
    },
    {
     "name": "stdout",
     "output_type": "stream",
     "text": [
      "WARNING:tensorflow:Value in checkpoint could not be found in the restored object: (root).keras_api.metrics.1.count\n"
     ]
    },
    {
     "name": "stderr",
     "output_type": "stream",
     "text": [
      "WARNING:tensorflow:Value in checkpoint could not be found in the restored object: (root).keras_api.metrics.1.count\n"
     ]
    },
    {
     "name": "stdout",
     "output_type": "stream",
     "text": [
      "WARNING:tensorflow:Value in checkpoint could not be found in the restored object: (root).keras_api.metrics.2.total\n"
     ]
    },
    {
     "name": "stderr",
     "output_type": "stream",
     "text": [
      "WARNING:tensorflow:Value in checkpoint could not be found in the restored object: (root).keras_api.metrics.2.total\n"
     ]
    },
    {
     "name": "stdout",
     "output_type": "stream",
     "text": [
      "WARNING:tensorflow:Value in checkpoint could not be found in the restored object: (root).keras_api.metrics.2.count\n"
     ]
    },
    {
     "name": "stderr",
     "output_type": "stream",
     "text": [
      "WARNING:tensorflow:Value in checkpoint could not be found in the restored object: (root).keras_api.metrics.2.count\n"
     ]
    },
    {
     "name": "stdout",
     "output_type": "stream",
     "text": [
      "WARNING:tensorflow:Detecting that an object or model or tf.train.Checkpoint is being deleted with unrestored values. See the following logs for the specific values in question. To silence these warnings, use `status.expect_partial()`. See https://www.tensorflow.org/api_docs/python/tf/train/Checkpoint#restorefor details about the status object returned by the restore function.\n"
     ]
    },
    {
     "name": "stderr",
     "output_type": "stream",
     "text": [
      "WARNING:tensorflow:Detecting that an object or model or tf.train.Checkpoint is being deleted with unrestored values. See the following logs for the specific values in question. To silence these warnings, use `status.expect_partial()`. See https://www.tensorflow.org/api_docs/python/tf/train/Checkpoint#restorefor details about the status object returned by the restore function.\n"
     ]
    },
    {
     "name": "stdout",
     "output_type": "stream",
     "text": [
      "WARNING:tensorflow:Value in checkpoint could not be found in the restored object: (root).keras_api.metrics.0.total\n"
     ]
    },
    {
     "name": "stderr",
     "output_type": "stream",
     "text": [
      "WARNING:tensorflow:Value in checkpoint could not be found in the restored object: (root).keras_api.metrics.0.total\n"
     ]
    },
    {
     "name": "stdout",
     "output_type": "stream",
     "text": [
      "WARNING:tensorflow:Value in checkpoint could not be found in the restored object: (root).keras_api.metrics.0.count\n"
     ]
    },
    {
     "name": "stderr",
     "output_type": "stream",
     "text": [
      "WARNING:tensorflow:Value in checkpoint could not be found in the restored object: (root).keras_api.metrics.0.count\n"
     ]
    },
    {
     "name": "stdout",
     "output_type": "stream",
     "text": [
      "WARNING:tensorflow:Value in checkpoint could not be found in the restored object: (root).keras_api.metrics.1.total\n"
     ]
    },
    {
     "name": "stderr",
     "output_type": "stream",
     "text": [
      "WARNING:tensorflow:Value in checkpoint could not be found in the restored object: (root).keras_api.metrics.1.total\n"
     ]
    },
    {
     "name": "stdout",
     "output_type": "stream",
     "text": [
      "WARNING:tensorflow:Value in checkpoint could not be found in the restored object: (root).keras_api.metrics.1.count\n"
     ]
    },
    {
     "name": "stderr",
     "output_type": "stream",
     "text": [
      "WARNING:tensorflow:Value in checkpoint could not be found in the restored object: (root).keras_api.metrics.1.count\n"
     ]
    },
    {
     "name": "stdout",
     "output_type": "stream",
     "text": [
      "WARNING:tensorflow:Value in checkpoint could not be found in the restored object: (root).keras_api.metrics.2.total\n"
     ]
    },
    {
     "name": "stderr",
     "output_type": "stream",
     "text": [
      "WARNING:tensorflow:Value in checkpoint could not be found in the restored object: (root).keras_api.metrics.2.total\n"
     ]
    },
    {
     "name": "stdout",
     "output_type": "stream",
     "text": [
      "WARNING:tensorflow:Value in checkpoint could not be found in the restored object: (root).keras_api.metrics.2.count\n"
     ]
    },
    {
     "name": "stderr",
     "output_type": "stream",
     "text": [
      "WARNING:tensorflow:Value in checkpoint could not be found in the restored object: (root).keras_api.metrics.2.count\n"
     ]
    },
    {
     "name": "stdout",
     "output_type": "stream",
     "text": [
      "Epoch 1/10\n",
      "500/500 [==============================] - 2s 2ms/step - loss: 1.4167 - mse: 0.1908 - categorical_accuracy: 0.2694\n",
      "Epoch 2/10\n",
      "500/500 [==============================] - 1s 2ms/step - loss: 1.3711 - mse: 0.1856 - categorical_accuracy: 0.4540\n",
      "Epoch 3/10\n",
      "500/500 [==============================] - 1s 2ms/step - loss: 1.3225 - mse: 0.1795 - categorical_accuracy: 0.5725\n",
      "Epoch 4/10\n",
      "500/500 [==============================] - 1s 2ms/step - loss: 1.2134 - mse: 0.1659 - categorical_accuracy: 0.6246\n",
      "Epoch 5/10\n",
      "500/500 [==============================] - 1s 2ms/step - loss: 1.0851 - mse: 0.1501 - categorical_accuracy: 0.6499\n",
      "Epoch 6/10\n",
      "500/500 [==============================] - 1s 2ms/step - loss: 0.9770 - mse: 0.1363 - categorical_accuracy: 0.6531\n",
      "Epoch 7/10\n",
      "500/500 [==============================] - 1s 2ms/step - loss: 0.8871 - mse: 0.1243 - categorical_accuracy: 0.6599\n",
      "Epoch 8/10\n",
      "500/500 [==============================] - 1s 2ms/step - loss: 0.8191 - mse: 0.1160 - categorical_accuracy: 0.6599\n",
      "Epoch 9/10\n",
      "500/500 [==============================] - 1s 2ms/step - loss: 0.7734 - mse: 0.1110 - categorical_accuracy: 0.6637\n",
      "Epoch 10/10\n",
      "500/500 [==============================] - 1s 2ms/step - loss: 0.7434 - mse: 0.1082 - categorical_accuracy: 0.6636\n",
      "125/125 [==============================] - 0s 2ms/step\n"
     ]
    },
    {
     "data": {
      "text/plain": [
       "[array([0.98675, 0.98975, 0.98125, 0.98375, 0.981  ]),\n",
       " array([0.97875, 0.981  , 0.9865 , 0.98825, 0.98575]),\n",
       " array([0.67025, 0.6775 , 0.67475, 0.66075, 0.6715 ]),\n",
       " array([0.98   , 0.97575, 0.9735 , 0.97225, 0.976  ]),\n",
       " array([0.91975, 0.91575, 0.9175 , 0.922  , 0.914  ]),\n",
       " array([0.6645 , 0.6605 , 0.67225, 0.6575 , 0.65475])]"
      ]
     },
     "execution_count": 40,
     "metadata": {},
     "output_type": "execute_result"
    }
   ],
   "source": [
    "create_model_with_16unites = create_model_with_16Unites()\n",
    "create_model_with_8unites = create_model_with_8Unites()\n",
    "create_model_with_4unites = create_model_with_4Unites()\n",
    "create_model_with_16unites_and_sigmoid = create_model_with_16Unites_and_sigmoid()\n",
    "create_model_with_8unites_and_sigmoid = create_model_with_8Unites_and_sigmoid()\n",
    "create_model_with_4unites_and_sigmoid = create_model_with_4Unites_and_sigmoid()\n",
    "\n",
    "\n",
    "models_scores = Cross_validation_toAll_models([\n",
    "    create_model_with_16unites,\n",
    "    create_model_with_8unites,\n",
    "    create_model_with_4unites,\n",
    "    create_model_with_16unites_and_sigmoid,\n",
    "    create_model_with_8unites_and_sigmoid,\n",
    "    create_model_with_4unites_and_sigmoid\n",
    "    \n",
    "])\n",
    "models_scores"
   ]
  },
  {
   "cell_type": "code",
   "execution_count": 42,
   "id": "ac6a85b4",
   "metadata": {},
   "outputs": [
    {
     "name": "stdout",
     "output_type": "stream",
     "text": [
      "[0.98675 0.98975 0.98125 0.98375 0.981  ]\n",
      "[0.97875 0.981   0.9865  0.98825 0.98575]\n",
      "[0.67025 0.6775  0.67475 0.66075 0.6715 ]\n",
      "[0.98    0.97575 0.9735  0.97225 0.976  ]\n",
      "[0.91975 0.91575 0.9175  0.922   0.914  ]\n",
      "[0.6645  0.6605  0.67225 0.6575  0.65475]\n"
     ]
    },
    {
     "data": {
      "text/plain": [
       "array([[0.9845 ],\n",
       "       [0.98405],\n",
       "       [0.67095],\n",
       "       [0.9755 ],\n",
       "       [0.9178 ],\n",
       "       [0.6619 ]])"
      ]
     },
     "execution_count": 42,
     "metadata": {},
     "output_type": "execute_result"
    }
   ],
   "source": [
    "for x in models_scores:\n",
    "    print(x)\n",
    "np.mean(models_scores ,axis=1).reshape(-1,1)"
   ]
  },
  {
   "cell_type": "markdown",
   "id": "9aab2af3",
   "metadata": {},
   "source": [
    "# Saving the Model for the next uses"
   ]
  },
  {
   "cell_type": "code",
   "execution_count": 1,
   "id": "c59c8510",
   "metadata": {},
   "outputs": [],
   "source": [
    "import joblib as jb"
   ]
  },
  {
   "cell_type": "code",
   "execution_count": 51,
   "id": "987c131e",
   "metadata": {},
   "outputs": [
    {
     "name": "stdout",
     "output_type": "stream",
     "text": [
      "INFO:tensorflow:Assets written to: C:\\Users\\n\\AppData\\Local\\Temp\\tmpu0s20otc\\assets\n"
     ]
    },
    {
     "name": "stderr",
     "output_type": "stream",
     "text": [
      "INFO:tensorflow:Assets written to: C:\\Users\\n\\AppData\\Local\\Temp\\tmpu0s20otc\\assets\n"
     ]
    },
    {
     "data": {
      "text/plain": [
       "['car_sensor_model.joblib']"
      ]
     },
     "execution_count": 51,
     "metadata": {},
     "output_type": "execute_result"
    }
   ],
   "source": [
    "jb.dump(model ,'car_sensor_model.joblib')"
   ]
  },
  {
   "cell_type": "code",
   "execution_count": 52,
   "id": "c04f2cfb",
   "metadata": {},
   "outputs": [
    {
     "name": "stdout",
     "output_type": "stream",
     "text": [
      "<class 'keras.src.engine.sequential.Sequential'>\n",
      "<keras.src.engine.sequential.Sequential object at 0x000001BA68AAEC50>\n"
     ]
    }
   ],
   "source": [
    "car_sensor = jb.load('car_sensor_model.joblib')\n",
    "print(type(car_sensor))\n",
    "print(car_sensor)"
   ]
  },
  {
   "cell_type": "code",
   "execution_count": 72,
   "id": "970dabe1",
   "metadata": {},
   "outputs": [
    {
     "name": "stdout",
     "output_type": "stream",
     "text": [
      "model_with_16unites-relu- ::: \n",
      "INFO:tensorflow:Assets written to: C:\\Users\\n\\AppData\\Local\\Temp\\tmpsmc6d6uy\\assets\n"
     ]
    },
    {
     "name": "stderr",
     "output_type": "stream",
     "text": [
      "INFO:tensorflow:Assets written to: C:\\Users\\n\\AppData\\Local\\Temp\\tmpsmc6d6uy\\assets\n"
     ]
    },
    {
     "name": "stdout",
     "output_type": "stream",
     "text": [
      "model_with_8unites-relu- ::: \n",
      "INFO:tensorflow:Assets written to: C:\\Users\\n\\AppData\\Local\\Temp\\tmp3j8le_hg\\assets\n"
     ]
    },
    {
     "name": "stderr",
     "output_type": "stream",
     "text": [
      "INFO:tensorflow:Assets written to: C:\\Users\\n\\AppData\\Local\\Temp\\tmp3j8le_hg\\assets\n"
     ]
    },
    {
     "name": "stdout",
     "output_type": "stream",
     "text": [
      "model_with_4unites-relu ::: \n",
      "INFO:tensorflow:Assets written to: C:\\Users\\n\\AppData\\Local\\Temp\\tmp3dv3yow5\\assets\n"
     ]
    },
    {
     "name": "stderr",
     "output_type": "stream",
     "text": [
      "INFO:tensorflow:Assets written to: C:\\Users\\n\\AppData\\Local\\Temp\\tmp3dv3yow5\\assets\n"
     ]
    },
    {
     "name": "stdout",
     "output_type": "stream",
     "text": [
      "model_with_16unites-sigmoid- ::: \n",
      "INFO:tensorflow:Assets written to: C:\\Users\\n\\AppData\\Local\\Temp\\tmpi01q3r6l\\assets\n"
     ]
    },
    {
     "name": "stderr",
     "output_type": "stream",
     "text": [
      "INFO:tensorflow:Assets written to: C:\\Users\\n\\AppData\\Local\\Temp\\tmpi01q3r6l\\assets\n"
     ]
    },
    {
     "name": "stdout",
     "output_type": "stream",
     "text": [
      "model_with_8unites-sigmoid- ::: \n",
      "INFO:tensorflow:Assets written to: C:\\Users\\n\\AppData\\Local\\Temp\\tmpq_d49zer\\assets\n"
     ]
    },
    {
     "name": "stderr",
     "output_type": "stream",
     "text": [
      "INFO:tensorflow:Assets written to: C:\\Users\\n\\AppData\\Local\\Temp\\tmpq_d49zer\\assets\n"
     ]
    },
    {
     "name": "stdout",
     "output_type": "stream",
     "text": [
      "model_with_4unites-sigmoid- ::: \n",
      "INFO:tensorflow:Assets written to: C:\\Users\\n\\AppData\\Local\\Temp\\tmp4dphgtun\\assets\n"
     ]
    },
    {
     "name": "stderr",
     "output_type": "stream",
     "text": [
      "INFO:tensorflow:Assets written to: C:\\Users\\n\\AppData\\Local\\Temp\\tmp4dphgtun\\assets\n"
     ]
    }
   ],
   "source": [
    "for name in models_after_cross_v:\n",
    "    print(name +\" ::: \")\n",
    "    jb.dump(models_after_cross_v[name] ,name+'.joblib')"
   ]
  },
  {
   "cell_type": "code",
   "execution_count": 73,
   "id": "766381a9",
   "metadata": {},
   "outputs": [
    {
     "name": "stdout",
     "output_type": "stream",
     "text": [
      "model_with_16unites-relu- ::: \n",
      "model_with_8unites-relu- ::: \n",
      "model_with_4unites-relu ::: \n",
      "model_with_16unites-sigmoid- ::: \n",
      "model_with_8unites-sigmoid- ::: \n",
      "model_with_4unites-sigmoid- ::: \n"
     ]
    }
   ],
   "source": [
    "models_after_load = {}\n",
    "for name in models_after_cross_v:\n",
    "    print(name +\" ::: \")\n",
    "    models_after_load[name] = jb.load(name+'.joblib')"
   ]
  },
  {
   "cell_type": "code",
   "execution_count": 55,
   "id": "565ec295",
   "metadata": {},
   "outputs": [],
   "source": [
    "# from sklearn.model_selection import GridSearchCV\n",
    "# from sklearn.model_selection import StratifiedKFold\n",
    "# def create_model_II(units=16, num_layers=2 ,lr=0.001):\n",
    "#     model = Sequential()\n",
    "#     model.add(L.Input(shape=(4,)))\n",
    "\n",
    "#     # Add additional hidden layers if num_layers is greater than 1\n",
    "#     for _ in range(num_layers - 1):\n",
    "#         model.add(L.Dense(units=units, activation='relu'))\n",
    "\n",
    "#     model.add(L.Dense(units=4, activation='softmax'))\n",
    "\n",
    "#     model.compile(\n",
    "#         optimizer=tf.keras.optimizers.Adam(learning_rate=lr),\n",
    "#         loss=tf.keras.losses.CategoricalCrossentropy(),\n",
    "#         metrics=['mse', 'categorical_accuracy']\n",
    "#     )\n",
    "    \n",
    "#     return model\n",
    "\n",
    "# # # Define the hyperparameters grid for the grid search\n",
    "# # param_grid = {\n",
    "# #     'units_1': [8, 16, 32],\n",
    "# #     'num_layers': [2, 4, 6],\n",
    "# #     'learning_rate': [0.001, 0.01, 0.1]\n",
    "# # }\n",
    "# # # Create the GridSearchCV object\n",
    "# # grid = GridSearchCV(estimator=model, param_grid=param_grid, cv=StratifiedKFold(n_splits=5), scoring='accuracy')\n",
    "\n",
    "# # grid_result = grid.fit(x_train, y_train)\n",
    "\n",
    "# # # Print the best parameters and corresponding accuracy\n",
    "# # print(\"Best parameters: \", grid_result.best_params_)\n",
    "# # print(\"Best accuracy: \", grid_result.best_score_)"
   ]
  },
  {
   "cell_type": "code",
   "execution_count": 56,
   "id": "f2de0b3b",
   "metadata": {},
   "outputs": [],
   "source": [
    "# param_grid = {\n",
    "# #     'learning_rate': [0.001, 0.01, 0.1],\n",
    "#     'units': [4, 8, 16, 32, 64],\n",
    "#     'num_layers': [1, 2, 3],\n",
    "# #     \"epochs\":10\n",
    "# #     'optimizer': ['adam', 'rmsprop', 'sgd']\n",
    "# }"
   ]
  },
  {
   "cell_type": "code",
   "execution_count": 57,
   "id": "d996e17c",
   "metadata": {},
   "outputs": [],
   "source": [
    "# # grid = GridSearchCV(estimator=model_II, param_grid=param_grid, cv=10, scoring='accuracy',num_layers = 2)\n",
    "# grid = GridSearchCV(estimator = model_II ,param_grid = param_grid, cv=10 )"
   ]
  },
  {
   "cell_type": "code",
   "execution_count": 58,
   "id": "21ac396a",
   "metadata": {},
   "outputs": [],
   "source": [
    "# grid_result = grid.fit(x_train, y_train)"
   ]
  },
  {
   "cell_type": "code",
   "execution_count": 59,
   "id": "405d0734",
   "metadata": {},
   "outputs": [],
   "source": [
    "# grid_result"
   ]
  }
 ],
 "metadata": {
  "kernelspec": {
   "display_name": "Python 3 (ipykernel)",
   "language": "python",
   "name": "python3"
  },
  "language_info": {
   "codemirror_mode": {
    "name": "ipython",
    "version": 3
   },
   "file_extension": ".py",
   "mimetype": "text/x-python",
   "name": "python",
   "nbconvert_exporter": "python",
   "pygments_lexer": "ipython3",
   "version": "3.11.5"
  }
 },
 "nbformat": 4,
 "nbformat_minor": 5
}
