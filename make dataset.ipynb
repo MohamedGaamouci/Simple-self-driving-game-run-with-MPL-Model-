{
 "cells": [
  {
   "cell_type": "code",
   "execution_count": 16,
   "id": "c58d5b5c",
   "metadata": {},
   "outputs": [],
   "source": [
    "import numpy as np\n",
    "import pandas as pd\n",
    "import matplotlib.pyplot as plt"
   ]
  },
  {
   "cell_type": "code",
   "execution_count": null,
   "id": "1e45b965",
   "metadata": {},
   "outputs": [],
   "source": []
  },
  {
   "cell_type": "code",
   "execution_count": 17,
   "id": "f760333e",
   "metadata": {},
   "outputs": [
    {
     "name": "stdout",
     "output_type": "stream",
     "text": [
      "(100000, 5)\n"
     ]
    }
   ],
   "source": [
    "np.random.seed(42)  # Set a seed for reproducibility\n",
    "\n",
    "# Generate synthetic data\n",
    "num_samples = 100000\n",
    "front_distances = np.random.uniform(0, 300, num_samples)\n",
    "back_distances  = np.random.uniform(0, 300, num_samples)\n",
    "left_distances  = np.random.uniform(0, 300, num_samples)\n",
    "right_distances = np.random.uniform(0, 300, num_samples)\n",
    "\n",
    "# Simulate actions based on conditions\n",
    "actions = []\n",
    "for i in range(num_samples):\n",
    "    max_distance = max(front_distances[i], right_distances[i], left_distances[i], back_distances[i])\n",
    "\n",
    "    if front_distances[i] == max_distance:\n",
    "        actions.append(\"advance\")\n",
    "    elif right_distances[i] == max_distance:\n",
    "        actions.append(\"turn_right\")\n",
    "    elif left_distances[i] == max_distance:\n",
    "        actions.append(\"turn_left\")\n",
    "    elif back_distances[i] == max_distance:\n",
    "        actions.append(\"retreat\")\n",
    "\n",
    "\n",
    "# Create a DataFrame\n",
    "data = pd.DataFrame({\n",
    "    'front_distance': front_distances,\n",
    "    'back_distance': back_distances,\n",
    "    'left_distance': left_distances,\n",
    "    'right_distance': right_distances,\n",
    "    'action': actions\n",
    "})\n",
    "\n",
    "\n",
    "print(data.shape)\n",
    "\n",
    "\n",
    "# Save to CSV\n",
    "data.to_csv(r'C:\\Users\\n\\Desktop\\robot_dataset.csv')\n"
   ]
  },
  {
   "cell_type": "code",
   "execution_count": 18,
   "id": "bda839b5",
   "metadata": {},
   "outputs": [
    {
     "name": "stdout",
     "output_type": "stream",
     "text": [
      "(90000, 1)\n",
      "(10000, 1)\n"
     ]
    },
    {
     "name": "stderr",
     "output_type": "stream",
     "text": [
      "C:\\Users\\n\\AppData\\Local\\Temp\\ipykernel_17744\\2905747164.py:12: SettingWithCopyWarning: \n",
      "A value is trying to be set on a copy of a slice from a DataFrame.\n",
      "Try using .loc[row_indexer,col_indexer] = value instead\n",
      "\n",
      "See the caveats in the documentation: https://pandas.pydata.org/pandas-docs/stable/user_guide/indexing.html#returning-a-view-versus-a-copy\n",
      "  Y[Y=='advance']=1\n",
      "C:\\Users\\n\\AppData\\Local\\Temp\\ipykernel_17744\\2905747164.py:12: SettingWithCopyWarning: \n",
      "A value is trying to be set on a copy of a slice from a DataFrame\n",
      "\n",
      "See the caveats in the documentation: https://pandas.pydata.org/pandas-docs/stable/user_guide/indexing.html#returning-a-view-versus-a-copy\n",
      "  Y[Y=='advance']=1\n",
      "C:\\Users\\n\\AppData\\Local\\Temp\\ipykernel_17744\\2905747164.py:13: SettingWithCopyWarning: \n",
      "A value is trying to be set on a copy of a slice from a DataFrame.\n",
      "Try using .loc[row_indexer,col_indexer] = value instead\n",
      "\n",
      "See the caveats in the documentation: https://pandas.pydata.org/pandas-docs/stable/user_guide/indexing.html#returning-a-view-versus-a-copy\n",
      "  Y[Y=='turn_left']=2\n",
      "C:\\Users\\n\\AppData\\Local\\Temp\\ipykernel_17744\\2905747164.py:13: SettingWithCopyWarning: \n",
      "A value is trying to be set on a copy of a slice from a DataFrame\n",
      "\n",
      "See the caveats in the documentation: https://pandas.pydata.org/pandas-docs/stable/user_guide/indexing.html#returning-a-view-versus-a-copy\n",
      "  Y[Y=='turn_left']=2\n",
      "C:\\Users\\n\\AppData\\Local\\Temp\\ipykernel_17744\\2905747164.py:14: SettingWithCopyWarning: \n",
      "A value is trying to be set on a copy of a slice from a DataFrame.\n",
      "Try using .loc[row_indexer,col_indexer] = value instead\n",
      "\n",
      "See the caveats in the documentation: https://pandas.pydata.org/pandas-docs/stable/user_guide/indexing.html#returning-a-view-versus-a-copy\n",
      "  Y[Y=='turn_right']=3\n",
      "C:\\Users\\n\\AppData\\Local\\Temp\\ipykernel_17744\\2905747164.py:14: SettingWithCopyWarning: \n",
      "A value is trying to be set on a copy of a slice from a DataFrame\n",
      "\n",
      "See the caveats in the documentation: https://pandas.pydata.org/pandas-docs/stable/user_guide/indexing.html#returning-a-view-versus-a-copy\n",
      "  Y[Y=='turn_right']=3\n",
      "C:\\Users\\n\\AppData\\Local\\Temp\\ipykernel_17744\\2905747164.py:15: SettingWithCopyWarning: \n",
      "A value is trying to be set on a copy of a slice from a DataFrame.\n",
      "Try using .loc[row_indexer,col_indexer] = value instead\n",
      "\n",
      "See the caveats in the documentation: https://pandas.pydata.org/pandas-docs/stable/user_guide/indexing.html#returning-a-view-versus-a-copy\n",
      "  Y[Y=='retreat']=4\n",
      "C:\\Users\\n\\AppData\\Local\\Temp\\ipykernel_17744\\2905747164.py:15: SettingWithCopyWarning: \n",
      "A value is trying to be set on a copy of a slice from a DataFrame\n",
      "\n",
      "See the caveats in the documentation: https://pandas.pydata.org/pandas-docs/stable/user_guide/indexing.html#returning-a-view-versus-a-copy\n",
      "  Y[Y=='retreat']=4\n"
     ]
    },
    {
     "data": {
      "text/plain": [
       "<module 'matplotlib.pyplot' from 'D:\\\\Anaconda\\\\Lib\\\\site-packages\\\\matplotlib\\\\pyplot.py'>"
      ]
     },
     "execution_count": 18,
     "metadata": {},
     "output_type": "execute_result"
    }
   ],
   "source": [
    "# df = pd.read_excel(r'C:\\Users\\n\\Desktop\\robot_dataset.xlsx')\n",
    "output_code = {\n",
    "    'advance':1,\n",
    "    'turn_left':2,\n",
    "    'turn_right':3,\n",
    "    'retreat':4\n",
    "}\n",
    "\n",
    "X_train =np.array(data.iloc[:90000,:4] ,dtype=float)\n",
    "X_test =np.array(data.iloc[90000:100000 ,:4],dtype=float)\n",
    "Y = data.iloc[:,4:5]\n",
    "Y[Y=='advance']=1\n",
    "Y[Y=='turn_left']=2\n",
    "Y[Y=='turn_right']=3\n",
    "Y[Y=='retreat']=4\n",
    "Y_train = np.array(Y.iloc[:90000,:] ,dtype=float)\n",
    "Y_test = np.array(Y.iloc[90000:100000,:],dtype=float)\n",
    "print(Y_train.shape)\n",
    "print(Y_test.shape)\n",
    "plt"
   ]
  },
  {
   "cell_type": "code",
   "execution_count": 19,
   "id": "45a44687",
   "metadata": {},
   "outputs": [
    {
     "data": {
      "text/plain": [
       "(array([22496.,     0.,     0., 22587.,     0.,     0., 22420.,     0.,\n",
       "            0., 22497.]),\n",
       " array([1. , 1.3, 1.6, 1.9, 2.2, 2.5, 2.8, 3.1, 3.4, 3.7, 4. ]),\n",
       " <BarContainer object of 10 artists>)"
      ]
     },
     "execution_count": 19,
     "metadata": {},
     "output_type": "execute_result"
    },
    {
     "data": {
      "image/png": "[encoded data removed]",
      "text/plain": [
       "<Figure size 640x480 with 1 Axes>"
      ]
     },
     "metadata": {},
     "output_type": "display_data"
    }
   ],
   "source": [
    "plt.hist(Y_train)"
   ]
  },
  {
   "cell_type": "code",
   "execution_count": 20,
   "id": "b691b125",
   "metadata": {},
   "outputs": [
    {
     "name": "stdout",
     "output_type": "stream",
     "text": [
      "(90000, 1)\n",
      "(90000, 1)\n"
     ]
    },
    {
     "data": {
      "text/plain": [
       "<matplotlib.collections.PathCollection at 0x2dc82a1d890>"
      ]
     },
     "execution_count": 20,
     "metadata": {},
     "output_type": "execute_result"
    },
    {
     "data": {
      "image/png": "[encoded data removed]",
      "text/plain": [
       "<Figure size 640x480 with 1 Axes>"
      ]
     },
     "metadata": {},
     "output_type": "display_data"
    }
   ],
   "source": [
    "print(X_train[:,:1].shape)\n",
    "print(Y_train.shape)\n",
    "plt.scatter(X_train[:,2:3],Y_train , label='Scatter Plot')"
   ]
  }
 ],
 "metadata": {
  "kernelspec": {
   "display_name": "Python 3 (ipykernel)",
   "language": "python",
   "name": "python3"
  },
  "language_info": {
   "codemirror_mode": {
    "name": "ipython",
    "version": 3
   },
   "file_extension": ".py",
   "mimetype": "text/x-python",
   "name": "python",
   "nbconvert_exporter": "python",
   "pygments_lexer": "ipython3",
   "version": "3.11.5"
  }
 },
 "nbformat": 4,
 "nbformat_minor": 5
}
